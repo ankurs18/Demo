{
 "cells": [
  {
   "cell_type": "code",
   "execution_count": 779,
   "metadata": {},
   "outputs": [
    {
     "name": "stdout",
     "output_type": "stream",
     "text": [
      "<class 'pandas.core.frame.DataFrame'>\n",
      "RangeIndex: 1460 entries, 0 to 1459\n",
      "Data columns (total 81 columns):\n",
      "Id               1460 non-null int64\n",
      "MSSubClass       1460 non-null int64\n",
      "MSZoning         1460 non-null object\n",
      "LotFrontage      1201 non-null float64\n",
      "LotArea          1460 non-null int64\n",
      "Street           1460 non-null object\n",
      "Alley            91 non-null object\n",
      "LotShape         1460 non-null object\n",
      "LandContour      1460 non-null object\n",
      "Utilities        1460 non-null object\n",
      "LotConfig        1460 non-null object\n",
      "LandSlope        1460 non-null object\n",
      "Neighborhood     1460 non-null object\n",
      "Condition1       1460 non-null object\n",
      "Condition2       1460 non-null object\n",
      "BldgType         1460 non-null object\n",
      "HouseStyle       1460 non-null object\n",
      "OverallQual      1460 non-null int64\n",
      "OverallCond      1460 non-null int64\n",
      "YearBuilt        1460 non-null int64\n",
      "YearRemodAdd     1460 non-null int64\n",
      "RoofStyle        1460 non-null object\n",
      "RoofMatl         1460 non-null object\n",
      "Exterior1st      1460 non-null object\n",
      "Exterior2nd      1460 non-null object\n",
      "MasVnrType       1452 non-null object\n",
      "MasVnrArea       1452 non-null float64\n",
      "ExterQual        1460 non-null object\n",
      "ExterCond        1460 non-null object\n",
      "Foundation       1460 non-null object\n",
      "BsmtQual         1423 non-null object\n",
      "BsmtCond         1423 non-null object\n",
      "BsmtExposure     1422 non-null object\n",
      "BsmtFinType1     1423 non-null object\n",
      "BsmtFinSF1       1460 non-null int64\n",
      "BsmtFinType2     1422 non-null object\n",
      "BsmtFinSF2       1460 non-null int64\n",
      "BsmtUnfSF        1460 non-null int64\n",
      "TotalBsmtSF      1460 non-null int64\n",
      "Heating          1460 non-null object\n",
      "HeatingQC        1460 non-null object\n",
      "CentralAir       1460 non-null object\n",
      "Electrical       1459 non-null object\n",
      "1stFlrSF         1460 non-null int64\n",
      "2ndFlrSF         1460 non-null int64\n",
      "LowQualFinSF     1460 non-null int64\n",
      "GrLivArea        1460 non-null int64\n",
      "BsmtFullBath     1460 non-null int64\n",
      "BsmtHalfBath     1460 non-null int64\n",
      "FullBath         1460 non-null int64\n",
      "HalfBath         1460 non-null int64\n",
      "BedroomAbvGr     1460 non-null int64\n",
      "KitchenAbvGr     1460 non-null int64\n",
      "KitchenQual      1460 non-null object\n",
      "TotRmsAbvGrd     1460 non-null int64\n",
      "Functional       1460 non-null object\n",
      "Fireplaces       1460 non-null int64\n",
      "FireplaceQu      770 non-null object\n",
      "GarageType       1379 non-null object\n",
      "GarageYrBlt      1379 non-null float64\n",
      "GarageFinish     1379 non-null object\n",
      "GarageCars       1460 non-null int64\n",
      "GarageArea       1460 non-null int64\n",
      "GarageQual       1379 non-null object\n",
      "GarageCond       1379 non-null object\n",
      "PavedDrive       1460 non-null object\n",
      "WoodDeckSF       1460 non-null int64\n",
      "OpenPorchSF      1460 non-null int64\n",
      "EnclosedPorch    1460 non-null int64\n",
      "3SsnPorch        1460 non-null int64\n",
      "ScreenPorch      1460 non-null int64\n",
      "PoolArea         1460 non-null int64\n",
      "PoolQC           7 non-null object\n",
      "Fence            281 non-null object\n",
      "MiscFeature      54 non-null object\n",
      "MiscVal          1460 non-null int64\n",
      "MoSold           1460 non-null int64\n",
      "YrSold           1460 non-null int64\n",
      "SaleType         1460 non-null object\n",
      "SaleCondition    1460 non-null object\n",
      "SalePrice        1460 non-null int64\n",
      "dtypes: float64(3), int64(35), object(43)\n",
      "memory usage: 924.0+ KB\n"
     ]
    }
   ],
   "source": [
    "import pandas as pd\n",
    "import matplotlib.pyplot as plt\n",
    "import seaborn as sns\n",
    "import numpy as np\n",
    "%matplotlib inline\n",
    "sns.set(style=\"whitegrid\", palette=\"muted\")\n",
    "df = pd.read_csv('train.csv')\n",
    "df.info()\n",
    "test = pd.read_csv('test.csv')"
   ]
  },
  {
   "cell_type": "code",
   "execution_count": 639,
   "metadata": {},
   "outputs": [],
   "source": [
    "df = pd.concat([df,test],ignore_index= True)\n",
    "\n",
    "#df[1458:][['Id','SalePrice']]\n",
    "#sns.swarmplot(x= 'GrLivArea', y = 'SalePrice', data = df, hue = 'LandContour')  v        "
   ]
  },
  {
   "cell_type": "code",
   "execution_count": 640,
   "metadata": {
    "collapsed": true
   },
   "outputs": [],
   "source": [
    "#sns.swarmplot(x= 'SalePrice', y = 'SalePrice', data = df, hue='LotConfig')\n",
    "#plt.tight_layout()"
   ]
  },
  {
   "cell_type": "code",
   "execution_count": 780,
   "metadata": {},
   "outputs": [
    {
     "name": "stdout",
     "output_type": "stream",
     "text": [
      "<class 'pandas.core.frame.DataFrame'>\n",
      "RangeIndex: 1460 entries, 0 to 1459\n",
      "Data columns (total 81 columns):\n",
      "Id               1460 non-null int64\n",
      "MSSubClass       1460 non-null int64\n",
      "MSZoning         1460 non-null object\n",
      "LotFrontage      1201 non-null float64\n",
      "LotArea          1460 non-null int64\n",
      "Street           1460 non-null object\n",
      "Alley            91 non-null object\n",
      "LotShape         1460 non-null object\n",
      "LandContour      1460 non-null object\n",
      "Utilities        1460 non-null object\n",
      "LotConfig        1460 non-null object\n",
      "LandSlope        1460 non-null object\n",
      "Neighborhood     1460 non-null object\n",
      "Condition1       1460 non-null object\n",
      "Condition2       1460 non-null object\n",
      "BldgType         1460 non-null object\n",
      "HouseStyle       1460 non-null object\n",
      "OverallQual      1460 non-null int64\n",
      "OverallCond      1460 non-null int64\n",
      "YearBuilt        1460 non-null int64\n",
      "YearRemodAdd     1460 non-null int64\n",
      "RoofStyle        1460 non-null object\n",
      "RoofMatl         1460 non-null object\n",
      "Exterior1st      1460 non-null object\n",
      "Exterior2nd      1460 non-null object\n",
      "MasVnrType       1452 non-null object\n",
      "MasVnrArea       1452 non-null float64\n",
      "ExterQual        1460 non-null object\n",
      "ExterCond        1460 non-null object\n",
      "Foundation       1460 non-null object\n",
      "BsmtQual         1423 non-null object\n",
      "BsmtCond         1423 non-null object\n",
      "BsmtExposure     1422 non-null object\n",
      "BsmtFinType1     1423 non-null object\n",
      "BsmtFinSF1       1460 non-null int64\n",
      "BsmtFinType2     1422 non-null object\n",
      "BsmtFinSF2       1460 non-null int64\n",
      "BsmtUnfSF        1460 non-null int64\n",
      "TotalBsmtSF      1460 non-null int64\n",
      "Heating          1460 non-null object\n",
      "HeatingQC        1460 non-null object\n",
      "CentralAir       1460 non-null object\n",
      "Electrical       1459 non-null object\n",
      "1stFlrSF         1460 non-null int64\n",
      "2ndFlrSF         1460 non-null int64\n",
      "LowQualFinSF     1460 non-null int64\n",
      "GrLivArea        1460 non-null int64\n",
      "BsmtFullBath     1460 non-null int64\n",
      "BsmtHalfBath     1460 non-null int64\n",
      "FullBath         1460 non-null int64\n",
      "HalfBath         1460 non-null int64\n",
      "BedroomAbvGr     1460 non-null int64\n",
      "KitchenAbvGr     1460 non-null int64\n",
      "KitchenQual      1460 non-null object\n",
      "TotRmsAbvGrd     1460 non-null int64\n",
      "Functional       1460 non-null object\n",
      "Fireplaces       1460 non-null int64\n",
      "FireplaceQu      770 non-null object\n",
      "GarageType       1379 non-null object\n",
      "GarageYrBlt      1379 non-null float64\n",
      "GarageFinish     1379 non-null object\n",
      "GarageCars       1460 non-null int64\n",
      "GarageArea       1460 non-null int64\n",
      "GarageQual       1379 non-null object\n",
      "GarageCond       1379 non-null object\n",
      "PavedDrive       1460 non-null object\n",
      "WoodDeckSF       1460 non-null int64\n",
      "OpenPorchSF      1460 non-null int64\n",
      "EnclosedPorch    1460 non-null int64\n",
      "3SsnPorch        1460 non-null int64\n",
      "ScreenPorch      1460 non-null int64\n",
      "PoolArea         1460 non-null int64\n",
      "PoolQC           7 non-null object\n",
      "Fence            281 non-null object\n",
      "MiscFeature      54 non-null object\n",
      "MiscVal          1460 non-null int64\n",
      "MoSold           1460 non-null int64\n",
      "YrSold           1460 non-null int64\n",
      "SaleType         1460 non-null object\n",
      "SaleCondition    1460 non-null object\n",
      "SalePrice        1460 non-null int64\n",
      "dtypes: float64(3), int64(35), object(43)\n",
      "memory usage: 924.0+ KB\n"
     ]
    }
   ],
   "source": [
    "df.info()"
   ]
  },
  {
   "cell_type": "code",
   "execution_count": 781,
   "metadata": {},
   "outputs": [
    {
     "data": {
      "text/html": [
       "<div>\n",
       "<style>\n",
       "    .dataframe thead tr:only-child th {\n",
       "        text-align: right;\n",
       "    }\n",
       "\n",
       "    .dataframe thead th {\n",
       "        text-align: left;\n",
       "    }\n",
       "\n",
       "    .dataframe tbody tr th {\n",
       "        vertical-align: top;\n",
       "    }\n",
       "</style>\n",
       "<table border=\"1\" class=\"dataframe\">\n",
       "  <thead>\n",
       "    <tr style=\"text-align: right;\">\n",
       "      <th></th>\n",
       "      <th>WoodDeckSF</th>\n",
       "      <th>OpenPorchSF</th>\n",
       "      <th>EnclosedPorch</th>\n",
       "      <th>3SsnPorch</th>\n",
       "      <th>ScreenPorch</th>\n",
       "    </tr>\n",
       "  </thead>\n",
       "  <tbody>\n",
       "    <tr>\n",
       "      <th>0</th>\n",
       "      <td>0</td>\n",
       "      <td>61</td>\n",
       "      <td>0</td>\n",
       "      <td>0</td>\n",
       "      <td>0</td>\n",
       "    </tr>\n",
       "    <tr>\n",
       "      <th>1</th>\n",
       "      <td>298</td>\n",
       "      <td>0</td>\n",
       "      <td>0</td>\n",
       "      <td>0</td>\n",
       "      <td>0</td>\n",
       "    </tr>\n",
       "    <tr>\n",
       "      <th>2</th>\n",
       "      <td>0</td>\n",
       "      <td>42</td>\n",
       "      <td>0</td>\n",
       "      <td>0</td>\n",
       "      <td>0</td>\n",
       "    </tr>\n",
       "    <tr>\n",
       "      <th>3</th>\n",
       "      <td>0</td>\n",
       "      <td>35</td>\n",
       "      <td>272</td>\n",
       "      <td>0</td>\n",
       "      <td>0</td>\n",
       "    </tr>\n",
       "    <tr>\n",
       "      <th>4</th>\n",
       "      <td>192</td>\n",
       "      <td>84</td>\n",
       "      <td>0</td>\n",
       "      <td>0</td>\n",
       "      <td>0</td>\n",
       "    </tr>\n",
       "    <tr>\n",
       "      <th>5</th>\n",
       "      <td>40</td>\n",
       "      <td>30</td>\n",
       "      <td>0</td>\n",
       "      <td>320</td>\n",
       "      <td>0</td>\n",
       "    </tr>\n",
       "    <tr>\n",
       "      <th>6</th>\n",
       "      <td>255</td>\n",
       "      <td>57</td>\n",
       "      <td>0</td>\n",
       "      <td>0</td>\n",
       "      <td>0</td>\n",
       "    </tr>\n",
       "    <tr>\n",
       "      <th>7</th>\n",
       "      <td>235</td>\n",
       "      <td>204</td>\n",
       "      <td>228</td>\n",
       "      <td>0</td>\n",
       "      <td>0</td>\n",
       "    </tr>\n",
       "    <tr>\n",
       "      <th>8</th>\n",
       "      <td>90</td>\n",
       "      <td>0</td>\n",
       "      <td>205</td>\n",
       "      <td>0</td>\n",
       "      <td>0</td>\n",
       "    </tr>\n",
       "    <tr>\n",
       "      <th>9</th>\n",
       "      <td>0</td>\n",
       "      <td>4</td>\n",
       "      <td>0</td>\n",
       "      <td>0</td>\n",
       "      <td>0</td>\n",
       "    </tr>\n",
       "    <tr>\n",
       "      <th>10</th>\n",
       "      <td>0</td>\n",
       "      <td>0</td>\n",
       "      <td>0</td>\n",
       "      <td>0</td>\n",
       "      <td>0</td>\n",
       "    </tr>\n",
       "    <tr>\n",
       "      <th>11</th>\n",
       "      <td>147</td>\n",
       "      <td>21</td>\n",
       "      <td>0</td>\n",
       "      <td>0</td>\n",
       "      <td>0</td>\n",
       "    </tr>\n",
       "    <tr>\n",
       "      <th>12</th>\n",
       "      <td>140</td>\n",
       "      <td>0</td>\n",
       "      <td>0</td>\n",
       "      <td>0</td>\n",
       "      <td>176</td>\n",
       "    </tr>\n",
       "    <tr>\n",
       "      <th>13</th>\n",
       "      <td>160</td>\n",
       "      <td>33</td>\n",
       "      <td>0</td>\n",
       "      <td>0</td>\n",
       "      <td>0</td>\n",
       "    </tr>\n",
       "    <tr>\n",
       "      <th>14</th>\n",
       "      <td>0</td>\n",
       "      <td>213</td>\n",
       "      <td>176</td>\n",
       "      <td>0</td>\n",
       "      <td>0</td>\n",
       "    </tr>\n",
       "    <tr>\n",
       "      <th>15</th>\n",
       "      <td>48</td>\n",
       "      <td>112</td>\n",
       "      <td>0</td>\n",
       "      <td>0</td>\n",
       "      <td>0</td>\n",
       "    </tr>\n",
       "    <tr>\n",
       "      <th>16</th>\n",
       "      <td>0</td>\n",
       "      <td>0</td>\n",
       "      <td>0</td>\n",
       "      <td>0</td>\n",
       "      <td>0</td>\n",
       "    </tr>\n",
       "    <tr>\n",
       "      <th>17</th>\n",
       "      <td>0</td>\n",
       "      <td>0</td>\n",
       "      <td>0</td>\n",
       "      <td>0</td>\n",
       "      <td>0</td>\n",
       "    </tr>\n",
       "    <tr>\n",
       "      <th>18</th>\n",
       "      <td>0</td>\n",
       "      <td>102</td>\n",
       "      <td>0</td>\n",
       "      <td>0</td>\n",
       "      <td>0</td>\n",
       "    </tr>\n",
       "    <tr>\n",
       "      <th>19</th>\n",
       "      <td>0</td>\n",
       "      <td>0</td>\n",
       "      <td>0</td>\n",
       "      <td>0</td>\n",
       "      <td>0</td>\n",
       "    </tr>\n",
       "    <tr>\n",
       "      <th>20</th>\n",
       "      <td>240</td>\n",
       "      <td>154</td>\n",
       "      <td>0</td>\n",
       "      <td>0</td>\n",
       "      <td>0</td>\n",
       "    </tr>\n",
       "    <tr>\n",
       "      <th>21</th>\n",
       "      <td>0</td>\n",
       "      <td>0</td>\n",
       "      <td>205</td>\n",
       "      <td>0</td>\n",
       "      <td>0</td>\n",
       "    </tr>\n",
       "    <tr>\n",
       "      <th>22</th>\n",
       "      <td>171</td>\n",
       "      <td>159</td>\n",
       "      <td>0</td>\n",
       "      <td>0</td>\n",
       "      <td>0</td>\n",
       "    </tr>\n",
       "    <tr>\n",
       "      <th>23</th>\n",
       "      <td>100</td>\n",
       "      <td>110</td>\n",
       "      <td>0</td>\n",
       "      <td>0</td>\n",
       "      <td>0</td>\n",
       "    </tr>\n",
       "    <tr>\n",
       "      <th>24</th>\n",
       "      <td>406</td>\n",
       "      <td>90</td>\n",
       "      <td>0</td>\n",
       "      <td>0</td>\n",
       "      <td>0</td>\n",
       "    </tr>\n",
       "    <tr>\n",
       "      <th>25</th>\n",
       "      <td>0</td>\n",
       "      <td>56</td>\n",
       "      <td>0</td>\n",
       "      <td>0</td>\n",
       "      <td>0</td>\n",
       "    </tr>\n",
       "    <tr>\n",
       "      <th>26</th>\n",
       "      <td>222</td>\n",
       "      <td>32</td>\n",
       "      <td>0</td>\n",
       "      <td>0</td>\n",
       "      <td>0</td>\n",
       "    </tr>\n",
       "    <tr>\n",
       "      <th>27</th>\n",
       "      <td>0</td>\n",
       "      <td>50</td>\n",
       "      <td>0</td>\n",
       "      <td>0</td>\n",
       "      <td>0</td>\n",
       "    </tr>\n",
       "    <tr>\n",
       "      <th>28</th>\n",
       "      <td>288</td>\n",
       "      <td>258</td>\n",
       "      <td>0</td>\n",
       "      <td>0</td>\n",
       "      <td>0</td>\n",
       "    </tr>\n",
       "    <tr>\n",
       "      <th>29</th>\n",
       "      <td>49</td>\n",
       "      <td>0</td>\n",
       "      <td>87</td>\n",
       "      <td>0</td>\n",
       "      <td>0</td>\n",
       "    </tr>\n",
       "    <tr>\n",
       "      <th>...</th>\n",
       "      <td>...</td>\n",
       "      <td>...</td>\n",
       "      <td>...</td>\n",
       "      <td>...</td>\n",
       "      <td>...</td>\n",
       "    </tr>\n",
       "    <tr>\n",
       "      <th>1430</th>\n",
       "      <td>100</td>\n",
       "      <td>40</td>\n",
       "      <td>0</td>\n",
       "      <td>0</td>\n",
       "      <td>0</td>\n",
       "    </tr>\n",
       "    <tr>\n",
       "      <th>1431</th>\n",
       "      <td>0</td>\n",
       "      <td>60</td>\n",
       "      <td>0</td>\n",
       "      <td>0</td>\n",
       "      <td>0</td>\n",
       "    </tr>\n",
       "    <tr>\n",
       "      <th>1432</th>\n",
       "      <td>0</td>\n",
       "      <td>0</td>\n",
       "      <td>0</td>\n",
       "      <td>0</td>\n",
       "      <td>0</td>\n",
       "    </tr>\n",
       "    <tr>\n",
       "      <th>1433</th>\n",
       "      <td>0</td>\n",
       "      <td>0</td>\n",
       "      <td>0</td>\n",
       "      <td>0</td>\n",
       "      <td>0</td>\n",
       "    </tr>\n",
       "    <tr>\n",
       "      <th>1434</th>\n",
       "      <td>295</td>\n",
       "      <td>41</td>\n",
       "      <td>0</td>\n",
       "      <td>0</td>\n",
       "      <td>0</td>\n",
       "    </tr>\n",
       "    <tr>\n",
       "      <th>1435</th>\n",
       "      <td>0</td>\n",
       "      <td>36</td>\n",
       "      <td>0</td>\n",
       "      <td>0</td>\n",
       "      <td>0</td>\n",
       "    </tr>\n",
       "    <tr>\n",
       "      <th>1436</th>\n",
       "      <td>0</td>\n",
       "      <td>0</td>\n",
       "      <td>0</td>\n",
       "      <td>0</td>\n",
       "      <td>0</td>\n",
       "    </tr>\n",
       "    <tr>\n",
       "      <th>1437</th>\n",
       "      <td>0</td>\n",
       "      <td>66</td>\n",
       "      <td>0</td>\n",
       "      <td>304</td>\n",
       "      <td>0</td>\n",
       "    </tr>\n",
       "    <tr>\n",
       "      <th>1438</th>\n",
       "      <td>0</td>\n",
       "      <td>158</td>\n",
       "      <td>158</td>\n",
       "      <td>0</td>\n",
       "      <td>0</td>\n",
       "    </tr>\n",
       "    <tr>\n",
       "      <th>1439</th>\n",
       "      <td>0</td>\n",
       "      <td>88</td>\n",
       "      <td>216</td>\n",
       "      <td>0</td>\n",
       "      <td>0</td>\n",
       "    </tr>\n",
       "    <tr>\n",
       "      <th>1440</th>\n",
       "      <td>431</td>\n",
       "      <td>0</td>\n",
       "      <td>0</td>\n",
       "      <td>0</td>\n",
       "      <td>0</td>\n",
       "    </tr>\n",
       "    <tr>\n",
       "      <th>1441</th>\n",
       "      <td>149</td>\n",
       "      <td>0</td>\n",
       "      <td>0</td>\n",
       "      <td>0</td>\n",
       "      <td>0</td>\n",
       "    </tr>\n",
       "    <tr>\n",
       "      <th>1442</th>\n",
       "      <td>168</td>\n",
       "      <td>52</td>\n",
       "      <td>0</td>\n",
       "      <td>0</td>\n",
       "      <td>0</td>\n",
       "    </tr>\n",
       "    <tr>\n",
       "      <th>1443</th>\n",
       "      <td>0</td>\n",
       "      <td>98</td>\n",
       "      <td>0</td>\n",
       "      <td>0</td>\n",
       "      <td>40</td>\n",
       "    </tr>\n",
       "    <tr>\n",
       "      <th>1444</th>\n",
       "      <td>192</td>\n",
       "      <td>60</td>\n",
       "      <td>0</td>\n",
       "      <td>0</td>\n",
       "      <td>0</td>\n",
       "    </tr>\n",
       "    <tr>\n",
       "      <th>1445</th>\n",
       "      <td>0</td>\n",
       "      <td>0</td>\n",
       "      <td>252</td>\n",
       "      <td>0</td>\n",
       "      <td>0</td>\n",
       "    </tr>\n",
       "    <tr>\n",
       "      <th>1446</th>\n",
       "      <td>261</td>\n",
       "      <td>39</td>\n",
       "      <td>0</td>\n",
       "      <td>0</td>\n",
       "      <td>0</td>\n",
       "    </tr>\n",
       "    <tr>\n",
       "      <th>1447</th>\n",
       "      <td>0</td>\n",
       "      <td>65</td>\n",
       "      <td>0</td>\n",
       "      <td>0</td>\n",
       "      <td>0</td>\n",
       "    </tr>\n",
       "    <tr>\n",
       "      <th>1448</th>\n",
       "      <td>168</td>\n",
       "      <td>24</td>\n",
       "      <td>0</td>\n",
       "      <td>0</td>\n",
       "      <td>0</td>\n",
       "    </tr>\n",
       "    <tr>\n",
       "      <th>1449</th>\n",
       "      <td>0</td>\n",
       "      <td>0</td>\n",
       "      <td>0</td>\n",
       "      <td>0</td>\n",
       "      <td>0</td>\n",
       "    </tr>\n",
       "    <tr>\n",
       "      <th>1450</th>\n",
       "      <td>32</td>\n",
       "      <td>45</td>\n",
       "      <td>0</td>\n",
       "      <td>0</td>\n",
       "      <td>0</td>\n",
       "    </tr>\n",
       "    <tr>\n",
       "      <th>1451</th>\n",
       "      <td>0</td>\n",
       "      <td>36</td>\n",
       "      <td>0</td>\n",
       "      <td>0</td>\n",
       "      <td>0</td>\n",
       "    </tr>\n",
       "    <tr>\n",
       "      <th>1452</th>\n",
       "      <td>0</td>\n",
       "      <td>28</td>\n",
       "      <td>0</td>\n",
       "      <td>0</td>\n",
       "      <td>0</td>\n",
       "    </tr>\n",
       "    <tr>\n",
       "      <th>1453</th>\n",
       "      <td>36</td>\n",
       "      <td>56</td>\n",
       "      <td>0</td>\n",
       "      <td>0</td>\n",
       "      <td>0</td>\n",
       "    </tr>\n",
       "    <tr>\n",
       "      <th>1454</th>\n",
       "      <td>0</td>\n",
       "      <td>113</td>\n",
       "      <td>0</td>\n",
       "      <td>0</td>\n",
       "      <td>0</td>\n",
       "    </tr>\n",
       "    <tr>\n",
       "      <th>1455</th>\n",
       "      <td>0</td>\n",
       "      <td>40</td>\n",
       "      <td>0</td>\n",
       "      <td>0</td>\n",
       "      <td>0</td>\n",
       "    </tr>\n",
       "    <tr>\n",
       "      <th>1456</th>\n",
       "      <td>349</td>\n",
       "      <td>0</td>\n",
       "      <td>0</td>\n",
       "      <td>0</td>\n",
       "      <td>0</td>\n",
       "    </tr>\n",
       "    <tr>\n",
       "      <th>1457</th>\n",
       "      <td>0</td>\n",
       "      <td>60</td>\n",
       "      <td>0</td>\n",
       "      <td>0</td>\n",
       "      <td>0</td>\n",
       "    </tr>\n",
       "    <tr>\n",
       "      <th>1458</th>\n",
       "      <td>366</td>\n",
       "      <td>0</td>\n",
       "      <td>112</td>\n",
       "      <td>0</td>\n",
       "      <td>0</td>\n",
       "    </tr>\n",
       "    <tr>\n",
       "      <th>1459</th>\n",
       "      <td>736</td>\n",
       "      <td>68</td>\n",
       "      <td>0</td>\n",
       "      <td>0</td>\n",
       "      <td>0</td>\n",
       "    </tr>\n",
       "  </tbody>\n",
       "</table>\n",
       "<p>1460 rows × 5 columns</p>\n",
       "</div>"
      ],
      "text/plain": [
       "      WoodDeckSF  OpenPorchSF  EnclosedPorch  3SsnPorch  ScreenPorch\n",
       "0              0           61              0          0            0\n",
       "1            298            0              0          0            0\n",
       "2              0           42              0          0            0\n",
       "3              0           35            272          0            0\n",
       "4            192           84              0          0            0\n",
       "5             40           30              0        320            0\n",
       "6            255           57              0          0            0\n",
       "7            235          204            228          0            0\n",
       "8             90            0            205          0            0\n",
       "9              0            4              0          0            0\n",
       "10             0            0              0          0            0\n",
       "11           147           21              0          0            0\n",
       "12           140            0              0          0          176\n",
       "13           160           33              0          0            0\n",
       "14             0          213            176          0            0\n",
       "15            48          112              0          0            0\n",
       "16             0            0              0          0            0\n",
       "17             0            0              0          0            0\n",
       "18             0          102              0          0            0\n",
       "19             0            0              0          0            0\n",
       "20           240          154              0          0            0\n",
       "21             0            0            205          0            0\n",
       "22           171          159              0          0            0\n",
       "23           100          110              0          0            0\n",
       "24           406           90              0          0            0\n",
       "25             0           56              0          0            0\n",
       "26           222           32              0          0            0\n",
       "27             0           50              0          0            0\n",
       "28           288          258              0          0            0\n",
       "29            49            0             87          0            0\n",
       "...          ...          ...            ...        ...          ...\n",
       "1430         100           40              0          0            0\n",
       "1431           0           60              0          0            0\n",
       "1432           0            0              0          0            0\n",
       "1433           0            0              0          0            0\n",
       "1434         295           41              0          0            0\n",
       "1435           0           36              0          0            0\n",
       "1436           0            0              0          0            0\n",
       "1437           0           66              0        304            0\n",
       "1438           0          158            158          0            0\n",
       "1439           0           88            216          0            0\n",
       "1440         431            0              0          0            0\n",
       "1441         149            0              0          0            0\n",
       "1442         168           52              0          0            0\n",
       "1443           0           98              0          0           40\n",
       "1444         192           60              0          0            0\n",
       "1445           0            0            252          0            0\n",
       "1446         261           39              0          0            0\n",
       "1447           0           65              0          0            0\n",
       "1448         168           24              0          0            0\n",
       "1449           0            0              0          0            0\n",
       "1450          32           45              0          0            0\n",
       "1451           0           36              0          0            0\n",
       "1452           0           28              0          0            0\n",
       "1453          36           56              0          0            0\n",
       "1454           0          113              0          0            0\n",
       "1455           0           40              0          0            0\n",
       "1456         349            0              0          0            0\n",
       "1457           0           60              0          0            0\n",
       "1458         366            0            112          0            0\n",
       "1459         736           68              0          0            0\n",
       "\n",
       "[1460 rows x 5 columns]"
      ]
     },
     "execution_count": 781,
     "metadata": {},
     "output_type": "execute_result"
    }
   ],
   "source": [
    "df[['WoodDeckSF','OpenPorchSF','EnclosedPorch','3SsnPorch','ScreenPorch']]"
   ]
  },
  {
   "cell_type": "code",
   "execution_count": 782,
   "metadata": {},
   "outputs": [
    {
     "data": {
      "text/plain": [
       "'WD'"
      ]
     },
     "execution_count": 782,
     "metadata": {},
     "output_type": "execute_result"
    }
   ],
   "source": [
    "df.loc[df['SaleType'].isnull(),('SaleType','SaleCondition')]\n",
    "df['SaleType'].mode()[0]"
   ]
  },
  {
   "cell_type": "code",
   "execution_count": 783,
   "metadata": {},
   "outputs": [],
   "source": [
    "df.loc[df['TotalBsmtSF'].isnull(),('TotalBsmtSF','BsmtFinType1','BsmtFinType2')]\n",
    "df.loc[df['TotalBsmtSF'].isnull(),('TotalBsmtSF')]=0\n",
    "df['MSZoning'] = df['MSZoning'].fillna(df['MSZoning'].mode()[0])\n",
    "df['KitchenQual'] = df['KitchenQual'].fillna(df['KitchenQual'].mode()[0])\n",
    "df['Utilities'] = df['Utilities'].fillna(df['Utilities'].mode()[0])\n",
    "df['SaleType'] = df['SaleType'].fillna(df['SaleType'].mode()[0])\n",
    "df['MSZoning'] = df['MSZoning'].fillna(df['MSZoning'].mode()[0])\n",
    "df['Utilities'] = df['Utilities'].fillna(df['Utilities'].mode()[0])\n",
    "df.loc[df['GarageCars'].isnull(),('GarageCars','GarageArea','GarageQual')]\n",
    "df.loc[df['GarageCars'].isnull(),('GarageCars','GarageArea')] =0\n",
    "df['Exterior1st'] = df['Exterior1st'].fillna(df['Exterior1st'].mode()[0])\n",
    "df['Exterior2nd'] = df['Exterior2nd'].fillna(df['Exterior2nd'].mode()[0])\n",
    "df['Functional'] = df['Functional'].fillna(df['Functional'].mode()[0])\n",
    "df.loc[df['BsmtUnfSF'].isnull(),('BsmtUnfSF', 'BsmtFinType2')]\n",
    "df.loc[df['BsmtUnfSF'].isnull(),('BsmtUnfSF')] =0\n",
    "df.loc[df['BsmtFinSF1'].isnull(),('BsmtFinSF1')] =0\n",
    "df.loc[df['BsmtFinSF2'].isnull(),('BsmtFinSF2')] =0\n",
    "df.loc[df['BsmtFullBath'].isnull(),('BsmtFullBath')] =df['BsmtFullBath'].mode()[0]\n",
    "df.loc[df['BsmtHalfBath'].isnull(),('BsmtHalfBath')] = df['BsmtHalfBath'].mode()[0]"
   ]
  },
  {
   "cell_type": "code",
   "execution_count": null,
   "metadata": {},
   "outputs": [],
   "source": []
  },
  {
   "cell_type": "code",
   "execution_count": 784,
   "metadata": {},
   "outputs": [
    {
     "name": "stdout",
     "output_type": "stream",
     "text": [
      "['Gtl' 'Mod' 'Sev']\n"
     ]
    },
    {
     "data": {
      "text/plain": [
       "array([2, 1, 0], dtype=int64)"
      ]
     },
     "execution_count": 784,
     "metadata": {},
     "output_type": "execute_result"
    }
   ],
   "source": [
    "LandSlope_dict = {'Sev':0,'Mod':1, 'Gtl':2}\n",
    "print(df['LandSlope'].unique())\n",
    "df['LandSlope'] = df['LandSlope'].map(LandSlope_dict)\n",
    "df['LandSlope'].unique()"
   ]
  },
  {
   "cell_type": "code",
   "execution_count": 785,
   "metadata": {},
   "outputs": [
    {
     "name": "stdout",
     "output_type": "stream",
     "text": [
      "['Typ' 'Min1' 'Maj1' 'Min2' 'Mod' 'Maj2' 'Sev']\n"
     ]
    },
    {
     "data": {
      "text/plain": [
       "array([7, 6, 3, 5, 4, 2, 1], dtype=int64)"
      ]
     },
     "execution_count": 785,
     "metadata": {},
     "output_type": "execute_result"
    }
   ],
   "source": [
    "Functional_dict = {'Sal':0,'Sev':1, 'Maj2':2,'Maj1':3,'Mod':4,'Min2':5,'Min1':6,'Typ':7}\n",
    "print(df['Functional'].unique())\n",
    "df['Functional'] = df['Functional'].map(Functional_dict)\n",
    "df['Functional'].unique()"
   ]
  },
  {
   "cell_type": "code",
   "execution_count": 786,
   "metadata": {},
   "outputs": [
    {
     "name": "stdout",
     "output_type": "stream",
     "text": [
      "['Y' 'N' 'P']\n"
     ]
    },
    {
     "data": {
      "text/plain": [
       "array([2, 0, 1], dtype=int64)"
      ]
     },
     "execution_count": 786,
     "metadata": {},
     "output_type": "execute_result"
    }
   ],
   "source": [
    "\n",
    "PavedDrive_dict = {'N':0,'P':1, 'Y':2}\n",
    "print(df['PavedDrive'].unique())\n",
    "df['PavedDrive'] = df['PavedDrive'].map(PavedDrive_dict)\n",
    "df['PavedDrive'].unique()"
   ]
  },
  {
   "cell_type": "code",
   "execution_count": 787,
   "metadata": {},
   "outputs": [
    {
     "name": "stdout",
     "output_type": "stream",
     "text": [
      "['Pave' 'Grvl']\n"
     ]
    },
    {
     "data": {
      "text/plain": [
       "array([1, 0], dtype=int64)"
      ]
     },
     "execution_count": 787,
     "metadata": {},
     "output_type": "execute_result"
    }
   ],
   "source": [
    "Street_dict = {'Grvl':0,'Pave':1}\n",
    "print(df['Street'].unique())\n",
    "df['Street'] = df['Street'].map(Street_dict)\n",
    "df['Street'].unique()"
   ]
  },
  {
   "cell_type": "code",
   "execution_count": 788,
   "metadata": {
    "collapsed": true
   },
   "outputs": [],
   "source": [
    "df.loc[(df['Condition1']==df['Condition2'])&(df['Condition2']!='Norm'), 'Condition2'] = 'Norm'"
   ]
  },
  {
   "cell_type": "code",
   "execution_count": 789,
   "metadata": {
    "collapsed": true
   },
   "outputs": [],
   "source": [
    "df['LocationProximity'] = df.apply(lambda x: 2 if x['Condition1']!='Norm' and x['Condition2']!='Norm' else 1 if x['Condition1']!='Norm' and x['Condition2']=='Norm' else 0, axis =1) "
   ]
  },
  {
   "cell_type": "code",
   "execution_count": null,
   "metadata": {
    "collapsed": true
   },
   "outputs": [],
   "source": []
  },
  {
   "cell_type": "code",
   "execution_count": 790,
   "metadata": {
    "collapsed": true
   },
   "outputs": [],
   "source": [
    "\n",
    "df['isNew'] = df['SaleType'].apply(lambda x:1 if x=='New' else 0)"
   ]
  },
  {
   "cell_type": "code",
   "execution_count": 791,
   "metadata": {},
   "outputs": [
    {
     "name": "stdout",
     "output_type": "stream",
     "text": [
      "['Reg' 'IR1' 'IR2' 'IR3']\n"
     ]
    },
    {
     "data": {
      "text/plain": [
       "array([3, 2, 1, 0], dtype=int64)"
      ]
     },
     "execution_count": 791,
     "metadata": {},
     "output_type": "execute_result"
    }
   ],
   "source": [
    "\n",
    "#sns.categorical.swarmplot(x= 'Functional', y = 'SalePrice', data = df)\n",
    "#sns.swarmplot(x= 'GrLivArea', y = 'SalePrice', data = df, hue = 'Functional')\n",
    "LotShape_dict = {'IR3':0,'IR2':1,'IR1':2, 'Reg':3}\n",
    "print(df['LotShape'].unique())\n",
    "df['LotShape'] = df['LotShape'].map(LotShape_dict)\n",
    "df['LotShape'].unique()"
   ]
  },
  {
   "cell_type": "code",
   "execution_count": 792,
   "metadata": {},
   "outputs": [
    {
     "name": "stdout",
     "output_type": "stream",
     "text": [
      "['AllPub' 'NoSeWa']\n"
     ]
    },
    {
     "data": {
      "text/plain": [
       "array([3, 1], dtype=int64)"
      ]
     },
     "execution_count": 792,
     "metadata": {},
     "output_type": "execute_result"
    }
   ],
   "source": [
    "print(df['Utilities'].unique())\n",
    "Utilities_dict ={'ELO':0,'NoSeWa':1,'NoSewr':2, 'AllPub':3}\n",
    "df['Utilities'] = df['Utilities'].map(Utilities_dict)\n",
    "df['Utilities'].unique()"
   ]
  },
  {
   "cell_type": "code",
   "execution_count": null,
   "metadata": {},
   "outputs": [],
   "source": []
  },
  {
   "cell_type": "code",
   "execution_count": 793,
   "metadata": {},
   "outputs": [],
   "source": [
    "#sns.swarmplot(x='GrLivArea', y = 'SalePrice', data = df)\n",
    "#plt.scatter(x='GrLivArea', y = 'SalePrice', data = df)\n",
    "df.drop(df[(df['GrLivArea']>4000)& (df['SalePrice']<300000)].index, axis =0, inplace=True)"
   ]
  },
  {
   "cell_type": "code",
   "execution_count": 794,
   "metadata": {},
   "outputs": [],
   "source": [
    "df.drop('PoolArea', axis = 1, inplace=True)"
   ]
  },
  {
   "cell_type": "code",
   "execution_count": 795,
   "metadata": {},
   "outputs": [],
   "source": [
    "#removing the misleading value of area 1\n",
    "df.loc[(df['MasVnrType']=='None') & (df['MasVnrArea']==1),'MasVnrArea']=0"
   ]
  },
  {
   "cell_type": "code",
   "execution_count": null,
   "metadata": {},
   "outputs": [],
   "source": []
  },
  {
   "cell_type": "code",
   "execution_count": 796,
   "metadata": {},
   "outputs": [
    {
     "name": "stdout",
     "output_type": "stream",
     "text": [
      "      MasVnrArea MasVnrType\n",
      "234          NaN        NaN\n",
      "529          NaN        NaN\n",
      "650          NaN        NaN\n",
      "936          NaN        NaN\n",
      "973          NaN        NaN\n",
      "977          NaN        NaN\n",
      "1243         NaN        NaN\n",
      "1278         NaN        NaN\n"
     ]
    },
    {
     "data": {
      "text/html": [
       "<div>\n",
       "<style>\n",
       "    .dataframe thead tr:only-child th {\n",
       "        text-align: right;\n",
       "    }\n",
       "\n",
       "    .dataframe thead th {\n",
       "        text-align: left;\n",
       "    }\n",
       "\n",
       "    .dataframe tbody tr th {\n",
       "        vertical-align: top;\n",
       "    }\n",
       "</style>\n",
       "<table border=\"1\" class=\"dataframe\">\n",
       "  <thead>\n",
       "    <tr style=\"text-align: right;\">\n",
       "      <th></th>\n",
       "      <th>MasVnrArea</th>\n",
       "      <th>MasVnrType</th>\n",
       "    </tr>\n",
       "  </thead>\n",
       "  <tbody>\n",
       "  </tbody>\n",
       "</table>\n",
       "</div>"
      ],
      "text/plain": [
       "Empty DataFrame\n",
       "Columns: [MasVnrArea, MasVnrType]\n",
       "Index: []"
      ]
     },
     "execution_count": 796,
     "metadata": {},
     "output_type": "execute_result"
    }
   ],
   "source": [
    "#where area and type both are null, setting them to 0 and none respectively\n",
    "print(df.loc[(df['MasVnrType'].isnull()) & (df['MasVnrArea'].isnull()),('MasVnrArea','MasVnrType')])\n",
    "df.loc[(df['MasVnrType'].isnull()) & (df['MasVnrArea'].isnull()),('MasVnrArea','MasVnrType')]=0,'None'\n",
    "df.loc[(df['MasVnrType'].isnull()) & (df['MasVnrArea'].isnull()),('MasVnrArea','MasVnrType')]"
   ]
  },
  {
   "cell_type": "code",
   "execution_count": null,
   "metadata": {},
   "outputs": [],
   "source": []
  },
  {
   "cell_type": "code",
   "execution_count": 797,
   "metadata": {},
   "outputs": [],
   "source": [
    "#when area is 0 bt Type is not none, setting type to the mean of area\n",
    "df.loc[(df['MasVnrType']!='None') & (df['MasVnrArea']==0),('MasVnrArea')]=df[df['MasVnrArea']!=0]['MasVnrArea'].mean()"
   ]
  },
  {
   "cell_type": "code",
   "execution_count": 798,
   "metadata": {},
   "outputs": [
    {
     "name": "stdout",
     "output_type": "stream",
     "text": [
      "     MasVnrType  MasVnrArea\n",
      "624        None       288.0\n",
      "1300       None       344.0\n",
      "1334       None       312.0\n"
     ]
    },
    {
     "data": {
      "text/html": [
       "<div>\n",
       "<style>\n",
       "    .dataframe thead tr:only-child th {\n",
       "        text-align: right;\n",
       "    }\n",
       "\n",
       "    .dataframe thead th {\n",
       "        text-align: left;\n",
       "    }\n",
       "\n",
       "    .dataframe tbody tr th {\n",
       "        vertical-align: top;\n",
       "    }\n",
       "</style>\n",
       "<table border=\"1\" class=\"dataframe\">\n",
       "  <thead>\n",
       "    <tr style=\"text-align: right;\">\n",
       "      <th></th>\n",
       "      <th>MasVnrType</th>\n",
       "      <th>MasVnrArea</th>\n",
       "    </tr>\n",
       "  </thead>\n",
       "  <tbody>\n",
       "  </tbody>\n",
       "</table>\n",
       "</div>"
      ],
      "text/plain": [
       "Empty DataFrame\n",
       "Columns: [MasVnrType, MasVnrArea]\n",
       "Index: []"
      ]
     },
     "execution_count": 798,
     "metadata": {},
     "output_type": "execute_result"
    }
   ],
   "source": [
    "#when area is not 0 bt Type is none, setting type to the mode of types\n",
    "print(df.loc[(df['MasVnrType']=='None') & (df['MasVnrArea']!=0),('MasVnrType','MasVnrArea')])\n",
    "df.loc[(df['MasVnrType']=='None') & (df['MasVnrArea']!=0),('MasVnrType')]=df[df['MasVnrType']!='None']['MasVnrType'].mode().iloc[0]\n",
    "df.loc[(df['MasVnrType']=='None') & (df['MasVnrArea']!=0),('MasVnrType','MasVnrArea')]"
   ]
  },
  {
   "cell_type": "code",
   "execution_count": 799,
   "metadata": {},
   "outputs": [
    {
     "name": "stdout",
     "output_type": "stream",
     "text": [
      "869\n",
      "0\n",
      "869\n",
      "0\n"
     ]
    }
   ],
   "source": [
    "print(df[df['MasVnrType']=='None'].count()['Id'])\n",
    "print(df[df['MasVnrType'].isnull()].count()['Id'])\n",
    "print(df[df['MasVnrArea']==0].count()['Id'])\n",
    "print(df[df['MasVnrArea'].isnull()].count()['Id'])"
   ]
  },
  {
   "cell_type": "code",
   "execution_count": 800,
   "metadata": {},
   "outputs": [
    {
     "name": "stdout",
     "output_type": "stream",
     "text": [
      "Series([], Name: MasVnrType, dtype: object)\n"
     ]
    },
    {
     "data": {
      "text/plain": [
       "Series([], Name: MasVnrType, dtype: object)"
      ]
     },
     "execution_count": 800,
     "metadata": {},
     "output_type": "execute_result"
    }
   ],
   "source": [
    "#where type is null bt area is greater than 0 setting it to mode of types\n",
    "print(df.loc[(df['MasVnrType'].isnull()) & (df['MasVnrArea']!=0),'MasVnrType'])\n",
    "df.loc[(df['MasVnrType'].isnull()) & (df['MasVnrArea']!=0),'MasVnrType']=df[df['MasVnrType']!='None']['MasVnrType'].mode()[0]\n",
    "df.loc[(df['MasVnrType'].isnull()) & (df['MasVnrArea']!=0),'MasVnrType']"
   ]
  },
  {
   "cell_type": "code",
   "execution_count": 801,
   "metadata": {},
   "outputs": [
    {
     "name": "stdout",
     "output_type": "stream",
     "text": [
      "[nan 'Grvl' 'Pave']\n"
     ]
    },
    {
     "data": {
      "text/plain": [
       "array(['NA', 'Grvl', 'Pave'], dtype=object)"
      ]
     },
     "execution_count": 801,
     "metadata": {},
     "output_type": "execute_result"
    }
   ],
   "source": [
    "print(df['Alley'].unique())\n",
    "df['Alley']=df['Alley'].fillna('NA')\n",
    "df['Alley'].unique()"
   ]
  },
  {
   "cell_type": "code",
   "execution_count": 802,
   "metadata": {},
   "outputs": [
    {
     "name": "stdout",
     "output_type": "stream",
     "text": [
      "['NA' 'Grvl' 'Pave']\n"
     ]
    },
    {
     "data": {
      "text/plain": [
       "array([0, 1, 2], dtype=int64)"
      ]
     },
     "execution_count": 802,
     "metadata": {},
     "output_type": "execute_result"
    }
   ],
   "source": [
    "Alley_dict = {'Grvl':1,'Pave':2, 'NA':0}\n",
    "print(df['Alley'].unique())\n",
    "df['Alley'] = df['Alley'].map(Alley_dict)\n",
    "df['Alley'].unique()"
   ]
  },
  {
   "cell_type": "code",
   "execution_count": 803,
   "metadata": {},
   "outputs": [
    {
     "name": "stdout",
     "output_type": "stream",
     "text": [
      "[  65.   80.   68.   60.   84.   85.   75.   nan   51.   50.   70.   91.\n",
      "   72.   66.  101.   57.   44.  110.   98.   47.  108.  112.   74.  115.\n",
      "   61.   48.   33.   52.  100.   24.   89.   63.   76.   81.   95.   69.\n",
      "   21.   32.   78.  121.  122.   40.  105.   73.   77.   64.   94.   34.\n",
      "   90.   55.   88.   82.   71.  120.  107.   92.  134.   62.   86.  141.\n",
      "   97.   54.   41.   79.  174.   99.   67.   83.   43.  103.   93.   30.\n",
      "  129.  140.   35.   37.  118.   87.  116.  150.  111.   49.   96.   59.\n",
      "   36.   56.  102.   58.   38.  109.  130.   53.  137.   45.  106.  104.\n",
      "   42.   39.  144.  114.  128.  149.  313.  168.  182.  138.  160.  152.\n",
      "  124.  153.   46.]\n"
     ]
    },
    {
     "data": {
      "text/plain": [
       "array([  65.,   80.,   68.,   60.,   84.,   85.,   75.,    0.,   51.,\n",
       "         50.,   70.,   91.,   72.,   66.,  101.,   57.,   44.,  110.,\n",
       "         98.,   47.,  108.,  112.,   74.,  115.,   61.,   48.,   33.,\n",
       "         52.,  100.,   24.,   89.,   63.,   76.,   81.,   95.,   69.,\n",
       "         21.,   32.,   78.,  121.,  122.,   40.,  105.,   73.,   77.,\n",
       "         64.,   94.,   34.,   90.,   55.,   88.,   82.,   71.,  120.,\n",
       "        107.,   92.,  134.,   62.,   86.,  141.,   97.,   54.,   41.,\n",
       "         79.,  174.,   99.,   67.,   83.,   43.,  103.,   93.,   30.,\n",
       "        129.,  140.,   35.,   37.,  118.,   87.,  116.,  150.,  111.,\n",
       "         49.,   96.,   59.,   36.,   56.,  102.,   58.,   38.,  109.,\n",
       "        130.,   53.,  137.,   45.,  106.,  104.,   42.,   39.,  144.,\n",
       "        114.,  128.,  149.,  313.,  168.,  182.,  138.,  160.,  152.,\n",
       "        124.,  153.,   46.])"
      ]
     },
     "execution_count": 803,
     "metadata": {},
     "output_type": "execute_result"
    }
   ],
   "source": [
    "print(df['LotFrontage'].unique())\n",
    "df['LotFrontage']=df['LotFrontage'].fillna(0)\n",
    "df['LotFrontage'].unique()"
   ]
  },
  {
   "cell_type": "code",
   "execution_count": null,
   "metadata": {},
   "outputs": [],
   "source": []
  },
  {
   "cell_type": "code",
   "execution_count": 804,
   "metadata": {},
   "outputs": [
    {
     "name": "stdout",
     "output_type": "stream",
     "text": [
      "['Gd' 'TA' 'Ex' nan 'Fa']\n"
     ]
    },
    {
     "data": {
      "text/plain": [
       "array(['Gd', 'TA', 'Ex', 'NA', 'Fa'], dtype=object)"
      ]
     },
     "execution_count": 804,
     "metadata": {},
     "output_type": "execute_result"
    }
   ],
   "source": [
    "print(df['BsmtQual'].unique())\n",
    "df['BsmtQual']=df['BsmtQual'].fillna('NA')\n",
    "df['BsmtQual'].unique()"
   ]
  },
  {
   "cell_type": "code",
   "execution_count": 805,
   "metadata": {},
   "outputs": [
    {
     "name": "stdout",
     "output_type": "stream",
     "text": [
      "['TA' 'Gd' nan 'Fa' 'Po']\n"
     ]
    },
    {
     "data": {
      "text/plain": [
       "array(['TA', 'Gd', 'NA', 'Fa', 'Po'], dtype=object)"
      ]
     },
     "execution_count": 805,
     "metadata": {},
     "output_type": "execute_result"
    }
   ],
   "source": [
    "print(df['BsmtCond'].unique())\n",
    "df['BsmtCond']=df['BsmtCond'].fillna('NA')\n",
    "df['BsmtCond'].unique()"
   ]
  },
  {
   "cell_type": "code",
   "execution_count": 806,
   "metadata": {},
   "outputs": [
    {
     "name": "stdout",
     "output_type": "stream",
     "text": [
      "['No' 'Gd' 'Mn' 'Av' nan]\n"
     ]
    },
    {
     "data": {
      "text/plain": [
       "array(['No', 'Gd', 'Mn', 'Av', 'NA'], dtype=object)"
      ]
     },
     "execution_count": 806,
     "metadata": {},
     "output_type": "execute_result"
    }
   ],
   "source": [
    "print(df['BsmtExposure'].unique())\n",
    "df['BsmtExposure']=df['BsmtExposure'].fillna('NA')\n",
    "df['BsmtExposure'].unique()"
   ]
  },
  {
   "cell_type": "code",
   "execution_count": 807,
   "metadata": {},
   "outputs": [
    {
     "name": "stdout",
     "output_type": "stream",
     "text": [
      "['GLQ' 'ALQ' 'Unf' 'Rec' 'BLQ' nan 'LwQ']\n"
     ]
    },
    {
     "data": {
      "text/plain": [
       "array(['GLQ', 'ALQ', 'Unf', 'Rec', 'BLQ', 'NA', 'LwQ'], dtype=object)"
      ]
     },
     "execution_count": 807,
     "metadata": {},
     "output_type": "execute_result"
    }
   ],
   "source": [
    "print(df['BsmtFinType1'].unique())\n",
    "df['BsmtFinType1']=df['BsmtFinType1'].fillna('NA')\n",
    "df['BsmtFinType1'].unique()"
   ]
  },
  {
   "cell_type": "code",
   "execution_count": 808,
   "metadata": {},
   "outputs": [
    {
     "name": "stdout",
     "output_type": "stream",
     "text": [
      "['GLQ' 'ALQ' 'Unf' 'Rec' 'BLQ' 'NA' 'LwQ']\n"
     ]
    },
    {
     "data": {
      "text/plain": [
       "array([6, 5, 1, 3, 4, 0, 2], dtype=int64)"
      ]
     },
     "execution_count": 808,
     "metadata": {},
     "output_type": "execute_result"
    }
   ],
   "source": [
    "BsmtFinType_dict ={'NA':0,'Unf':1,'LwQ':2, 'Rec':3, 'BLQ':4, 'ALQ':5, 'GLQ':6}\n",
    "print(df['BsmtFinType1'].unique())\n",
    "df['BsmtFinType1'] = df['BsmtFinType1'].map(BsmtFinType_dict)\n",
    "df['BsmtFinType1'].unique()"
   ]
  },
  {
   "cell_type": "code",
   "execution_count": 809,
   "metadata": {},
   "outputs": [
    {
     "name": "stdout",
     "output_type": "stream",
     "text": [
      "['Unf' 'BLQ' nan 'ALQ' 'Rec' 'LwQ' 'GLQ']\n"
     ]
    },
    {
     "data": {
      "text/plain": [
       "array(['Unf', 'BLQ', 'NA', 'ALQ', 'Rec', 'LwQ', 'GLQ'], dtype=object)"
      ]
     },
     "execution_count": 809,
     "metadata": {},
     "output_type": "execute_result"
    }
   ],
   "source": [
    "print(df['BsmtFinType2'].unique())\n",
    "df['BsmtFinType2']=df['BsmtFinType2'].fillna('NA')\n",
    "df['BsmtFinType2'].unique()"
   ]
  },
  {
   "cell_type": "code",
   "execution_count": 810,
   "metadata": {},
   "outputs": [
    {
     "name": "stdout",
     "output_type": "stream",
     "text": [
      "['Unf' 'BLQ' 'NA' 'ALQ' 'Rec' 'LwQ' 'GLQ']\n"
     ]
    },
    {
     "data": {
      "text/plain": [
       "array([1, 4, 0, 5, 3, 2, 6], dtype=int64)"
      ]
     },
     "execution_count": 810,
     "metadata": {},
     "output_type": "execute_result"
    }
   ],
   "source": [
    "print(df['BsmtFinType2'].unique())\n",
    "df['BsmtFinType2'] = df['BsmtFinType2'].map(BsmtFinType_dict)\n",
    "df['BsmtFinType2'].unique()"
   ]
  },
  {
   "cell_type": "code",
   "execution_count": 811,
   "metadata": {},
   "outputs": [],
   "source": [
    "df['Electrical'].mode().iloc[0]\n",
    "df['Electrical']=df['Electrical'].fillna(df['Electrical'].mode().iloc[0])"
   ]
  },
  {
   "cell_type": "code",
   "execution_count": 812,
   "metadata": {},
   "outputs": [
    {
     "name": "stdout",
     "output_type": "stream",
     "text": [
      "['SBrkr' 'FuseF' 'FuseA' 'FuseP' 'Mix']\n"
     ]
    },
    {
     "data": {
      "text/plain": [
       "array([4, 2, 3, 1, 0], dtype=int64)"
      ]
     },
     "execution_count": 812,
     "metadata": {},
     "output_type": "execute_result"
    }
   ],
   "source": [
    "Electrical_dict = {'Mix':0,'FuseP':1, 'FuseF':2,'FuseA':3,'SBrkr':4}\n",
    "print(df['Electrical'].unique())\n",
    "df['Electrical'] = df['Electrical'].map(Electrical_dict)\n",
    "df['Electrical'].unique()"
   ]
  },
  {
   "cell_type": "code",
   "execution_count": 813,
   "metadata": {},
   "outputs": [
    {
     "name": "stdout",
     "output_type": "stream",
     "text": [
      "[nan 'TA' 'Gd' 'Fa' 'Ex' 'Po']\n"
     ]
    },
    {
     "data": {
      "text/plain": [
       "array(['NA', 'TA', 'Gd', 'Fa', 'Ex', 'Po'], dtype=object)"
      ]
     },
     "execution_count": 813,
     "metadata": {},
     "output_type": "execute_result"
    }
   ],
   "source": [
    "print(df['FireplaceQu'].unique())\n",
    "df['FireplaceQu']=df['FireplaceQu'].fillna('NA')\n",
    "df['FireplaceQu'].unique()"
   ]
  },
  {
   "cell_type": "code",
   "execution_count": 814,
   "metadata": {},
   "outputs": [
    {
     "name": "stdout",
     "output_type": "stream",
     "text": [
      "['Attchd' 'Detchd' 'BuiltIn' 'CarPort' nan 'Basment' '2Types']\n"
     ]
    },
    {
     "data": {
      "text/plain": [
       "array(['Attchd', 'Detchd', 'BuiltIn', 'CarPort', 'NA', 'Basment', '2Types'], dtype=object)"
      ]
     },
     "execution_count": 814,
     "metadata": {},
     "output_type": "execute_result"
    }
   ],
   "source": [
    "print(df['GarageType'].unique())\n",
    "df['GarageType']=df['GarageType'].fillna('NA')\n",
    "df['GarageType'].unique()"
   ]
  },
  {
   "cell_type": "code",
   "execution_count": 815,
   "metadata": {},
   "outputs": [
    {
     "name": "stdout",
     "output_type": "stream",
     "text": [
      "[ 2003.  1976.  2001.  1998.  2000.  1993.  2004.  1973.  1931.  1939.\n",
      "  1965.  2005.  1962.  2006.  1960.  1991.  1970.  1967.  1958.  1930.\n",
      "  2002.  1968.  2007.  2008.  1957.  1920.  1966.  1959.  1995.  1954.\n",
      "  1953.    nan  1983.  1977.  1997.  1985.  1963.  1981.  1964.  1999.\n",
      "  1935.  1990.  1945.  1987.  1989.  1915.  1956.  1948.  1974.  2009.\n",
      "  1950.  1961.  1921.  1900.  1979.  1951.  1969.  1936.  1975.  1971.\n",
      "  1923.  1984.  1926.  1955.  1986.  1988.  1916.  1932.  1972.  1918.\n",
      "  1980.  1924.  1996.  1940.  1949.  1994.  1910.  1978.  1982.  1992.\n",
      "  1925.  1941.  2010.  1927.  1947.  1937.  1942.  1938.  1952.  1928.\n",
      "  1922.  1934.  1906.  1914.  1946.  1908.  1929.  1933.]\n"
     ]
    },
    {
     "data": {
      "text/plain": [
       "array([ 2003.,  1976.,  2001.,  1998.,  2000.,  1993.,  2004.,  1973.,\n",
       "        1931.,  1939.,  1965.,  2005.,  1962.,  2006.,  1960.,  1991.,\n",
       "        1970.,  1967.,  1958.,  1930.,  2002.,  1968.,  2007.,  2008.,\n",
       "        1957.,  1920.,  1966.,  1959.,  1995.,  1954.,  1953.,     0.,\n",
       "        1983.,  1977.,  1997.,  1985.,  1963.,  1981.,  1964.,  1999.,\n",
       "        1935.,  1990.,  1945.,  1987.,  1989.,  1915.,  1956.,  1948.,\n",
       "        1974.,  2009.,  1950.,  1961.,  1921.,  1900.,  1979.,  1951.,\n",
       "        1969.,  1936.,  1975.,  1971.,  1923.,  1984.,  1926.,  1955.,\n",
       "        1986.,  1988.,  1916.,  1932.,  1972.,  1918.,  1980.,  1924.,\n",
       "        1996.,  1940.,  1949.,  1994.,  1910.,  1978.,  1982.,  1992.,\n",
       "        1925.,  1941.,  2010.,  1927.,  1947.,  1937.,  1942.,  1938.,\n",
       "        1952.,  1928.,  1922.,  1934.,  1906.,  1914.,  1946.,  1908.,\n",
       "        1929.,  1933.])"
      ]
     },
     "execution_count": 815,
     "metadata": {},
     "output_type": "execute_result"
    }
   ],
   "source": [
    "#where GarageYrBlt is missing, set it as YearRemodAdd\n",
    "print(df['GarageYrBlt'].unique())\n",
    "#df['GarageYrBlt']=df['GarageYrBlt'].fillna(df['YearRemodAdd'])\n",
    "df.loc[(df['GarageYrBlt'].isnull()) & (df['GarageType']!='NA'),'GarageYrBlt']=df['YearRemodAdd']\n",
    "df.loc[(df['GarageYrBlt'].isnull()) & (df['GarageType']=='NA'),'GarageYrBlt']=0\n",
    "#df['GarageYrBlt'].unique()\n",
    "df[['YearBuilt','GarageYrBlt','YearRemodAdd']]\n",
    "df['GarageYrBlt'].unique()"
   ]
  },
  {
   "cell_type": "code",
   "execution_count": 816,
   "metadata": {},
   "outputs": [
    {
     "name": "stdout",
     "output_type": "stream",
     "text": [
      "['RFn' 'Unf' 'Fin' nan]\n"
     ]
    },
    {
     "data": {
      "text/plain": [
       "array(['RFn', 'Unf', 'Fin', 'NA'], dtype=object)"
      ]
     },
     "execution_count": 816,
     "metadata": {},
     "output_type": "execute_result"
    }
   ],
   "source": [
    "print(df['GarageFinish'].unique())\n",
    "df['GarageFinish']=df['GarageFinish'].fillna('NA')\n",
    "df['GarageFinish'].unique()"
   ]
  },
  {
   "cell_type": "code",
   "execution_count": 817,
   "metadata": {},
   "outputs": [
    {
     "name": "stdout",
     "output_type": "stream",
     "text": [
      "['RFn' 'Unf' 'Fin' 'NA']\n"
     ]
    },
    {
     "data": {
      "text/plain": [
       "array([2, 1, 3, 0], dtype=int64)"
      ]
     },
     "execution_count": 817,
     "metadata": {},
     "output_type": "execute_result"
    }
   ],
   "source": [
    "GarageFinish_dict ={'NA':0,'Unf':1,'RFn':2, 'Fin':3}\n",
    "print(df['GarageFinish'].unique())\n",
    "df['GarageFinish'] = df['GarageFinish'].map(GarageFinish_dict)\n",
    "df['GarageFinish'].unique()"
   ]
  },
  {
   "cell_type": "code",
   "execution_count": 818,
   "metadata": {},
   "outputs": [
    {
     "name": "stdout",
     "output_type": "stream",
     "text": [
      "['TA' 'Fa' 'Gd' nan 'Ex' 'Po']\n"
     ]
    },
    {
     "data": {
      "text/plain": [
       "array(['TA', 'Fa', 'Gd', 'NA', 'Ex', 'Po'], dtype=object)"
      ]
     },
     "execution_count": 818,
     "metadata": {},
     "output_type": "execute_result"
    }
   ],
   "source": [
    "print(df['GarageQual'].unique())\n",
    "df['GarageQual']=df['GarageQual'].fillna('NA')\n",
    "df['GarageQual'].unique()"
   ]
  },
  {
   "cell_type": "code",
   "execution_count": 819,
   "metadata": {},
   "outputs": [
    {
     "name": "stdout",
     "output_type": "stream",
     "text": [
      "['TA' 'Fa' nan 'Gd' 'Po' 'Ex']\n"
     ]
    },
    {
     "data": {
      "text/plain": [
       "array(['TA', 'Fa', 'NA', 'Gd', 'Po', 'Ex'], dtype=object)"
      ]
     },
     "execution_count": 819,
     "metadata": {},
     "output_type": "execute_result"
    }
   ],
   "source": [
    "print(df['GarageCond'].unique())\n",
    "df['GarageCond']=df['GarageCond'].fillna('NA')\n",
    "df['GarageCond'].unique()"
   ]
  },
  {
   "cell_type": "code",
   "execution_count": 820,
   "metadata": {},
   "outputs": [
    {
     "name": "stdout",
     "output_type": "stream",
     "text": [
      "[nan 'Ex' 'Fa' 'Gd']\n"
     ]
    },
    {
     "data": {
      "text/plain": [
       "array(['NA', 'Ex', 'Fa', 'Gd'], dtype=object)"
      ]
     },
     "execution_count": 820,
     "metadata": {},
     "output_type": "execute_result"
    }
   ],
   "source": [
    "\n",
    "print(df['PoolQC'].unique())\n",
    "df['PoolQC']=df['PoolQC'].fillna('NA')\n",
    "df['PoolQC'].unique()"
   ]
  },
  {
   "cell_type": "code",
   "execution_count": 821,
   "metadata": {},
   "outputs": [
    {
     "name": "stdout",
     "output_type": "stream",
     "text": [
      "[nan 'MnPrv' 'GdWo' 'GdPrv' 'MnWw']\n"
     ]
    },
    {
     "data": {
      "text/plain": [
       "array(['NA', 'MnPrv', 'GdWo', 'GdPrv', 'MnWw'], dtype=object)"
      ]
     },
     "execution_count": 821,
     "metadata": {},
     "output_type": "execute_result"
    }
   ],
   "source": [
    "print(df['Fence'].unique())\n",
    "df['Fence']=df['Fence'].fillna('NA')\n",
    "df['Fence'].unique()"
   ]
  },
  {
   "cell_type": "code",
   "execution_count": 822,
   "metadata": {},
   "outputs": [
    {
     "name": "stdout",
     "output_type": "stream",
     "text": [
      "['NA' 'MnPrv' 'GdWo' 'GdPrv' 'MnWw']\n"
     ]
    },
    {
     "data": {
      "text/plain": [
       "array([0, 3, 2, 4, 1], dtype=int64)"
      ]
     },
     "execution_count": 822,
     "metadata": {},
     "output_type": "execute_result"
    }
   ],
   "source": [
    "Fence_dict ={'NA':0,'MnWw':1,'GdWo':2, 'MnPrv':3, 'GdPrv':4}\n",
    "print(df['Fence'].unique())\n",
    "df['Fence'] = df['Fence'].map(Fence_dict)\n",
    "df['Fence'].unique()"
   ]
  },
  {
   "cell_type": "code",
   "execution_count": 823,
   "metadata": {},
   "outputs": [
    {
     "name": "stdout",
     "output_type": "stream",
     "text": [
      "[nan 'Shed' 'Gar2' 'Othr' 'TenC']\n"
     ]
    },
    {
     "data": {
      "text/plain": [
       "array(['NA', 'Shed', 'Gar2', 'Othr', 'TenC'], dtype=object)"
      ]
     },
     "execution_count": 823,
     "metadata": {},
     "output_type": "execute_result"
    }
   ],
   "source": [
    "print(df['MiscFeature'].unique())\n",
    "df['MiscFeature']=df['MiscFeature'].fillna('NA')\n",
    "df['MiscFeature'].unique()"
   ]
  },
  {
   "cell_type": "code",
   "execution_count": 824,
   "metadata": {},
   "outputs": [],
   "source": [
    "\n",
    "df['CentralAir_0']=df.apply(lambda x: 1 if x['CentralAir']=='Yes' else 0, axis =1)\n",
    "df.drop('CentralAir', axis =1 , inplace=True)"
   ]
  },
  {
   "cell_type": "code",
   "execution_count": 825,
   "metadata": {},
   "outputs": [
    {
     "data": {
      "text/html": [
       "<div>\n",
       "<style>\n",
       "    .dataframe thead tr:only-child th {\n",
       "        text-align: right;\n",
       "    }\n",
       "\n",
       "    .dataframe thead th {\n",
       "        text-align: left;\n",
       "    }\n",
       "\n",
       "    .dataframe tbody tr th {\n",
       "        vertical-align: top;\n",
       "    }\n",
       "</style>\n",
       "<table border=\"1\" class=\"dataframe\">\n",
       "  <thead>\n",
       "    <tr style=\"text-align: right;\">\n",
       "      <th></th>\n",
       "      <th>Garage</th>\n",
       "      <th>GarageCars</th>\n",
       "      <th>GarageArea</th>\n",
       "    </tr>\n",
       "  </thead>\n",
       "  <tbody>\n",
       "    <tr>\n",
       "      <th>0</th>\n",
       "      <td>7.000334</td>\n",
       "      <td>2</td>\n",
       "      <td>548</td>\n",
       "    </tr>\n",
       "    <tr>\n",
       "      <th>1</th>\n",
       "      <td>6.825460</td>\n",
       "      <td>2</td>\n",
       "      <td>460</td>\n",
       "    </tr>\n",
       "    <tr>\n",
       "      <th>2</th>\n",
       "      <td>7.104144</td>\n",
       "      <td>2</td>\n",
       "      <td>608</td>\n",
       "    </tr>\n",
       "    <tr>\n",
       "      <th>3</th>\n",
       "      <td>7.563720</td>\n",
       "      <td>3</td>\n",
       "      <td>642</td>\n",
       "    </tr>\n",
       "    <tr>\n",
       "      <th>4</th>\n",
       "      <td>7.827640</td>\n",
       "      <td>3</td>\n",
       "      <td>836</td>\n",
       "    </tr>\n",
       "  </tbody>\n",
       "</table>\n",
       "</div>"
      ],
      "text/plain": [
       "     Garage  GarageCars  GarageArea\n",
       "0  7.000334           2         548\n",
       "1  6.825460           2         460\n",
       "2  7.104144           2         608\n",
       "3  7.563720           3         642\n",
       "4  7.827640           3         836"
      ]
     },
     "execution_count": 825,
     "metadata": {},
     "output_type": "execute_result"
    }
   ],
   "source": [
    "df['Garage'] = df.apply(lambda x: np.log(x['GarageCars']*x['GarageArea']+1), axis=1)\n",
    "df.head()[['Garage','GarageCars','GarageArea']]"
   ]
  },
  {
   "cell_type": "code",
   "execution_count": 826,
   "metadata": {},
   "outputs": [
    {
     "name": "stdout",
     "output_type": "stream",
     "text": [
      "0    6\n",
      "1    5\n",
      "2    6\n",
      "3    5\n",
      "4    6\n",
      "Name: BsmtFinType1, dtype: int64\n"
     ]
    }
   ],
   "source": [
    "df['isRemodAdd']=df.apply(lambda x: x['YearRemodAdd']>x['YearBuilt'], axis =1)\n",
    "#sns.lmplot(x='YearBuilt',y='SalePrice',data=df, hue = 'isRemodAdd',scatter_kws={'alpha':0.25})\n",
    "df['yrsOld'] = df.apply(lambda x: x['YrSold']-x['YearBuilt'], axis =1)\n",
    "#sns.lmplot(x='yrsOld',y='SalePrice',data=df, hue = 'isRemodAdd',scatter_kws={'alpha':0.25})\n",
    "df['RemodAddNumYrs'] = df.apply(lambda x: x['YrSold']-x['YearRemodAdd'], axis =1)\n",
    "print(df['BsmtFinType1'].head())\n",
    "df['numOfBsmt']= df.apply(lambda x: 1 if x['BsmtFinType1']!=0 and x['BsmtFinType2']==0 else 2 if x['BsmtFinType1']!=0 and x['BsmtFinType2']!=0 else 0, axis = 1)\n",
    "df['TotalFinBsmtSF']=df.apply(lambda x: x['BsmtFinSF2']+x['BsmtFinSF1'], axis =1)\n",
    "df['TotalBathsAbvGrnd']=df.apply(lambda x: x['FullBath']+(x['HalfBath']/2), axis =1)\n",
    "df['TotalBathsBsmt']=df.apply(lambda x: x['BsmtFullBath']+(x['BsmtHalfBath']/2), axis =1)\n",
    "df['GarageYrsOld']=df.apply(lambda x: x['YrSold']-x['GarageYrBlt'], axis =1)\n",
    "df['TotalPorchArea']=df.apply(lambda x: x['WoodDeckSF']+x['OpenPorchSF']+x['EnclosedPorch']+x['3SsnPorch']+x['ScreenPorch'], axis =1)\n",
    "'Gd', 'TA', 'Ex', 'Fa'\n",
    "z = {'Ex': 5, 'Gd': 4, 'TA': 3, 'Fa':2, 'Po':1, 'NA': 0}\n",
    "z2 = {'Gd': 3, 'Av':2, 'Mn':1, 'NA': -1, 'No':0}\n",
    "z.keys()\n",
    "df['HeatingQuality']= df['HeatingQC'].map(z)\n",
    "\n",
    "df['ExterQuality'] = df['ExterQual'].map(z)\n",
    "\n",
    "df['KitchenQuality'] = df['KitchenQual'].map(z)\n",
    "#df['FireplaceQuality'] = df['FireplaceQu'].map(z)\n",
    "\n",
    "#df['GarageQuality'] = df['GarageQual'].map(z)\n",
    "\n",
    "#df['GarageCondition'] = df['GarageCond'].map(z)\n",
    "df['PoolQuality'] = df['PoolQC'].map(z)\n",
    "df['BsmtCondition'] = df['BsmtCond'].map(z)\n",
    "df['BsmtQual'] = df['BsmtQual'].map(z)\n",
    "#df['GarageCondition'] = df['GarageCond'].map(z)\n",
    "df['BsmtExposureMapped'] = df['BsmtExposure'].map(z2)\n",
    "#df['BsmtExposure'].unique()\n",
    "#df['ExterCondition'] = df['ExterCond'].map(z)\n",
    "#df.drop('OverallQualcond', axis = 1, inplace=True)\n",
    "#df['OverallQualcond']=df.apply(lambda x: (x['OverallQual']+x['OverallCond'])/2, axis =1)\n",
    "#df['NumOfFloors']=df.apply(lambda x: 1 if x['2ndFlrSF']==0 else 2, axis =1)\n",
    "#df[(df['BsmtFinType1']=='NA') &((df['BsmtFinType2']!='NA'))]\n",
    "#df[df['numOfBsmt']!=2][['numOfBsmt','BsmtFinType1','BsmtFinType2']]\n",
    "#plt.scatter()"
   ]
  },
  {
   "cell_type": "code",
   "execution_count": 827,
   "metadata": {},
   "outputs": [],
   "source": [
    "df['GarageCondition'] = df['GarageCond'].map(z)\n",
    "df.drop(['GarageCond'],axis = 1, inplace=True)"
   ]
  },
  {
   "cell_type": "code",
   "execution_count": 828,
   "metadata": {},
   "outputs": [],
   "source": [
    "df.drop(['BsmtExposure'],axis = 1, inplace=True)\n",
    "#df.drop(['KitchenQual','HeatingQC','ExterQual'],axis = 1, inplace=True)\n",
    "#df.drop(['FireplaceQu','GarageQual'],axis = 1, inplace=True)\n",
    "#df.drop(['GarageCond'],axis = 1, inplace=True)\n",
    "#df.drop(['PoolQC'],axis = 1, inplace=True)\n",
    "#df.drop(['ExterCond'],axis = 1, inplace=True)\n",
    "#df.drop(['ExterCond'],axis = 1, inplace=True)\n",
    "#df.drop(['BsmtCondition'],axis = 1, inplace=True)\n",
    "df.drop(['MiscVal'],axis = 1, inplace=True)\n"
   ]
  },
  {
   "cell_type": "code",
   "execution_count": 829,
   "metadata": {},
   "outputs": [
    {
     "data": {
      "text/plain": [
       "Index(['Id', 'MSSubClass', 'MSZoning', 'LotFrontage', 'LotArea', 'Street',\n",
       "       'Alley', 'LotShape', 'LandContour', 'Utilities', 'LotConfig',\n",
       "       'LandSlope', 'Neighborhood', 'Condition1', 'Condition2', 'BldgType',\n",
       "       'HouseStyle', 'OverallQual', 'OverallCond', 'YearBuilt', 'YearRemodAdd',\n",
       "       'RoofStyle', 'RoofMatl', 'Exterior1st', 'Exterior2nd', 'MasVnrType',\n",
       "       'MasVnrArea', 'ExterQual', 'ExterCond', 'Foundation', 'BsmtQual',\n",
       "       'BsmtCond', 'BsmtFinType1', 'BsmtFinSF1', 'BsmtFinType2', 'BsmtFinSF2',\n",
       "       'BsmtUnfSF', 'TotalBsmtSF', 'Heating', 'HeatingQC', 'Electrical',\n",
       "       '1stFlrSF', '2ndFlrSF', 'LowQualFinSF', 'GrLivArea', 'BsmtFullBath',\n",
       "       'BsmtHalfBath', 'FullBath', 'HalfBath', 'BedroomAbvGr', 'KitchenAbvGr',\n",
       "       'KitchenQual', 'TotRmsAbvGrd', 'Functional', 'Fireplaces',\n",
       "       'FireplaceQu', 'GarageType', 'GarageYrBlt', 'GarageFinish',\n",
       "       'GarageCars', 'GarageArea', 'GarageQual', 'PavedDrive', 'WoodDeckSF',\n",
       "       'OpenPorchSF', 'EnclosedPorch', '3SsnPorch', 'ScreenPorch', 'PoolQC',\n",
       "       'Fence', 'MiscFeature', 'MoSold', 'YrSold', 'SaleType', 'SaleCondition',\n",
       "       'SalePrice', 'LocationProximity', 'isNew', 'CentralAir_0', 'Garage',\n",
       "       'isRemodAdd', 'yrsOld', 'RemodAddNumYrs', 'numOfBsmt', 'TotalFinBsmtSF',\n",
       "       'TotalBathsAbvGrnd', 'TotalBathsBsmt', 'GarageYrsOld', 'TotalPorchArea',\n",
       "       'HeatingQuality', 'ExterQuality', 'KitchenQuality', 'PoolQuality',\n",
       "       'BsmtCondition', 'BsmtExposureMapped', 'GarageCondition'],\n",
       "      dtype='object')"
      ]
     },
     "execution_count": 829,
     "metadata": {},
     "output_type": "execute_result"
    }
   ],
   "source": [
    "SalePrice = df[['Id','SalePrice']]\n",
    "SalePrice[['Id','SalePrice']].iloc[0]\n",
    "df.columns"
   ]
  },
  {
   "cell_type": "code",
   "execution_count": 830,
   "metadata": {},
   "outputs": [
    {
     "data": {
      "text/plain": [
       "dtype('int64')"
      ]
     },
     "execution_count": 830,
     "metadata": {},
     "output_type": "execute_result"
    }
   ],
   "source": [
    "df['BsmtCondition'].dtype"
   ]
  },
  {
   "cell_type": "code",
   "execution_count": 831,
   "metadata": {},
   "outputs": [
    {
     "name": "stdout",
     "output_type": "stream",
     "text": [
      "None\n"
     ]
    },
    {
     "data": {
      "text/plain": [
       "Index(['1stFlrSF', '2ndFlrSF', '3SsnPorch', 'Alley', 'BedroomAbvGr',\n",
       "       'BsmtCondition', 'BsmtExposureMapped', 'BsmtFinSF1', 'BsmtFinSF2',\n",
       "       'BsmtFinType1', 'BsmtFinType2', 'BsmtFullBath', 'BsmtHalfBath',\n",
       "       'BsmtQual', 'BsmtUnfSF', 'CentralAir_0', 'Electrical', 'EnclosedPorch',\n",
       "       'ExterQuality', 'Fence', 'Fireplaces', 'FullBath', 'Functional',\n",
       "       'Garage', 'GarageArea', 'GarageCars', 'GarageCondition', 'GarageFinish',\n",
       "       'GarageYrsOld', 'GrLivArea', 'HalfBath', 'HeatingQuality', 'Id',\n",
       "       'KitchenAbvGr', 'KitchenQuality', 'LandSlope', 'LocationProximity',\n",
       "       'LotArea', 'LotFrontage', 'LotShape', 'LowQualFinSF', 'MasVnrArea',\n",
       "       'OpenPorchSF', 'OverallCond', 'OverallQual', 'PavedDrive',\n",
       "       'PoolQuality', 'RemodAddNumYrs', 'SalePrice', 'ScreenPorch', 'Street',\n",
       "       'TotRmsAbvGrd', 'TotalBathsAbvGrnd', 'TotalBathsBsmt', 'TotalBsmtSF',\n",
       "       'TotalFinBsmtSF', 'TotalPorchArea', 'Utilities', 'WoodDeckSF', 'isNew',\n",
       "       'isRemodAdd', 'numOfBsmt', 'yrsOld'],\n",
       "      dtype='object')"
      ]
     },
     "execution_count": 831,
     "metadata": {},
     "output_type": "execute_result"
    }
   ],
   "source": [
    "#column_types = list()\n",
    "#for x in df.columns:\n",
    "#    column_types.append((x,type(df[x].iloc[0])))\n",
    "column_types=[(x,type(df[x].iloc[0])) for x in df.columns]\n",
    "cat_columns = [x for (x,coltype) in column_types if coltype==str]\n",
    "numerical_columns = df.columns.difference(cat_columns)\n",
    "date_columns = ['YearRemodAdd', 'YrSold' , 'YearBuilt', 'MoSold', 'GarageYrBlt']\n",
    "len(df.columns) - (len(cat_columns)+len(numerical_columns))\n",
    "numerical_columns = numerical_columns.difference(['MSSubClass'])\n",
    "cat_columns = cat_columns.append('MSSubClass')\n",
    "numerical_columns.difference(date_columns)\n",
    "print(['Id','SalePrice'].append(date_columns))\n",
    "cols_normalize = numerical_columns.difference(date_columns)\n",
    "cols_normalize"
   ]
  },
  {
   "cell_type": "code",
   "execution_count": null,
   "metadata": {},
   "outputs": [],
   "source": []
  },
  {
   "cell_type": "code",
   "execution_count": 832,
   "metadata": {},
   "outputs": [
    {
     "data": {
      "text/html": [
       "<div>\n",
       "<style>\n",
       "    .dataframe thead tr:only-child th {\n",
       "        text-align: right;\n",
       "    }\n",
       "\n",
       "    .dataframe thead th {\n",
       "        text-align: left;\n",
       "    }\n",
       "\n",
       "    .dataframe tbody tr th {\n",
       "        vertical-align: top;\n",
       "    }\n",
       "</style>\n",
       "<table border=\"1\" class=\"dataframe\">\n",
       "  <thead>\n",
       "    <tr style=\"text-align: right;\">\n",
       "      <th></th>\n",
       "      <th>Id</th>\n",
       "      <th>MSSubClass</th>\n",
       "      <th>MSZoning</th>\n",
       "      <th>LotFrontage</th>\n",
       "      <th>LotArea</th>\n",
       "      <th>Street</th>\n",
       "      <th>Alley</th>\n",
       "      <th>LotShape</th>\n",
       "      <th>LandContour</th>\n",
       "      <th>Utilities</th>\n",
       "      <th>...</th>\n",
       "      <th>TotalBathsBsmt</th>\n",
       "      <th>GarageYrsOld</th>\n",
       "      <th>TotalPorchArea</th>\n",
       "      <th>HeatingQuality</th>\n",
       "      <th>ExterQuality</th>\n",
       "      <th>KitchenQuality</th>\n",
       "      <th>PoolQuality</th>\n",
       "      <th>BsmtCondition</th>\n",
       "      <th>BsmtExposureMapped</th>\n",
       "      <th>GarageCondition</th>\n",
       "    </tr>\n",
       "  </thead>\n",
       "  <tbody>\n",
       "    <tr>\n",
       "      <th>0</th>\n",
       "      <td>1</td>\n",
       "      <td>60</td>\n",
       "      <td>RL</td>\n",
       "      <td>0.223761</td>\n",
       "      <td>-0.203934</td>\n",
       "      <td>0.064282</td>\n",
       "      <td>-0.243202</td>\n",
       "      <td>0.702100</td>\n",
       "      <td>Lvl</td>\n",
       "      <td>0.026198</td>\n",
       "      <td>...</td>\n",
       "      <td>1.066169</td>\n",
       "      <td>-0.295846</td>\n",
       "      <td>-0.767682</td>\n",
       "      <td>0.892277</td>\n",
       "      <td>1.061109</td>\n",
       "      <td>0.741127</td>\n",
       "      <td>-0.060845</td>\n",
       "      <td>0.117966</td>\n",
       "      <td>-0.589102</td>\n",
       "      <td>0.265813</td>\n",
       "    </tr>\n",
       "    <tr>\n",
       "      <th>1</th>\n",
       "      <td>2</td>\n",
       "      <td>20</td>\n",
       "      <td>RL</td>\n",
       "      <td>0.665308</td>\n",
       "      <td>-0.087252</td>\n",
       "      <td>0.064282</td>\n",
       "      <td>-0.243202</td>\n",
       "      <td>0.702100</td>\n",
       "      <td>Lvl</td>\n",
       "      <td>0.026198</td>\n",
       "      <td>...</td>\n",
       "      <td>0.092188</td>\n",
       "      <td>-0.238557</td>\n",
       "      <td>0.750894</td>\n",
       "      <td>0.892277</td>\n",
       "      <td>-0.689001</td>\n",
       "      <td>-0.770150</td>\n",
       "      <td>-0.060845</td>\n",
       "      <td>0.117966</td>\n",
       "      <td>2.230080</td>\n",
       "      <td>0.265813</td>\n",
       "    </tr>\n",
       "    <tr>\n",
       "      <th>2</th>\n",
       "      <td>3</td>\n",
       "      <td>60</td>\n",
       "      <td>RL</td>\n",
       "      <td>0.312070</td>\n",
       "      <td>0.080162</td>\n",
       "      <td>0.064282</td>\n",
       "      <td>-0.243202</td>\n",
       "      <td>-1.027059</td>\n",
       "      <td>Lvl</td>\n",
       "      <td>0.026198</td>\n",
       "      <td>...</td>\n",
       "      <td>1.066169</td>\n",
       "      <td>-0.291439</td>\n",
       "      <td>-0.889424</td>\n",
       "      <td>0.892277</td>\n",
       "      <td>1.061109</td>\n",
       "      <td>0.741127</td>\n",
       "      <td>-0.060845</td>\n",
       "      <td>0.117966</td>\n",
       "      <td>0.350625</td>\n",
       "      <td>0.265813</td>\n",
       "    </tr>\n",
       "    <tr>\n",
       "      <th>3</th>\n",
       "      <td>4</td>\n",
       "      <td>70</td>\n",
       "      <td>RL</td>\n",
       "      <td>0.076579</td>\n",
       "      <td>-0.092325</td>\n",
       "      <td>0.064282</td>\n",
       "      <td>-0.243202</td>\n",
       "      <td>-1.027059</td>\n",
       "      <td>Lvl</td>\n",
       "      <td>0.026198</td>\n",
       "      <td>...</td>\n",
       "      <td>1.066169</td>\n",
       "      <td>-0.289236</td>\n",
       "      <td>0.808561</td>\n",
       "      <td>-0.150143</td>\n",
       "      <td>-0.689001</td>\n",
       "      <td>0.741127</td>\n",
       "      <td>-0.060845</td>\n",
       "      <td>1.928437</td>\n",
       "      <td>-0.589102</td>\n",
       "      <td>0.265813</td>\n",
       "    </tr>\n",
       "    <tr>\n",
       "      <th>4</th>\n",
       "      <td>5</td>\n",
       "      <td>60</td>\n",
       "      <td>RL</td>\n",
       "      <td>0.783053</td>\n",
       "      <td>0.385566</td>\n",
       "      <td>0.064282</td>\n",
       "      <td>-0.243202</td>\n",
       "      <td>-1.027059</td>\n",
       "      <td>Lvl</td>\n",
       "      <td>0.026198</td>\n",
       "      <td>...</td>\n",
       "      <td>1.066169</td>\n",
       "      <td>-0.289236</td>\n",
       "      <td>0.609929</td>\n",
       "      <td>0.892277</td>\n",
       "      <td>1.061109</td>\n",
       "      <td>0.741127</td>\n",
       "      <td>-0.060845</td>\n",
       "      <td>0.117966</td>\n",
       "      <td>1.290352</td>\n",
       "      <td>0.265813</td>\n",
       "    </tr>\n",
       "  </tbody>\n",
       "</table>\n",
       "<p>5 rows × 96 columns</p>\n",
       "</div>"
      ],
      "text/plain": [
       "   Id  MSSubClass MSZoning  LotFrontage   LotArea    Street     Alley  \\\n",
       "0   1          60       RL     0.223761 -0.203934  0.064282 -0.243202   \n",
       "1   2          20       RL     0.665308 -0.087252  0.064282 -0.243202   \n",
       "2   3          60       RL     0.312070  0.080162  0.064282 -0.243202   \n",
       "3   4          70       RL     0.076579 -0.092325  0.064282 -0.243202   \n",
       "4   5          60       RL     0.783053  0.385566  0.064282 -0.243202   \n",
       "\n",
       "   LotShape LandContour  Utilities       ...        TotalBathsBsmt  \\\n",
       "0  0.702100         Lvl   0.026198       ...              1.066169   \n",
       "1  0.702100         Lvl   0.026198       ...              0.092188   \n",
       "2 -1.027059         Lvl   0.026198       ...              1.066169   \n",
       "3 -1.027059         Lvl   0.026198       ...              1.066169   \n",
       "4 -1.027059         Lvl   0.026198       ...              1.066169   \n",
       "\n",
       "   GarageYrsOld TotalPorchArea HeatingQuality ExterQuality KitchenQuality  \\\n",
       "0     -0.295846      -0.767682       0.892277     1.061109       0.741127   \n",
       "1     -0.238557       0.750894       0.892277    -0.689001      -0.770150   \n",
       "2     -0.291439      -0.889424       0.892277     1.061109       0.741127   \n",
       "3     -0.289236       0.808561      -0.150143    -0.689001       0.741127   \n",
       "4     -0.289236       0.609929       0.892277     1.061109       0.741127   \n",
       "\n",
       "  PoolQuality  BsmtCondition  BsmtExposureMapped  GarageCondition  \n",
       "0   -0.060845       0.117966           -0.589102         0.265813  \n",
       "1   -0.060845       0.117966            2.230080         0.265813  \n",
       "2   -0.060845       0.117966            0.350625         0.265813  \n",
       "3   -0.060845       1.928437           -0.589102         0.265813  \n",
       "4   -0.060845       0.117966            1.290352         0.265813  \n",
       "\n",
       "[5 rows x 96 columns]"
      ]
     },
     "execution_count": 832,
     "metadata": {},
     "output_type": "execute_result"
    }
   ],
   "source": [
    "from sklearn.preprocessing import StandardScaler\n",
    "scaler  = StandardScaler()\n",
    "scaler.fit(df[cols_normalize].drop(['Id','SalePrice'], axis =1))\n",
    "dff_n = df.copy()\n",
    "#dff_n[cols_normalize.difference(['Id','SalePrice'])] = pd.DataFrame(scaler.transform(df[cols_normalize].drop(['Id','SalePrice'], axis =1)), columns= cols_normalize.difference(['Id','SalePrice']))\n",
    "dff_n[cols_normalize.difference(['Id','SalePrice'])] = scaler.transform(df[cols_normalize].drop(['Id','SalePrice'], axis =1))\n",
    "#dff_n[cols_normalize.difference(['Id','SalePrice'])] =scaler.transform(df[cols_normalize].drop(['Id','SalePrice'], axis =1))\n",
    "#dff_n = pd.concat(dff_n.append(SalePrice)\n",
    "#dff_n[['Id','SalePrice']].merge(SalePrice)\n",
    "dff_n[['Id','SalePrice']] = SalePrice\n",
    "dff_n.head()\n",
    "\n"
   ]
  },
  {
   "cell_type": "code",
   "execution_count": null,
   "metadata": {},
   "outputs": [],
   "source": []
  },
  {
   "cell_type": "code",
   "execution_count": 833,
   "metadata": {},
   "outputs": [],
   "source": [
    "dff_n.drop(['numOfBsmt','BsmtUnfSF', 'HalfBath', 'FullBath', 'BsmtFullBath', 'BsmtHalfBath'],axis=1, inplace=True)"
   ]
  },
  {
   "cell_type": "code",
   "execution_count": 834,
   "metadata": {
    "collapsed": true
   },
   "outputs": [],
   "source": [
    "dff=pd.get_dummies(dff_n.drop(['BsmtCond'],axis=1))\n",
    "\n",
    "#new=pd.get_dummies(dff['MSSubClass'], prefix='MSSubClass')\n",
    "#dff=pd.concat([dff,new], axis =1)\n",
    "#dff.drop('MSSubClass', axis = 1, inplace=True)\n",
    "#dff=dff.copy()"
   ]
  },
  {
   "cell_type": "code",
   "execution_count": 835,
   "metadata": {},
   "outputs": [
    {
     "data": {
      "text/html": [
       "<div>\n",
       "<style>\n",
       "    .dataframe thead tr:only-child th {\n",
       "        text-align: right;\n",
       "    }\n",
       "\n",
       "    .dataframe thead th {\n",
       "        text-align: left;\n",
       "    }\n",
       "\n",
       "    .dataframe tbody tr th {\n",
       "        vertical-align: top;\n",
       "    }\n",
       "</style>\n",
       "<table border=\"1\" class=\"dataframe\">\n",
       "  <thead>\n",
       "    <tr style=\"text-align: right;\">\n",
       "      <th></th>\n",
       "      <th>Id</th>\n",
       "      <th>LotFrontage</th>\n",
       "      <th>LotArea</th>\n",
       "      <th>Street</th>\n",
       "      <th>Alley</th>\n",
       "      <th>LotShape</th>\n",
       "      <th>Utilities</th>\n",
       "      <th>LandSlope</th>\n",
       "      <th>OverallQual</th>\n",
       "      <th>OverallCond</th>\n",
       "      <th>...</th>\n",
       "      <th>MSSubClass_60</th>\n",
       "      <th>MSSubClass_70</th>\n",
       "      <th>MSSubClass_75</th>\n",
       "      <th>MSSubClass_80</th>\n",
       "      <th>MSSubClass_85</th>\n",
       "      <th>MSSubClass_90</th>\n",
       "      <th>MSSubClass_120</th>\n",
       "      <th>MSSubClass_160</th>\n",
       "      <th>MSSubClass_180</th>\n",
       "      <th>MSSubClass_190</th>\n",
       "    </tr>\n",
       "  </thead>\n",
       "  <tbody>\n",
       "    <tr>\n",
       "      <th>0</th>\n",
       "      <td>1</td>\n",
       "      <td>0.223761</td>\n",
       "      <td>-0.203934</td>\n",
       "      <td>0.064282</td>\n",
       "      <td>-0.243202</td>\n",
       "      <td>0.702100</td>\n",
       "      <td>0.026198</td>\n",
       "      <td>0.225879</td>\n",
       "      <td>0.658506</td>\n",
       "      <td>-0.517649</td>\n",
       "      <td>...</td>\n",
       "      <td>1</td>\n",
       "      <td>0</td>\n",
       "      <td>0</td>\n",
       "      <td>0</td>\n",
       "      <td>0</td>\n",
       "      <td>0</td>\n",
       "      <td>0</td>\n",
       "      <td>0</td>\n",
       "      <td>0</td>\n",
       "      <td>0</td>\n",
       "    </tr>\n",
       "    <tr>\n",
       "      <th>1</th>\n",
       "      <td>2</td>\n",
       "      <td>0.665308</td>\n",
       "      <td>-0.087252</td>\n",
       "      <td>0.064282</td>\n",
       "      <td>-0.243202</td>\n",
       "      <td>0.702100</td>\n",
       "      <td>0.026198</td>\n",
       "      <td>0.225879</td>\n",
       "      <td>-0.068293</td>\n",
       "      <td>2.177825</td>\n",
       "      <td>...</td>\n",
       "      <td>0</td>\n",
       "      <td>0</td>\n",
       "      <td>0</td>\n",
       "      <td>0</td>\n",
       "      <td>0</td>\n",
       "      <td>0</td>\n",
       "      <td>0</td>\n",
       "      <td>0</td>\n",
       "      <td>0</td>\n",
       "      <td>0</td>\n",
       "    </tr>\n",
       "    <tr>\n",
       "      <th>2</th>\n",
       "      <td>3</td>\n",
       "      <td>0.312070</td>\n",
       "      <td>0.080162</td>\n",
       "      <td>0.064282</td>\n",
       "      <td>-0.243202</td>\n",
       "      <td>-1.027059</td>\n",
       "      <td>0.026198</td>\n",
       "      <td>0.225879</td>\n",
       "      <td>0.658506</td>\n",
       "      <td>-0.517649</td>\n",
       "      <td>...</td>\n",
       "      <td>1</td>\n",
       "      <td>0</td>\n",
       "      <td>0</td>\n",
       "      <td>0</td>\n",
       "      <td>0</td>\n",
       "      <td>0</td>\n",
       "      <td>0</td>\n",
       "      <td>0</td>\n",
       "      <td>0</td>\n",
       "      <td>0</td>\n",
       "    </tr>\n",
       "    <tr>\n",
       "      <th>3</th>\n",
       "      <td>4</td>\n",
       "      <td>0.076579</td>\n",
       "      <td>-0.092325</td>\n",
       "      <td>0.064282</td>\n",
       "      <td>-0.243202</td>\n",
       "      <td>-1.027059</td>\n",
       "      <td>0.026198</td>\n",
       "      <td>0.225879</td>\n",
       "      <td>0.658506</td>\n",
       "      <td>-0.517649</td>\n",
       "      <td>...</td>\n",
       "      <td>0</td>\n",
       "      <td>1</td>\n",
       "      <td>0</td>\n",
       "      <td>0</td>\n",
       "      <td>0</td>\n",
       "      <td>0</td>\n",
       "      <td>0</td>\n",
       "      <td>0</td>\n",
       "      <td>0</td>\n",
       "      <td>0</td>\n",
       "    </tr>\n",
       "    <tr>\n",
       "      <th>4</th>\n",
       "      <td>5</td>\n",
       "      <td>0.783053</td>\n",
       "      <td>0.385566</td>\n",
       "      <td>0.064282</td>\n",
       "      <td>-0.243202</td>\n",
       "      <td>-1.027059</td>\n",
       "      <td>0.026198</td>\n",
       "      <td>0.225879</td>\n",
       "      <td>1.385305</td>\n",
       "      <td>-0.517649</td>\n",
       "      <td>...</td>\n",
       "      <td>1</td>\n",
       "      <td>0</td>\n",
       "      <td>0</td>\n",
       "      <td>0</td>\n",
       "      <td>0</td>\n",
       "      <td>0</td>\n",
       "      <td>0</td>\n",
       "      <td>0</td>\n",
       "      <td>0</td>\n",
       "      <td>0</td>\n",
       "    </tr>\n",
       "  </tbody>\n",
       "</table>\n",
       "<p>5 rows × 265 columns</p>\n",
       "</div>"
      ],
      "text/plain": [
       "   Id  LotFrontage   LotArea    Street     Alley  LotShape  Utilities  \\\n",
       "0   1     0.223761 -0.203934  0.064282 -0.243202  0.702100   0.026198   \n",
       "1   2     0.665308 -0.087252  0.064282 -0.243202  0.702100   0.026198   \n",
       "2   3     0.312070  0.080162  0.064282 -0.243202 -1.027059   0.026198   \n",
       "3   4     0.076579 -0.092325  0.064282 -0.243202 -1.027059   0.026198   \n",
       "4   5     0.783053  0.385566  0.064282 -0.243202 -1.027059   0.026198   \n",
       "\n",
       "   LandSlope  OverallQual  OverallCond       ...        MSSubClass_60  \\\n",
       "0   0.225879     0.658506    -0.517649       ...                    1   \n",
       "1   0.225879    -0.068293     2.177825       ...                    0   \n",
       "2   0.225879     0.658506    -0.517649       ...                    1   \n",
       "3   0.225879     0.658506    -0.517649       ...                    0   \n",
       "4   0.225879     1.385305    -0.517649       ...                    1   \n",
       "\n",
       "   MSSubClass_70  MSSubClass_75  MSSubClass_80  MSSubClass_85  MSSubClass_90  \\\n",
       "0              0              0              0              0              0   \n",
       "1              0              0              0              0              0   \n",
       "2              0              0              0              0              0   \n",
       "3              1              0              0              0              0   \n",
       "4              0              0              0              0              0   \n",
       "\n",
       "   MSSubClass_120  MSSubClass_160  MSSubClass_180  MSSubClass_190  \n",
       "0               0               0               0               0  \n",
       "1               0               0               0               0  \n",
       "2               0               0               0               0  \n",
       "3               0               0               0               0  \n",
       "4               0               0               0               0  \n",
       "\n",
       "[5 rows x 265 columns]"
      ]
     },
     "execution_count": 835,
     "metadata": {},
     "output_type": "execute_result"
    }
   ],
   "source": [
    "dff = pd.concat([dff,pd.get_dummies(dff['MSSubClass'], prefix='MSSubClass')], axis=1)\n",
    "dff.index.values\n",
    "dff.drop('MSSubClass', axis = 1, inplace=True)\n",
    "dff.head()"
   ]
  },
  {
   "cell_type": "code",
   "execution_count": 836,
   "metadata": {},
   "outputs": [
    {
     "data": {
      "text/html": [
       "<div>\n",
       "<style>\n",
       "    .dataframe thead tr:only-child th {\n",
       "        text-align: right;\n",
       "    }\n",
       "\n",
       "    .dataframe thead th {\n",
       "        text-align: left;\n",
       "    }\n",
       "\n",
       "    .dataframe tbody tr th {\n",
       "        vertical-align: top;\n",
       "    }\n",
       "</style>\n",
       "<table border=\"1\" class=\"dataframe\">\n",
       "  <thead>\n",
       "    <tr style=\"text-align: right;\">\n",
       "      <th></th>\n",
       "      <th>Id</th>\n",
       "      <th>LotFrontage</th>\n",
       "      <th>LotArea</th>\n",
       "      <th>Street</th>\n",
       "      <th>Alley</th>\n",
       "      <th>LotShape</th>\n",
       "      <th>Utilities</th>\n",
       "      <th>LandSlope</th>\n",
       "      <th>OverallQual</th>\n",
       "      <th>OverallCond</th>\n",
       "      <th>...</th>\n",
       "      <th>MSSubClass_60</th>\n",
       "      <th>MSSubClass_70</th>\n",
       "      <th>MSSubClass_75</th>\n",
       "      <th>MSSubClass_80</th>\n",
       "      <th>MSSubClass_85</th>\n",
       "      <th>MSSubClass_90</th>\n",
       "      <th>MSSubClass_120</th>\n",
       "      <th>MSSubClass_160</th>\n",
       "      <th>MSSubClass_180</th>\n",
       "      <th>MSSubClass_190</th>\n",
       "    </tr>\n",
       "  </thead>\n",
       "  <tbody>\n",
       "  </tbody>\n",
       "</table>\n",
       "<p>0 rows × 255 columns</p>\n",
       "</div>"
      ],
      "text/plain": [
       "Empty DataFrame\n",
       "Columns: [Id, LotFrontage, LotArea, Street, Alley, LotShape, Utilities, LandSlope, OverallQual, OverallCond, MasVnrArea, BsmtQual, BsmtFinType1, BsmtFinSF1, BsmtFinType2, BsmtFinSF2, TotalBsmtSF, Electrical, 1stFlrSF, 2ndFlrSF, LowQualFinSF, GrLivArea, BedroomAbvGr, KitchenAbvGr, TotRmsAbvGrd, Functional, Fireplaces, GarageYrBlt, GarageFinish, PavedDrive, Fence, MoSold, YrSold, LocationProximity, isNew, CentralAir_0, Garage, isRemodAdd, yrsOld, RemodAddNumYrs, TotalFinBsmtSF, TotalBathsAbvGrnd, TotalBathsBsmt, GarageYrsOld, TotalPorchArea, HeatingQuality, ExterQuality, KitchenQuality, PoolQuality, BsmtCondition, BsmtExposureMapped, GarageCondition, MSZoning_C (all), MSZoning_FV, MSZoning_RH, MSZoning_RL, MSZoning_RM, LandContour_Bnk, LandContour_HLS, LandContour_Low, LandContour_Lvl, LotConfig_Corner, LotConfig_CulDSac, LotConfig_FR2, LotConfig_FR3, LotConfig_Inside, Neighborhood_Blmngtn, Neighborhood_Blueste, Neighborhood_BrDale, Neighborhood_BrkSide, Neighborhood_ClearCr, Neighborhood_CollgCr, Neighborhood_Crawfor, Neighborhood_Edwards, Neighborhood_Gilbert, Neighborhood_IDOTRR, Neighborhood_MeadowV, Neighborhood_Mitchel, Neighborhood_NAmes, Neighborhood_NPkVill, Neighborhood_NWAmes, Neighborhood_NoRidge, Neighborhood_NridgHt, Neighborhood_OldTown, Neighborhood_SWISU, Neighborhood_Sawyer, Neighborhood_SawyerW, Neighborhood_Somerst, Neighborhood_StoneBr, Neighborhood_Timber, Neighborhood_Veenker, Condition1_Artery, Condition1_Feedr, Condition1_Norm, Condition1_PosA, Condition1_PosN, Condition1_RRAe, Condition1_RRAn, Condition1_RRNe, Condition1_RRNn, ...]\n",
       "Index: []\n",
       "\n",
       "[0 rows x 255 columns]"
      ]
     },
     "execution_count": 836,
     "metadata": {},
     "output_type": "execute_result"
    }
   ],
   "source": [
    "dff_train = dff[:1458].drop(['GarageCars','GarageArea', 'SalePrice','YearRemodAdd','YearBuilt', 'WoodDeckSF','OpenPorchSF','EnclosedPorch','3SsnPorch','ScreenPorch'], axis =1)\n",
    "dff_train_y = dff[:1458]['SalePrice']\n",
    "dff_train_y = np.log1p(dff_train_y)\n",
    "dff_test = dff[1458:].drop(['GarageCars','GarageArea', 'SalePrice','YearRemodAdd','YearBuilt', 'WoodDeckSF','OpenPorchSF','EnclosedPorch','3SsnPorch','ScreenPorch'], axis =1)\n",
    "dff_test.head()"
   ]
  },
  {
   "cell_type": "code",
   "execution_count": 843,
   "metadata": {},
   "outputs": [],
   "source": [
    "from sklearn.model_selection import train_test_split\n",
    "dff_train = dff.drop(['GarageCars','GarageArea', 'Id', 'SalePrice','YearRemodAdd','YearBuilt', 'WoodDeckSF','OpenPorchSF','EnclosedPorch','3SsnPorch','ScreenPorch'], axis =1)\n",
    "X_train, X_test, y_train, y_test = train_test_split(dff_train, dff['SalePrice'], test_size=0.3, random_state=101)\n",
    "y_train = np.log1p(y_train)"
   ]
  },
  {
   "cell_type": "code",
   "execution_count": 844,
   "metadata": {},
   "outputs": [
    {
     "data": {
      "text/plain": [
       "0.1194233336288563"
      ]
     },
     "execution_count": 844,
     "metadata": {},
     "output_type": "execute_result"
    }
   ],
   "source": [
    "from xgboost.sklearn import XGBRegressor\n",
    "from sklearn.metrics import mean_squared_log_error\n",
    "from math import sqrt\n",
    "xgb = XGBRegressor(\n",
    "       colsample_bytree=0.99929751802600186,\n",
    "       \n",
    "       min_child_weight=0.82986397653216548,\n",
    "       n_estimators=300, nthread=-1, objective='reg:linear', reg_lambda=1, scale_pos_weight=1,\n",
    "       seed=0, silent=True, subsample=0.86074883449537232)\n",
    "\n",
    "bst = xgb.fit(X_train,y_train)\n",
    "preds = xgb.predict(X_test)\n",
    "preds = np.expm1(preds)\n",
    "rmse = sqrt(mean_squared_log_error(y_test, preds))\n",
    "rmse"
   ]
  },
  {
   "cell_type": "code",
   "execution_count": 528,
   "metadata": {
    "collapsed": true
   },
   "outputs": [
    {
     "data": {
      "text/plain": [
       "0.11969034365625676"
      ]
     },
     "execution_count": 528,
     "metadata": {},
     "output_type": "execute_result"
    }
   ],
   "source": [
    "from xgboost.sklearn import XGBRegressor\n",
    "from sklearn.metrics import mean_squared_log_error\n",
    "from math import sqrt\n",
    "xgb = XGBRegressor(\n",
    "       colsample_bytree=0.99929751802600186,\n",
    "       \n",
    "       min_child_weight=0.82986397653216548,\n",
    "       n_estimators=300, nthread=-1, objective='reg:linear', reg_lambda=1, scale_pos_weight=1,\n",
    "       seed=0, silent=True, subsample=0.86074883449537232)\n",
    "\n",
    "bst = xgb.fit(X_train,y_train)\n",
    "preds = xgb.predict(X_test)\n",
    "preds = np.expm1(preds)\n",
    "rmse = sqrt(mean_squared_log_error(y_test, preds))\n",
    "rmse"
   ]
  },
  {
   "cell_type": "code",
   "execution_count": 364,
   "metadata": {
    "collapsed": true
   },
   "outputs": [
    {
     "ename": "ValueError",
     "evalue": "Parameter values for parameter (gamma) need to be a sequence(but not a string) or np.ndarray.",
     "output_type": "error",
     "traceback": [
      "\u001b[1;31m---------------------------------------------------------------------------\u001b[0m",
      "\u001b[1;31mValueError\u001b[0m                                Traceback (most recent call last)",
      "\u001b[1;32m<ipython-input-364-2017ed5cf689>\u001b[0m in \u001b[0;36m<module>\u001b[1;34m()\u001b[0m\n\u001b[0;32m      7\u001b[0m \u001b[0mparam_grid\u001b[0m \u001b[1;33m=\u001b[0m \u001b[0mdict\u001b[0m\u001b[1;33m(\u001b[0m\u001b[0mgamma\u001b[0m \u001b[1;33m=\u001b[0m \u001b[0mgamma\u001b[0m\u001b[1;33m)\u001b[0m\u001b[1;33m\u001b[0m\u001b[0m\n\u001b[0;32m      8\u001b[0m \u001b[0mparams\u001b[0m\u001b[1;33m=\u001b[0m\u001b[1;33m{\u001b[0m\u001b[1;34m\"gamma\"\u001b[0m\u001b[1;33m:\u001b[0m \u001b[0mst\u001b[0m\u001b[1;33m.\u001b[0m\u001b[0muniform\u001b[0m\u001b[1;33m(\u001b[0m\u001b[1;36m0\u001b[0m\u001b[1;33m,\u001b[0m \u001b[1;36m10\u001b[0m\u001b[1;33m)\u001b[0m\u001b[1;33m}\u001b[0m\u001b[1;33m\u001b[0m\u001b[0m\n\u001b[1;32m----> 9\u001b[1;33m \u001b[0mgrid_search\u001b[0m \u001b[1;33m=\u001b[0m \u001b[0mGridSearchCV\u001b[0m\u001b[1;33m(\u001b[0m\u001b[0mxgb\u001b[0m\u001b[1;33m,\u001b[0m \u001b[0mparams\u001b[0m\u001b[1;33m,\u001b[0m\u001b[0mcv\u001b[0m\u001b[1;33m=\u001b[0m\u001b[1;36m5\u001b[0m\u001b[1;33m,\u001b[0m \u001b[0mn_jobs\u001b[0m\u001b[1;33m=\u001b[0m\u001b[1;33m-\u001b[0m\u001b[1;36m1\u001b[0m\u001b[1;33m,\u001b[0m \u001b[0mscoring\u001b[0m\u001b[1;33m=\u001b[0m\u001b[1;34m'neg_mean_squared_log_error'\u001b[0m\u001b[1;33m)\u001b[0m\u001b[1;33m\u001b[0m\u001b[0m\n\u001b[0m\u001b[0;32m     10\u001b[0m \u001b[0mgrid_result\u001b[0m \u001b[1;33m=\u001b[0m \u001b[0mgrid_search\u001b[0m\u001b[1;33m.\u001b[0m\u001b[0mfit\u001b[0m\u001b[1;33m(\u001b[0m\u001b[0mdff_train\u001b[0m\u001b[1;33m,\u001b[0m\u001b[0mdff\u001b[0m\u001b[1;33m[\u001b[0m\u001b[1;34m'SalePrice'\u001b[0m\u001b[1;33m]\u001b[0m\u001b[1;33m)\u001b[0m\u001b[1;33m\u001b[0m\u001b[0m\n",
      "\u001b[1;32mc:\\users\\ankur\\appdata\\local\\programs\\python\\python36\\lib\\site-packages\\sklearn\\model_selection\\_search.py\u001b[0m in \u001b[0;36m__init__\u001b[1;34m(self, estimator, param_grid, scoring, fit_params, n_jobs, iid, refit, cv, verbose, pre_dispatch, error_score, return_train_score)\u001b[0m\n\u001b[0;32m   1052\u001b[0m             return_train_score=return_train_score)\n\u001b[0;32m   1053\u001b[0m         \u001b[0mself\u001b[0m\u001b[1;33m.\u001b[0m\u001b[0mparam_grid\u001b[0m \u001b[1;33m=\u001b[0m \u001b[0mparam_grid\u001b[0m\u001b[1;33m\u001b[0m\u001b[0m\n\u001b[1;32m-> 1054\u001b[1;33m         \u001b[0m_check_param_grid\u001b[0m\u001b[1;33m(\u001b[0m\u001b[0mparam_grid\u001b[0m\u001b[1;33m)\u001b[0m\u001b[1;33m\u001b[0m\u001b[0m\n\u001b[0m\u001b[0;32m   1055\u001b[0m \u001b[1;33m\u001b[0m\u001b[0m\n\u001b[0;32m   1056\u001b[0m     \u001b[1;32mdef\u001b[0m \u001b[0m_get_param_iterator\u001b[0m\u001b[1;33m(\u001b[0m\u001b[0mself\u001b[0m\u001b[1;33m)\u001b[0m\u001b[1;33m:\u001b[0m\u001b[1;33m\u001b[0m\u001b[0m\n",
      "\u001b[1;32mc:\\users\\ankur\\appdata\\local\\programs\\python\\python36\\lib\\site-packages\\sklearn\\model_selection\\_search.py\u001b[0m in \u001b[0;36m_check_param_grid\u001b[1;34m(param_grid)\u001b[0m\n\u001b[0;32m    353\u001b[0m                 raise ValueError(\"Parameter values for parameter ({0}) need \"\n\u001b[0;32m    354\u001b[0m                                  \u001b[1;34m\"to be a sequence(but not a string) or\"\u001b[0m\u001b[1;33m\u001b[0m\u001b[0m\n\u001b[1;32m--> 355\u001b[1;33m                                  \" np.ndarray.\".format(name))\n\u001b[0m\u001b[0;32m    356\u001b[0m \u001b[1;33m\u001b[0m\u001b[0m\n\u001b[0;32m    357\u001b[0m             \u001b[1;32mif\u001b[0m \u001b[0mlen\u001b[0m\u001b[1;33m(\u001b[0m\u001b[0mv\u001b[0m\u001b[1;33m)\u001b[0m \u001b[1;33m==\u001b[0m \u001b[1;36m0\u001b[0m\u001b[1;33m:\u001b[0m\u001b[1;33m\u001b[0m\u001b[0m\n",
      "\u001b[1;31mValueError\u001b[0m: Parameter values for parameter (gamma) need to be a sequence(but not a string) or np.ndarray."
     ]
    }
   ],
   "source": [
    "from sklearn.model_selection import GridSearchCV\n",
    "n_estimators = [350,300,400,375,325,425]\n",
    "learning_rate = [0.0001, 0.001, 0.01, 0.1]\n",
    "max_depth = [3, 4, 5,6,7,8]\n",
    "\n",
    "param_grid = dict(n_estimators=n_estimators)\n",
    "grid_search = GridSearchCV(xgb, param_grid,cv=5, n_jobs=-1, scoring='neg_mean_squared_log_error')\n",
    "grid_result = grid_search.fit(dff_train,dff['SalePrice'])"
   ]
  },
  {
   "cell_type": "code",
   "execution_count": 489,
   "metadata": {
    "collapsed": true
   },
   "outputs": [
    {
     "data": {
      "text/plain": [
       "{'colsample_bytree': 0.99929751802600186,\n",
       " 'gamma': 1.1474107529890476,\n",
       " 'min_child_weight': 0.82986397653216548,\n",
       " 'reg_alpha': 92.332068571277986,\n",
       " 'subsample': 0.86074883449537232}"
      ]
     },
     "execution_count": 489,
     "metadata": {},
     "output_type": "execute_result"
    }
   ],
   "source": [
    "from sklearn.model_selection import RandomizedSearchCV\n",
    "one_to_left = st.beta(10, 1)  \n",
    "from_zero_positive = st.expon(0, 50)\n",
    "params = {  \n",
    "    \"colsample_bytree\": one_to_left,\n",
    "    \"subsample\": one_to_left,\n",
    "    \"gamma\": st.uniform(0, 10),\n",
    "    'reg_alpha': from_zero_positive,\n",
    "    \"min_child_weight\": from_zero_positive,\n",
    "}\n",
    "\n",
    "gs = RandomizedSearchCV(xgb, params,cv=5, n_jobs=-1, scoring='neg_mean_squared_log_error')  \n",
    "gs.fit(dff_train,dff['SalePrice']) \n",
    "gs.best_params_\n"
   ]
  },
  {
   "cell_type": "code",
   "execution_count": 490,
   "metadata": {
    "collapsed": true
   },
   "outputs": [
    {
     "data": {
      "text/plain": [
       "XGBRegressor(base_score=0.5, colsample_bylevel=1,\n",
       "       colsample_bytree=0.99929751802600186, gamma=1.1474107529890476,\n",
       "       learning_rate=0.1, max_delta_step=0, max_depth=3,\n",
       "       min_child_weight=0.82986397653216548, missing=None,\n",
       "       n_estimators=300, nthread=-1, objective='reg:linear',\n",
       "       reg_alpha=92.332068571277986, reg_lambda=1, scale_pos_weight=1,\n",
       "       seed=0, silent=True, subsample=0.86074883449537232)"
      ]
     },
     "execution_count": 490,
     "metadata": {},
     "output_type": "execute_result"
    }
   ],
   "source": [
    "gs.best_estimator_"
   ]
  },
  {
   "cell_type": "code",
   "execution_count": 670,
   "metadata": {
    "collapsed": true
   },
   "outputs": [
    {
     "data": {
      "text/plain": [
       "0.12286441169429842"
      ]
     },
     "execution_count": 670,
     "metadata": {},
     "output_type": "execute_result"
    }
   ],
   "source": [
    "xgb = XGBRegressor(max_depth=3, n_estimators=300, gamma = 0)\n",
    "bst = xgb.fit(X_train,y_train)\n",
    "preds = xgb.predict(X_test)\n",
    "preds = np.expm1(preds)\n",
    "rmse = sqrt(mean_squared_log_error(y_test, preds))\n",
    "rmse"
   ]
  },
  {
   "cell_type": "code",
   "execution_count": 225,
   "metadata": {
    "collapsed": true
   },
   "outputs": [
    {
     "data": {
      "text/plain": [
       "{'n_estimators': 300}"
      ]
     },
     "execution_count": 225,
     "metadata": {},
     "output_type": "execute_result"
    }
   ],
   "source": [
    "grid_result.best_params_"
   ]
  },
  {
   "cell_type": "code",
   "execution_count": null,
   "metadata": {},
   "outputs": [],
   "source": []
  },
  {
   "cell_type": "code",
   "execution_count": 697,
   "metadata": {
    "collapsed": true
   },
   "outputs": [],
   "source": [
    "from xgboost.sklearn import XGBRegressor\n",
    "\n",
    "xgb = XGBRegressor(colsample_bytree=0.99929751802600186,\n",
    "       min_child_weight=0.82986397653216548,\n",
    "       n_estimators=300, nthread=-1, objective='reg:linear', reg_lambda=1, scale_pos_weight=1,\n",
    "       seed=0, silent=True, subsample=0.86074883449537232)\n",
    "bst = xgb.fit(dff_train,dff_train_y)\n",
    "preds = xgb.predict(dff_test)\n",
    "preds = np.expm1(preds)"
   ]
  },
  {
   "cell_type": "code",
   "execution_count": 698,
   "metadata": {},
   "outputs": [],
   "source": [
    "x = {\n",
    "        \"Id\": dff[1458:][\"Id\"],\n",
    "        \"SalePrice\": preds\n",
    "    }"
   ]
  },
  {
   "cell_type": "code",
   "execution_count": 699,
   "metadata": {},
   "outputs": [],
   "source": [
    "submission = pd.DataFrame(x)"
   ]
  },
  {
   "cell_type": "code",
   "execution_count": 700,
   "metadata": {},
   "outputs": [],
   "source": [
    "submission.to_csv('sub.csv', header=['Id','SalePrice'],index=False)"
   ]
  },
  {
   "cell_type": "code",
   "execution_count": null,
   "metadata": {},
   "outputs": [],
   "source": [
    "from sklearn.ensemble import RandomForestRegressor\n",
    "from collections import Counter\n",
    "rf = RandomForestRegressor(random_state=101)\n",
    "rf.fit(X_train,y_train)\n",
    "scores =sorted(list(zip(map(lambda x: round(x, 4), rf.feature_importances_),X_train.columns)),reverse=True)\n",
    "c =Counter([y.partition('_')[0] for (x,y) in scores])\n",
    "c['Heating']"
   ]
  },
  {
   "cell_type": "code",
   "execution_count": null,
   "metadata": {},
   "outputs": [],
   "source": [
    "import operator\n",
    "def getscores(scores):\n",
    "    score = dict()\n",
    "    for row in scores:\n",
    "        name = row[1]\n",
    "        name = name.partition('_')[0]\n",
    "        if name in score.keys():\n",
    "            score[name]=score[name]+row[0]\n",
    "        else:\n",
    "            score[name]=row[0]\n",
    "    \n",
    "    for k, v in score.items():\n",
    "        score[k]=score[k]/c[k]\n",
    "    sorted_x = sorted(score.items(), key=operator.itemgetter(1),reverse=True)\n",
    "    return sorted_x\n",
    "x = getscores(scores)            \n",
    "print(type(x))"
   ]
  },
  {
   "cell_type": "code",
   "execution_count": null,
   "metadata": {},
   "outputs": [],
   "source": [
    "submission.to_csv('sub.csv', header=['Id','SalePrice'])"
   ]
  },
  {
   "cell_type": "code",
   "execution_count": null,
   "metadata": {},
   "outputs": [],
   "source": [
    "from sklearn.metrics import mean_squared_log_error\n",
    "from math import sqrt\n",
    "pred = rf.predict(X_test)\n",
    "pred = np.expm1(pred)\n",
    "rmse = sqrt(mean_squared_log_error(y_test, pred))\n",
    "rmse"
   ]
  },
  {
   "cell_type": "code",
   "execution_count": null,
   "metadata": {},
   "outputs": [],
   "source": []
  },
  {
   "cell_type": "code",
   "execution_count": null,
   "metadata": {
    "scrolled": true
   },
   "outputs": [],
   "source": [
    "from sklearn.feature_selection import SelectKBest\n",
    "from sklearn.feature_selection import f_regression\n",
    "selectkbest = SelectKBest(score_func=f_regression, k='all')\n",
    "fit = selectkbest.fit(X_train, y_train)\n",
    "scores_kbest =sorted(list(zip(map(lambda x: round(x, 4), fit.scores_),X_train.columns)),reverse=True)\n",
    "scores_kbest_n = getscores(scores_kbest)\n",
    "scores_kbest_n"
   ]
  },
  {
   "cell_type": "code",
   "execution_count": null,
   "metadata": {},
   "outputs": [],
   "source": [
    "from sklearn.preprocessing import Normalizer\n",
    "normalizer  = Normalizer().fit(df[cols_normalize])\n",
    "dff_n = df.copy()\n",
    "dff_n[cols_normalize.difference(['Id','SalePrice'])] = pd.DataFrame(normalizer.transform(df[cols_normalize].drop(['Id','SalePrice'], axis =1)), columns= cols_normalize.difference(['Id','SalePrice']))\n",
    "#dff_n = pd.concat(dff_n.append(SalePrice)\n",
    "#dff_n[['Id','SalePrice']].merge(SalePrice)\n",
    "dff_n[['Id','SalePrice']] = SalePrice\n",
    "dff_n.head()"
   ]
  },
  {
   "cell_type": "code",
   "execution_count": null,
   "metadata": {},
   "outputs": [],
   "source": []
  }
 ],
 "metadata": {
  "kernelspec": {
   "display_name": "Python 3",
   "language": "python",
   "name": "python3"
  },
  "language_info": {
   "codemirror_mode": {
    "name": "ipython",
    "version": 3
   },
   "file_extension": ".py",
   "mimetype": "text/x-python",
   "name": "python",
   "nbconvert_exporter": "python",
   "pygments_lexer": "ipython3",
   "version": "3.6.2"
  }
 },
 "nbformat": 4,
 "nbformat_minor": 2
}
