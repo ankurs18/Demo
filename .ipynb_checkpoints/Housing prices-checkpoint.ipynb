{
 "cells": [
  {
   "cell_type": "code",
   "execution_count": 80,
   "metadata": {},
   "outputs": [
    {
     "name": "stdout",
     "output_type": "stream",
     "text": [
      "<class 'pandas.core.frame.DataFrame'>\n",
      "RangeIndex: 1460 entries, 0 to 1459\n",
      "Data columns (total 81 columns):\n",
      "Id               1460 non-null int64\n",
      "MSSubClass       1460 non-null int64\n",
      "MSZoning         1460 non-null object\n",
      "LotFrontage      1201 non-null float64\n",
      "LotArea          1460 non-null int64\n",
      "Street           1460 non-null object\n",
      "Alley            91 non-null object\n",
      "LotShape         1460 non-null object\n",
      "LandContour      1460 non-null object\n",
      "Utilities        1460 non-null object\n",
      "LotConfig        1460 non-null object\n",
      "LandSlope        1460 non-null object\n",
      "Neighborhood     1460 non-null object\n",
      "Condition1       1460 non-null object\n",
      "Condition2       1460 non-null object\n",
      "BldgType         1460 non-null object\n",
      "HouseStyle       1460 non-null object\n",
      "OverallQual      1460 non-null int64\n",
      "OverallCond      1460 non-null int64\n",
      "YearBuilt        1460 non-null int64\n",
      "YearRemodAdd     1460 non-null int64\n",
      "RoofStyle        1460 non-null object\n",
      "RoofMatl         1460 non-null object\n",
      "Exterior1st      1460 non-null object\n",
      "Exterior2nd      1460 non-null object\n",
      "MasVnrType       1452 non-null object\n",
      "MasVnrArea       1452 non-null float64\n",
      "ExterQual        1460 non-null object\n",
      "ExterCond        1460 non-null object\n",
      "Foundation       1460 non-null object\n",
      "BsmtQual         1423 non-null object\n",
      "BsmtCond         1423 non-null object\n",
      "BsmtExposure     1422 non-null object\n",
      "BsmtFinType1     1423 non-null object\n",
      "BsmtFinSF1       1460 non-null int64\n",
      "BsmtFinType2     1422 non-null object\n",
      "BsmtFinSF2       1460 non-null int64\n",
      "BsmtUnfSF        1460 non-null int64\n",
      "TotalBsmtSF      1460 non-null int64\n",
      "Heating          1460 non-null object\n",
      "HeatingQC        1460 non-null object\n",
      "CentralAir       1460 non-null object\n",
      "Electrical       1459 non-null object\n",
      "1stFlrSF         1460 non-null int64\n",
      "2ndFlrSF         1460 non-null int64\n",
      "LowQualFinSF     1460 non-null int64\n",
      "GrLivArea        1460 non-null int64\n",
      "BsmtFullBath     1460 non-null int64\n",
      "BsmtHalfBath     1460 non-null int64\n",
      "FullBath         1460 non-null int64\n",
      "HalfBath         1460 non-null int64\n",
      "BedroomAbvGr     1460 non-null int64\n",
      "KitchenAbvGr     1460 non-null int64\n",
      "KitchenQual      1460 non-null object\n",
      "TotRmsAbvGrd     1460 non-null int64\n",
      "Functional       1460 non-null object\n",
      "Fireplaces       1460 non-null int64\n",
      "FireplaceQu      770 non-null object\n",
      "GarageType       1379 non-null object\n",
      "GarageYrBlt      1379 non-null float64\n",
      "GarageFinish     1379 non-null object\n",
      "GarageCars       1460 non-null int64\n",
      "GarageArea       1460 non-null int64\n",
      "GarageQual       1379 non-null object\n",
      "GarageCond       1379 non-null object\n",
      "PavedDrive       1460 non-null object\n",
      "WoodDeckSF       1460 non-null int64\n",
      "OpenPorchSF      1460 non-null int64\n",
      "EnclosedPorch    1460 non-null int64\n",
      "3SsnPorch        1460 non-null int64\n",
      "ScreenPorch      1460 non-null int64\n",
      "PoolArea         1460 non-null int64\n",
      "PoolQC           7 non-null object\n",
      "Fence            281 non-null object\n",
      "MiscFeature      54 non-null object\n",
      "MiscVal          1460 non-null int64\n",
      "MoSold           1460 non-null int64\n",
      "YrSold           1460 non-null int64\n",
      "SaleType         1460 non-null object\n",
      "SaleCondition    1460 non-null object\n",
      "SalePrice        1460 non-null int64\n",
      "dtypes: float64(3), int64(35), object(43)\n",
      "memory usage: 924.0+ KB\n"
     ]
    }
   ],
   "source": [
    "import pandas as pd\n",
    "import matplotlib.pyplot as plt\n",
    "import seaborn as sns\n",
    "import numpy as np\n",
    "%matplotlib inline\n",
    "\n",
    "df = pd.read_csv('train.csv')\n",
    "df.info()"
   ]
  },
  {
   "cell_type": "code",
   "execution_count": 81,
   "metadata": {},
   "outputs": [
    {
     "name": "stdout",
     "output_type": "stream",
     "text": [
      "864\n",
      "8\n",
      "861\n",
      "8\n"
     ]
    }
   ],
   "source": [
    "print(df[df['MasVnrType']=='None'].count()['Id'])\n",
    "print(df[df['MasVnrType'].isnull()].count()['Id'])\n",
    "print(df[df['MasVnrArea']==0].count()['Id'])\n",
    "print(df[df['MasVnrArea'].isnull()].count()['Id'])"
   ]
  },
  {
   "cell_type": "code",
   "execution_count": 82,
   "metadata": {
    "collapsed": true
   },
   "outputs": [],
   "source": [
    "#removing the misleading value of area 1\n",
    "df.loc[(df['MasVnrType']=='None') & (df['MasVnrArea']==1),'MasVnrArea']=0"
   ]
  },
  {
   "cell_type": "code",
   "execution_count": null,
   "metadata": {
    "collapsed": true
   },
   "outputs": [],
   "source": []
  },
  {
   "cell_type": "code",
   "execution_count": 83,
   "metadata": {},
   "outputs": [
    {
     "name": "stdout",
     "output_type": "stream",
     "text": [
      "      MasVnrArea MasVnrType\n",
      "234          NaN        NaN\n",
      "529          NaN        NaN\n",
      "650          NaN        NaN\n",
      "936          NaN        NaN\n",
      "973          NaN        NaN\n",
      "977          NaN        NaN\n",
      "1243         NaN        NaN\n",
      "1278         NaN        NaN\n"
     ]
    },
    {
     "data": {
      "text/html": [
       "<div>\n",
       "<style>\n",
       "    .dataframe thead tr:only-child th {\n",
       "        text-align: right;\n",
       "    }\n",
       "\n",
       "    .dataframe thead th {\n",
       "        text-align: left;\n",
       "    }\n",
       "\n",
       "    .dataframe tbody tr th {\n",
       "        vertical-align: top;\n",
       "    }\n",
       "</style>\n",
       "<table border=\"1\" class=\"dataframe\">\n",
       "  <thead>\n",
       "    <tr style=\"text-align: right;\">\n",
       "      <th></th>\n",
       "      <th>MasVnrArea</th>\n",
       "      <th>MasVnrType</th>\n",
       "    </tr>\n",
       "  </thead>\n",
       "  <tbody>\n",
       "  </tbody>\n",
       "</table>\n",
       "</div>"
      ],
      "text/plain": [
       "Empty DataFrame\n",
       "Columns: [MasVnrArea, MasVnrType]\n",
       "Index: []"
      ]
     },
     "execution_count": 83,
     "metadata": {},
     "output_type": "execute_result"
    }
   ],
   "source": [
    "#where area and type both are null, setting them to 0 and none respectively\n",
    "print(df.loc[(df['MasVnrType'].isnull()) & (df['MasVnrArea'].isnull()),('MasVnrArea','MasVnrType')])\n",
    "df.loc[(df['MasVnrType'].isnull()) & (df['MasVnrArea'].isnull()),('MasVnrArea','MasVnrType')]=0,'None'\n",
    "df.loc[(df['MasVnrType'].isnull()) & (df['MasVnrArea'].isnull()),('MasVnrArea','MasVnrType')]"
   ]
  },
  {
   "cell_type": "code",
   "execution_count": null,
   "metadata": {
    "collapsed": true
   },
   "outputs": [],
   "source": []
  },
  {
   "cell_type": "code",
   "execution_count": 84,
   "metadata": {
    "collapsed": true
   },
   "outputs": [],
   "source": [
    "#when area is 0 bt Type is not none, setting type to the mean of area\n",
    "df.loc[(df['MasVnrType']!='None') & (df['MasVnrArea']==0),('MasVnrArea')]=df[df['MasVnrArea']!=0]['MasVnrArea'].mean()"
   ]
  },
  {
   "cell_type": "code",
   "execution_count": 85,
   "metadata": {},
   "outputs": [
    {
     "name": "stdout",
     "output_type": "stream",
     "text": [
      "     MasVnrType  MasVnrArea\n",
      "624        None       288.0\n",
      "1300       None       344.0\n",
      "1334       None       312.0\n"
     ]
    },
    {
     "data": {
      "text/html": [
       "<div>\n",
       "<style>\n",
       "    .dataframe thead tr:only-child th {\n",
       "        text-align: right;\n",
       "    }\n",
       "\n",
       "    .dataframe thead th {\n",
       "        text-align: left;\n",
       "    }\n",
       "\n",
       "    .dataframe tbody tr th {\n",
       "        vertical-align: top;\n",
       "    }\n",
       "</style>\n",
       "<table border=\"1\" class=\"dataframe\">\n",
       "  <thead>\n",
       "    <tr style=\"text-align: right;\">\n",
       "      <th></th>\n",
       "      <th>MasVnrType</th>\n",
       "      <th>MasVnrArea</th>\n",
       "    </tr>\n",
       "  </thead>\n",
       "  <tbody>\n",
       "  </tbody>\n",
       "</table>\n",
       "</div>"
      ],
      "text/plain": [
       "Empty DataFrame\n",
       "Columns: [MasVnrType, MasVnrArea]\n",
       "Index: []"
      ]
     },
     "execution_count": 85,
     "metadata": {},
     "output_type": "execute_result"
    }
   ],
   "source": [
    "#when area is not 0 bt Type is none, setting type to the mode of types\n",
    "print(df.loc[(df['MasVnrType']=='None') & (df['MasVnrArea']!=0),('MasVnrType','MasVnrArea')])\n",
    "df.loc[(df['MasVnrType']=='None') & (df['MasVnrArea']!=0),('MasVnrType')]=df[df['MasVnrType']!='None']['MasVnrType'].mode().iloc[0]\n",
    "df.loc[(df['MasVnrType']=='None') & (df['MasVnrArea']!=0),('MasVnrType','MasVnrArea')]"
   ]
  },
  {
   "cell_type": "code",
   "execution_count": 86,
   "metadata": {},
   "outputs": [
    {
     "name": "stdout",
     "output_type": "stream",
     "text": [
      "869\n",
      "0\n",
      "869\n",
      "0\n"
     ]
    }
   ],
   "source": [
    "print(df[df['MasVnrType']=='None'].count()['Id'])\n",
    "print(df[df['MasVnrType'].isnull()].count()['Id'])\n",
    "print(df[df['MasVnrArea']==0].count()['Id'])\n",
    "print(df[df['MasVnrArea'].isnull()].count()['Id'])"
   ]
  },
  {
   "cell_type": "code",
   "execution_count": 87,
   "metadata": {
    "scrolled": true
   },
   "outputs": [
    {
     "name": "stdout",
     "output_type": "stream",
     "text": [
      "Series([], Name: MasVnrType, dtype: object)\n"
     ]
    },
    {
     "data": {
      "text/plain": [
       "Series([], Name: MasVnrType, dtype: object)"
      ]
     },
     "execution_count": 87,
     "metadata": {},
     "output_type": "execute_result"
    }
   ],
   "source": [
    "#where type is null bt area is greater than 0 setting it to mode of types\n",
    "print(df.loc[(df['MasVnrType'].isnull()) & (df['MasVnrArea']!=0),'MasVnrType'])\n",
    "df.loc[(df['MasVnrType'].isnull()) & (df['MasVnrArea']!=0),'MasVnrType']=df[df['MasVnrType']!='None']['MasVnrType'].mode()\n",
    "df.loc[(df['MasVnrType'].isnull()) & (df['MasVnrArea']!=0),'MasVnrType']"
   ]
  },
  {
   "cell_type": "code",
   "execution_count": 88,
   "metadata": {},
   "outputs": [
    {
     "name": "stdout",
     "output_type": "stream",
     "text": [
      "[nan 'Grvl' 'Pave']\n"
     ]
    },
    {
     "data": {
      "text/plain": [
       "array(['NA', 'Grvl', 'Pave'], dtype=object)"
      ]
     },
     "execution_count": 88,
     "metadata": {},
     "output_type": "execute_result"
    }
   ],
   "source": [
    "print(df['Alley'].unique())\n",
    "df['Alley']=df['Alley'].fillna('NA')\n",
    "df['Alley'].unique()"
   ]
  },
  {
   "cell_type": "code",
   "execution_count": 89,
   "metadata": {},
   "outputs": [
    {
     "name": "stdout",
     "output_type": "stream",
     "text": [
      "[  65.   80.   68.   60.   84.   85.   75.   nan   51.   50.   70.   91.\n",
      "   72.   66.  101.   57.   44.  110.   98.   47.  108.  112.   74.  115.\n",
      "   61.   48.   33.   52.  100.   24.   89.   63.   76.   81.   95.   69.\n",
      "   21.   32.   78.  121.  122.   40.  105.   73.   77.   64.   94.   34.\n",
      "   90.   55.   88.   82.   71.  120.  107.   92.  134.   62.   86.  141.\n",
      "   97.   54.   41.   79.  174.   99.   67.   83.   43.  103.   93.   30.\n",
      "  129.  140.   35.   37.  118.   87.  116.  150.  111.   49.   96.   59.\n",
      "   36.   56.  102.   58.   38.  109.  130.   53.  137.   45.  106.  104.\n",
      "   42.   39.  144.  114.  128.  149.  313.  168.  182.  138.  160.  152.\n",
      "  124.  153.   46.]\n"
     ]
    },
    {
     "data": {
      "text/plain": [
       "array([  65.,   80.,   68.,   60.,   84.,   85.,   75.,    0.,   51.,\n",
       "         50.,   70.,   91.,   72.,   66.,  101.,   57.,   44.,  110.,\n",
       "         98.,   47.,  108.,  112.,   74.,  115.,   61.,   48.,   33.,\n",
       "         52.,  100.,   24.,   89.,   63.,   76.,   81.,   95.,   69.,\n",
       "         21.,   32.,   78.,  121.,  122.,   40.,  105.,   73.,   77.,\n",
       "         64.,   94.,   34.,   90.,   55.,   88.,   82.,   71.,  120.,\n",
       "        107.,   92.,  134.,   62.,   86.,  141.,   97.,   54.,   41.,\n",
       "         79.,  174.,   99.,   67.,   83.,   43.,  103.,   93.,   30.,\n",
       "        129.,  140.,   35.,   37.,  118.,   87.,  116.,  150.,  111.,\n",
       "         49.,   96.,   59.,   36.,   56.,  102.,   58.,   38.,  109.,\n",
       "        130.,   53.,  137.,   45.,  106.,  104.,   42.,   39.,  144.,\n",
       "        114.,  128.,  149.,  313.,  168.,  182.,  138.,  160.,  152.,\n",
       "        124.,  153.,   46.])"
      ]
     },
     "execution_count": 89,
     "metadata": {},
     "output_type": "execute_result"
    }
   ],
   "source": [
    "print(df['LotFrontage'].unique())\n",
    "df['LotFrontage']=df['LotFrontage'].fillna(0)\n",
    "df['LotFrontage'].unique()"
   ]
  },
  {
   "cell_type": "code",
   "execution_count": 90,
   "metadata": {},
   "outputs": [
    {
     "name": "stdout",
     "output_type": "stream",
     "text": [
      "['NA' 'Grvl' 'Pave']\n"
     ]
    },
    {
     "data": {
      "text/plain": [
       "array(['NA', 'Grvl', 'Pave'], dtype=object)"
      ]
     },
     "execution_count": 90,
     "metadata": {},
     "output_type": "execute_result"
    }
   ],
   "source": [
    "print(df['Alley'].unique())\n",
    "df['Alley']=df['Alley'].fillna('NA')\n",
    "df['Alley'].unique()"
   ]
  },
  {
   "cell_type": "code",
   "execution_count": 91,
   "metadata": {},
   "outputs": [
    {
     "name": "stdout",
     "output_type": "stream",
     "text": [
      "['Gd' 'TA' 'Ex' nan 'Fa']\n"
     ]
    },
    {
     "data": {
      "text/plain": [
       "array(['Gd', 'TA', 'Ex', 'NA', 'Fa'], dtype=object)"
      ]
     },
     "execution_count": 91,
     "metadata": {},
     "output_type": "execute_result"
    }
   ],
   "source": [
    "print(df['BsmtQual'].unique())\n",
    "df['BsmtQual']=df['BsmtQual'].fillna('NA')\n",
    "df['BsmtQual'].unique()"
   ]
  },
  {
   "cell_type": "code",
   "execution_count": 92,
   "metadata": {},
   "outputs": [
    {
     "name": "stdout",
     "output_type": "stream",
     "text": [
      "['TA' 'Gd' nan 'Fa' 'Po']\n"
     ]
    },
    {
     "data": {
      "text/plain": [
       "array(['TA', 'Gd', 'NA', 'Fa', 'Po'], dtype=object)"
      ]
     },
     "execution_count": 92,
     "metadata": {},
     "output_type": "execute_result"
    }
   ],
   "source": [
    "print(df['BsmtCond'].unique())\n",
    "df['BsmtCond']=df['BsmtCond'].fillna('NA')\n",
    "df['BsmtCond'].unique()"
   ]
  },
  {
   "cell_type": "code",
   "execution_count": 93,
   "metadata": {},
   "outputs": [
    {
     "name": "stdout",
     "output_type": "stream",
     "text": [
      "['No' 'Gd' 'Mn' 'Av' nan]\n"
     ]
    },
    {
     "data": {
      "text/plain": [
       "array(['No', 'Gd', 'Mn', 'Av', 'NA'], dtype=object)"
      ]
     },
     "execution_count": 93,
     "metadata": {},
     "output_type": "execute_result"
    }
   ],
   "source": [
    "print(df['BsmtExposure'].unique())\n",
    "df['BsmtExposure']=df['BsmtExposure'].fillna('NA')\n",
    "df['BsmtExposure'].unique()"
   ]
  },
  {
   "cell_type": "code",
   "execution_count": 94,
   "metadata": {},
   "outputs": [
    {
     "name": "stdout",
     "output_type": "stream",
     "text": [
      "['GLQ' 'ALQ' 'Unf' 'Rec' 'BLQ' nan 'LwQ']\n"
     ]
    },
    {
     "data": {
      "text/plain": [
       "array(['GLQ', 'ALQ', 'Unf', 'Rec', 'BLQ', 'NA', 'LwQ'], dtype=object)"
      ]
     },
     "execution_count": 94,
     "metadata": {},
     "output_type": "execute_result"
    }
   ],
   "source": [
    "print(df['BsmtFinType1'].unique())\n",
    "df['BsmtFinType1']=df['BsmtFinType1'].fillna('NA')\n",
    "df['BsmtFinType1'].unique()"
   ]
  },
  {
   "cell_type": "code",
   "execution_count": 95,
   "metadata": {},
   "outputs": [
    {
     "name": "stdout",
     "output_type": "stream",
     "text": [
      "['Unf' 'BLQ' nan 'ALQ' 'Rec' 'LwQ' 'GLQ']\n"
     ]
    },
    {
     "data": {
      "text/plain": [
       "array(['Unf', 'BLQ', 'NA', 'ALQ', 'Rec', 'LwQ', 'GLQ'], dtype=object)"
      ]
     },
     "execution_count": 95,
     "metadata": {},
     "output_type": "execute_result"
    }
   ],
   "source": [
    "print(df['BsmtFinType2'].unique())\n",
    "df['BsmtFinType2']=df['BsmtFinType2'].fillna('NA')\n",
    "df['BsmtFinType2'].unique()"
   ]
  },
  {
   "cell_type": "code",
   "execution_count": 96,
   "metadata": {
    "collapsed": true
   },
   "outputs": [],
   "source": [
    "df['Electrical'].mode().iloc[0]\n",
    "df['Electrical']=df['Electrical'].fillna(df['Electrical'].mode().iloc[0])"
   ]
  },
  {
   "cell_type": "code",
   "execution_count": 97,
   "metadata": {},
   "outputs": [
    {
     "name": "stdout",
     "output_type": "stream",
     "text": [
      "[nan 'TA' 'Gd' 'Fa' 'Ex' 'Po']\n"
     ]
    },
    {
     "data": {
      "text/plain": [
       "array(['NA', 'TA', 'Gd', 'Fa', 'Ex', 'Po'], dtype=object)"
      ]
     },
     "execution_count": 97,
     "metadata": {},
     "output_type": "execute_result"
    }
   ],
   "source": [
    "print(df['FireplaceQu'].unique())\n",
    "df['FireplaceQu']=df['FireplaceQu'].fillna('NA')\n",
    "df['FireplaceQu'].unique()"
   ]
  },
  {
   "cell_type": "code",
   "execution_count": 98,
   "metadata": {},
   "outputs": [
    {
     "name": "stdout",
     "output_type": "stream",
     "text": [
      "['Attchd' 'Detchd' 'BuiltIn' 'CarPort' nan 'Basment' '2Types']\n"
     ]
    },
    {
     "data": {
      "text/plain": [
       "array(['Attchd', 'Detchd', 'BuiltIn', 'CarPort', 'NA', 'Basment', '2Types'], dtype=object)"
      ]
     },
     "execution_count": 98,
     "metadata": {},
     "output_type": "execute_result"
    }
   ],
   "source": [
    "print(df['GarageType'].unique())\n",
    "df['GarageType']=df['GarageType'].fillna('NA')\n",
    "df['GarageType'].unique()"
   ]
  },
  {
   "cell_type": "code",
   "execution_count": 99,
   "metadata": {},
   "outputs": [
    {
     "name": "stdout",
     "output_type": "stream",
     "text": [
      "[ 2003.  1976.  2001.  1998.  2000.  1993.  2004.  1973.  1931.  1939.\n",
      "  1965.  2005.  1962.  2006.  1960.  1991.  1970.  1967.  1958.  1930.\n",
      "  2002.  1968.  2007.  2008.  1957.  1920.  1966.  1959.  1995.  1954.\n",
      "  1953.    nan  1983.  1977.  1997.  1985.  1963.  1981.  1964.  1999.\n",
      "  1935.  1990.  1945.  1987.  1989.  1915.  1956.  1948.  1974.  2009.\n",
      "  1950.  1961.  1921.  1900.  1979.  1951.  1969.  1936.  1975.  1971.\n",
      "  1923.  1984.  1926.  1955.  1986.  1988.  1916.  1932.  1972.  1918.\n",
      "  1980.  1924.  1996.  1940.  1949.  1994.  1910.  1978.  1982.  1992.\n",
      "  1925.  1941.  2010.  1927.  1947.  1937.  1942.  1938.  1952.  1928.\n",
      "  1922.  1934.  1906.  1914.  1946.  1908.  1929.  1933.]\n"
     ]
    },
    {
     "data": {
      "text/plain": [
       "array([ 2003.,  1976.,  2001.,  1998.,  2000.,  1993.,  2004.,  1973.,\n",
       "        1931.,  1939.,  1965.,  2005.,  1962.,  2006.,  1960.,  1991.,\n",
       "        1970.,  1967.,  1958.,  1930.,  2002.,  1968.,  2007.,  2008.,\n",
       "        1957.,  1920.,  1966.,  1959.,  1995.,  1954.,  1953.,     0.,\n",
       "        1983.,  1977.,  1997.,  1985.,  1963.,  1981.,  1964.,  1999.,\n",
       "        1935.,  1990.,  1945.,  1987.,  1989.,  1915.,  1956.,  1948.,\n",
       "        1974.,  2009.,  1950.,  1961.,  1921.,  1900.,  1979.,  1951.,\n",
       "        1969.,  1936.,  1975.,  1971.,  1923.,  1984.,  1926.,  1955.,\n",
       "        1986.,  1988.,  1916.,  1932.,  1972.,  1918.,  1980.,  1924.,\n",
       "        1996.,  1940.,  1949.,  1994.,  1910.,  1978.,  1982.,  1992.,\n",
       "        1925.,  1941.,  2010.,  1927.,  1947.,  1937.,  1942.,  1938.,\n",
       "        1952.,  1928.,  1922.,  1934.,  1906.,  1914.,  1946.,  1908.,\n",
       "        1929.,  1933.])"
      ]
     },
     "execution_count": 99,
     "metadata": {},
     "output_type": "execute_result"
    }
   ],
   "source": [
    "print(df['GarageYrBlt'].unique())\n",
    "df['GarageYrBlt']=df['GarageYrBlt'].fillna(0)\n",
    "df['GarageYrBlt'].unique()"
   ]
  },
  {
   "cell_type": "code",
   "execution_count": 100,
   "metadata": {},
   "outputs": [
    {
     "name": "stdout",
     "output_type": "stream",
     "text": [
      "['RFn' 'Unf' 'Fin' nan]\n"
     ]
    },
    {
     "data": {
      "text/plain": [
       "array(['RFn', 'Unf', 'Fin', 'NA'], dtype=object)"
      ]
     },
     "execution_count": 100,
     "metadata": {},
     "output_type": "execute_result"
    }
   ],
   "source": [
    "print(df['GarageFinish'].unique())\n",
    "df['GarageFinish']=df['GarageFinish'].fillna('NA')\n",
    "df['GarageFinish'].unique()"
   ]
  },
  {
   "cell_type": "code",
   "execution_count": 101,
   "metadata": {},
   "outputs": [
    {
     "name": "stdout",
     "output_type": "stream",
     "text": [
      "['TA' 'Fa' 'Gd' nan 'Ex' 'Po']\n"
     ]
    },
    {
     "data": {
      "text/plain": [
       "array(['TA', 'Fa', 'Gd', 'NA', 'Ex', 'Po'], dtype=object)"
      ]
     },
     "execution_count": 101,
     "metadata": {},
     "output_type": "execute_result"
    }
   ],
   "source": [
    "print(df['GarageQual'].unique())\n",
    "df['GarageQual']=df['GarageQual'].fillna('NA')\n",
    "df['GarageQual'].unique()"
   ]
  },
  {
   "cell_type": "code",
   "execution_count": 102,
   "metadata": {},
   "outputs": [
    {
     "name": "stdout",
     "output_type": "stream",
     "text": [
      "['TA' 'Fa' nan 'Gd' 'Po' 'Ex']\n"
     ]
    },
    {
     "data": {
      "text/plain": [
       "array(['TA', 'Fa', 'NA', 'Gd', 'Po', 'Ex'], dtype=object)"
      ]
     },
     "execution_count": 102,
     "metadata": {},
     "output_type": "execute_result"
    }
   ],
   "source": [
    "print(df['GarageCond'].unique())\n",
    "df['GarageCond']=df['GarageCond'].fillna('NA')\n",
    "df['GarageCond'].unique()"
   ]
  },
  {
   "cell_type": "code",
   "execution_count": 103,
   "metadata": {},
   "outputs": [
    {
     "name": "stdout",
     "output_type": "stream",
     "text": [
      "[nan 'Ex' 'Fa' 'Gd']\n"
     ]
    },
    {
     "data": {
      "text/plain": [
       "array(['NA', 'Ex', 'Fa', 'Gd'], dtype=object)"
      ]
     },
     "execution_count": 103,
     "metadata": {},
     "output_type": "execute_result"
    }
   ],
   "source": [
    "\n",
    "print(df['PoolQC'].unique())\n",
    "df['PoolQC']=df['PoolQC'].fillna('NA')\n",
    "df['PoolQC'].unique()"
   ]
  },
  {
   "cell_type": "code",
   "execution_count": 104,
   "metadata": {},
   "outputs": [
    {
     "name": "stdout",
     "output_type": "stream",
     "text": [
      "[nan 'MnPrv' 'GdWo' 'GdPrv' 'MnWw']\n"
     ]
    },
    {
     "data": {
      "text/plain": [
       "array(['NA', 'MnPrv', 'GdWo', 'GdPrv', 'MnWw'], dtype=object)"
      ]
     },
     "execution_count": 104,
     "metadata": {},
     "output_type": "execute_result"
    }
   ],
   "source": [
    "print(df['Fence'].unique())\n",
    "df['Fence']=df['Fence'].fillna('NA')\n",
    "df['Fence'].unique()"
   ]
  },
  {
   "cell_type": "code",
   "execution_count": 105,
   "metadata": {},
   "outputs": [
    {
     "name": "stdout",
     "output_type": "stream",
     "text": [
      "[nan 'Shed' 'Gar2' 'Othr' 'TenC']\n"
     ]
    },
    {
     "data": {
      "text/plain": [
       "array(['NA', 'Shed', 'Gar2', 'Othr', 'TenC'], dtype=object)"
      ]
     },
     "execution_count": 105,
     "metadata": {},
     "output_type": "execute_result"
    }
   ],
   "source": [
    "print(df['MiscFeature'].unique())\n",
    "df['MiscFeature']=df['MiscFeature'].fillna('NA')\n",
    "df['MiscFeature'].unique()"
   ]
  },
  {
   "cell_type": "code",
   "execution_count": 107,
   "metadata": {},
   "outputs": [
    {
     "data": {
      "text/html": [
       "<div>\n",
       "<style>\n",
       "    .dataframe thead tr:only-child th {\n",
       "        text-align: right;\n",
       "    }\n",
       "\n",
       "    .dataframe thead th {\n",
       "        text-align: left;\n",
       "    }\n",
       "\n",
       "    .dataframe tbody tr th {\n",
       "        vertical-align: top;\n",
       "    }\n",
       "</style>\n",
       "<table border=\"1\" class=\"dataframe\">\n",
       "  <thead>\n",
       "    <tr style=\"text-align: right;\">\n",
       "      <th></th>\n",
       "      <th>Garage</th>\n",
       "      <th>GarageCars</th>\n",
       "      <th>GarageArea</th>\n",
       "    </tr>\n",
       "  </thead>\n",
       "  <tbody>\n",
       "    <tr>\n",
       "      <th>0</th>\n",
       "      <td>7.000334</td>\n",
       "      <td>2</td>\n",
       "      <td>548</td>\n",
       "    </tr>\n",
       "    <tr>\n",
       "      <th>1</th>\n",
       "      <td>6.825460</td>\n",
       "      <td>2</td>\n",
       "      <td>460</td>\n",
       "    </tr>\n",
       "    <tr>\n",
       "      <th>2</th>\n",
       "      <td>7.104144</td>\n",
       "      <td>2</td>\n",
       "      <td>608</td>\n",
       "    </tr>\n",
       "    <tr>\n",
       "      <th>3</th>\n",
       "      <td>7.563720</td>\n",
       "      <td>3</td>\n",
       "      <td>642</td>\n",
       "    </tr>\n",
       "    <tr>\n",
       "      <th>4</th>\n",
       "      <td>7.827640</td>\n",
       "      <td>3</td>\n",
       "      <td>836</td>\n",
       "    </tr>\n",
       "  </tbody>\n",
       "</table>\n",
       "</div>"
      ],
      "text/plain": [
       "     Garage  GarageCars  GarageArea\n",
       "0  7.000334           2         548\n",
       "1  6.825460           2         460\n",
       "2  7.104144           2         608\n",
       "3  7.563720           3         642\n",
       "4  7.827640           3         836"
      ]
     },
     "execution_count": 107,
     "metadata": {},
     "output_type": "execute_result"
    }
   ],
   "source": [
    "df['Garage'] = df.apply(lambda x: np.log(x['GarageCars']*x['GarageArea']+1), axis=1)\n",
    "df.head()[['Garage','GarageCars','GarageArea']]"
   ]
  },
  {
   "cell_type": "code",
   "execution_count": 109,
   "metadata": {},
   "outputs": [
    {
     "data": {
      "text/html": [
       "<div>\n",
       "<style>\n",
       "    .dataframe thead tr:only-child th {\n",
       "        text-align: right;\n",
       "    }\n",
       "\n",
       "    .dataframe thead th {\n",
       "        text-align: left;\n",
       "    }\n",
       "\n",
       "    .dataframe tbody tr th {\n",
       "        vertical-align: top;\n",
       "    }\n",
       "</style>\n",
       "<table border=\"1\" class=\"dataframe\">\n",
       "  <thead>\n",
       "    <tr style=\"text-align: right;\">\n",
       "      <th></th>\n",
       "      <th>Id</th>\n",
       "      <th>SalePrice</th>\n",
       "    </tr>\n",
       "  </thead>\n",
       "  <tbody>\n",
       "    <tr>\n",
       "      <th>0</th>\n",
       "      <td>1</td>\n",
       "      <td>208500</td>\n",
       "    </tr>\n",
       "    <tr>\n",
       "      <th>1</th>\n",
       "      <td>2</td>\n",
       "      <td>181500</td>\n",
       "    </tr>\n",
       "    <tr>\n",
       "      <th>2</th>\n",
       "      <td>3</td>\n",
       "      <td>223500</td>\n",
       "    </tr>\n",
       "    <tr>\n",
       "      <th>3</th>\n",
       "      <td>4</td>\n",
       "      <td>140000</td>\n",
       "    </tr>\n",
       "    <tr>\n",
       "      <th>4</th>\n",
       "      <td>5</td>\n",
       "      <td>250000</td>\n",
       "    </tr>\n",
       "  </tbody>\n",
       "</table>\n",
       "</div>"
      ],
      "text/plain": [
       "   Id  SalePrice\n",
       "0   1     208500\n",
       "1   2     181500\n",
       "2   3     223500\n",
       "3   4     140000\n",
       "4   5     250000"
      ]
     },
     "execution_count": 109,
     "metadata": {},
     "output_type": "execute_result"
    }
   ],
   "source": [
    "from sklearn.preprocessing import Normalizer\n",
    "normalizer  = Normalizer().fit(dff)\n",
    "dff_n = pd.DataFrame(normalizer.transform(dff.drop(['Id','SalePrice'], axis =1)), columns= columns)\n",
    "#dff_n = pd.concat(dff_n.append(SalePrice)\n",
    "#dff_n[['Id','SalePrice']].merge(SalePrice)\n",
    "dff_n[['Id','SalePrice']] = SalePrice\n",
    "dff_n.head()[['Id','SalePrice']]"
   ]
  },
  {
   "cell_type": "code",
   "execution_count": 110,
   "metadata": {
    "scrolled": true
   },
   "outputs": [
    {
     "data": {
      "text/html": [
       "<div>\n",
       "<style>\n",
       "    .dataframe thead tr:only-child th {\n",
       "        text-align: right;\n",
       "    }\n",
       "\n",
       "    .dataframe thead th {\n",
       "        text-align: left;\n",
       "    }\n",
       "\n",
       "    .dataframe tbody tr th {\n",
       "        vertical-align: top;\n",
       "    }\n",
       "</style>\n",
       "<table border=\"1\" class=\"dataframe\">\n",
       "  <thead>\n",
       "    <tr style=\"text-align: right;\">\n",
       "      <th></th>\n",
       "      <th>1stFlrSF</th>\n",
       "      <th>2ndFlrSF</th>\n",
       "      <th>3SsnPorch</th>\n",
       "      <th>Alley_Grvl</th>\n",
       "      <th>Alley_NA</th>\n",
       "      <th>Alley_Pave</th>\n",
       "      <th>BedroomAbvGr</th>\n",
       "      <th>BldgType_1Fam</th>\n",
       "      <th>BldgType_2fmCon</th>\n",
       "      <th>BldgType_Duplex</th>\n",
       "      <th>...</th>\n",
       "      <th>TotRmsAbvGrd</th>\n",
       "      <th>TotalBsmtSF</th>\n",
       "      <th>Utilities_AllPub</th>\n",
       "      <th>Utilities_NoSeWa</th>\n",
       "      <th>WoodDeckSF</th>\n",
       "      <th>YearBuilt</th>\n",
       "      <th>YearRemodAdd</th>\n",
       "      <th>YrSold</th>\n",
       "      <th>Id</th>\n",
       "      <th>SalePrice</th>\n",
       "    </tr>\n",
       "  </thead>\n",
       "  <tbody>\n",
       "    <tr>\n",
       "      <th>0</th>\n",
       "      <td>0.006206</td>\n",
       "      <td>0.006724</td>\n",
       "      <td>0.874061</td>\n",
       "      <td>0.000724</td>\n",
       "      <td>0.000517</td>\n",
       "      <td>0.207189</td>\n",
       "      <td>0.207189</td>\n",
       "      <td>0.020274</td>\n",
       "      <td>0.073028</td>\n",
       "      <td>0.0</td>\n",
       "      <td>...</td>\n",
       "      <td>0.0</td>\n",
       "      <td>0.000103</td>\n",
       "      <td>0.000000</td>\n",
       "      <td>0.0</td>\n",
       "      <td>0.0</td>\n",
       "      <td>0.0</td>\n",
       "      <td>0.000103</td>\n",
       "      <td>0.0</td>\n",
       "      <td>1</td>\n",
       "      <td>208500</td>\n",
       "    </tr>\n",
       "    <tr>\n",
       "      <th>1</th>\n",
       "      <td>0.001873</td>\n",
       "      <td>0.007492</td>\n",
       "      <td>0.899026</td>\n",
       "      <td>0.000562</td>\n",
       "      <td>0.000749</td>\n",
       "      <td>0.185050</td>\n",
       "      <td>0.185050</td>\n",
       "      <td>0.000000</td>\n",
       "      <td>0.091588</td>\n",
       "      <td>0.0</td>\n",
       "      <td>...</td>\n",
       "      <td>0.0</td>\n",
       "      <td>0.000094</td>\n",
       "      <td>0.000000</td>\n",
       "      <td>0.0</td>\n",
       "      <td>0.0</td>\n",
       "      <td>0.0</td>\n",
       "      <td>0.000094</td>\n",
       "      <td>0.0</td>\n",
       "      <td>2</td>\n",
       "      <td>181500</td>\n",
       "    </tr>\n",
       "    <tr>\n",
       "      <th>2</th>\n",
       "      <td>0.004914</td>\n",
       "      <td>0.005569</td>\n",
       "      <td>0.921408</td>\n",
       "      <td>0.000573</td>\n",
       "      <td>0.000410</td>\n",
       "      <td>0.163888</td>\n",
       "      <td>0.163970</td>\n",
       "      <td>0.013268</td>\n",
       "      <td>0.039805</td>\n",
       "      <td>0.0</td>\n",
       "      <td>...</td>\n",
       "      <td>0.0</td>\n",
       "      <td>0.000082</td>\n",
       "      <td>0.000000</td>\n",
       "      <td>0.0</td>\n",
       "      <td>0.0</td>\n",
       "      <td>0.0</td>\n",
       "      <td>0.000082</td>\n",
       "      <td>0.0</td>\n",
       "      <td>3</td>\n",
       "      <td>223500</td>\n",
       "    </tr>\n",
       "    <tr>\n",
       "      <th>3</th>\n",
       "      <td>0.006596</td>\n",
       "      <td>0.005654</td>\n",
       "      <td>0.899920</td>\n",
       "      <td>0.000660</td>\n",
       "      <td>0.000471</td>\n",
       "      <td>0.180455</td>\n",
       "      <td>0.185638</td>\n",
       "      <td>0.000000</td>\n",
       "      <td>0.020354</td>\n",
       "      <td>0.0</td>\n",
       "      <td>...</td>\n",
       "      <td>0.0</td>\n",
       "      <td>0.000094</td>\n",
       "      <td>0.000094</td>\n",
       "      <td>0.0</td>\n",
       "      <td>0.0</td>\n",
       "      <td>0.0</td>\n",
       "      <td>0.000000</td>\n",
       "      <td>0.0</td>\n",
       "      <td>4</td>\n",
       "      <td>140000</td>\n",
       "    </tr>\n",
       "    <tr>\n",
       "      <th>4</th>\n",
       "      <td>0.003961</td>\n",
       "      <td>0.005545</td>\n",
       "      <td>0.941326</td>\n",
       "      <td>0.000528</td>\n",
       "      <td>0.000330</td>\n",
       "      <td>0.132023</td>\n",
       "      <td>0.132023</td>\n",
       "      <td>0.023104</td>\n",
       "      <td>0.043238</td>\n",
       "      <td>0.0</td>\n",
       "      <td>...</td>\n",
       "      <td>0.0</td>\n",
       "      <td>0.000066</td>\n",
       "      <td>0.000000</td>\n",
       "      <td>0.0</td>\n",
       "      <td>0.0</td>\n",
       "      <td>0.0</td>\n",
       "      <td>0.000066</td>\n",
       "      <td>0.0</td>\n",
       "      <td>5</td>\n",
       "      <td>250000</td>\n",
       "    </tr>\n",
       "  </tbody>\n",
       "</table>\n",
       "<p>5 rows × 305 columns</p>\n",
       "</div>"
      ],
      "text/plain": [
       "   1stFlrSF  2ndFlrSF  3SsnPorch  Alley_Grvl  Alley_NA  Alley_Pave  \\\n",
       "0  0.006206  0.006724   0.874061    0.000724  0.000517    0.207189   \n",
       "1  0.001873  0.007492   0.899026    0.000562  0.000749    0.185050   \n",
       "2  0.004914  0.005569   0.921408    0.000573  0.000410    0.163888   \n",
       "3  0.006596  0.005654   0.899920    0.000660  0.000471    0.180455   \n",
       "4  0.003961  0.005545   0.941326    0.000528  0.000330    0.132023   \n",
       "\n",
       "   BedroomAbvGr  BldgType_1Fam  BldgType_2fmCon  BldgType_Duplex    ...      \\\n",
       "0      0.207189       0.020274         0.073028              0.0    ...       \n",
       "1      0.185050       0.000000         0.091588              0.0    ...       \n",
       "2      0.163970       0.013268         0.039805              0.0    ...       \n",
       "3      0.185638       0.000000         0.020354              0.0    ...       \n",
       "4      0.132023       0.023104         0.043238              0.0    ...       \n",
       "\n",
       "   TotRmsAbvGrd  TotalBsmtSF  Utilities_AllPub  Utilities_NoSeWa  WoodDeckSF  \\\n",
       "0           0.0     0.000103          0.000000               0.0         0.0   \n",
       "1           0.0     0.000094          0.000000               0.0         0.0   \n",
       "2           0.0     0.000082          0.000000               0.0         0.0   \n",
       "3           0.0     0.000094          0.000094               0.0         0.0   \n",
       "4           0.0     0.000066          0.000000               0.0         0.0   \n",
       "\n",
       "   YearBuilt  YearRemodAdd  YrSold  Id  SalePrice  \n",
       "0        0.0      0.000103     0.0   1     208500  \n",
       "1        0.0      0.000094     0.0   2     181500  \n",
       "2        0.0      0.000082     0.0   3     223500  \n",
       "3        0.0      0.000000     0.0   4     140000  \n",
       "4        0.0      0.000066     0.0   5     250000  \n",
       "\n",
       "[5 rows x 305 columns]"
      ]
     },
     "execution_count": 110,
     "metadata": {},
     "output_type": "execute_result"
    }
   ],
   "source": [
    "dff=pd.get_dummies(dff_n)\n",
    "#dff=dff.copy()\n",
    "SalePrice = dff[['Id','SalePrice']]\n",
    "SalePrice.head()\n",
    "dff.head()"
   ]
  },
  {
   "cell_type": "code",
   "execution_count": 111,
   "metadata": {
    "collapsed": true
   },
   "outputs": [],
   "source": [
    "columns= dff.columns.difference(['Id','SalePrice'])"
   ]
  },
  {
   "cell_type": "code",
   "execution_count": 112,
   "metadata": {
    "collapsed": true
   },
   "outputs": [],
   "source": [
    "from sklearn.model_selection import train_test_split\n",
    "X_train, X_test, y_train, y_test = train_test_split(dff_n.drop(['GarageCars','GarageArea', 'Id', 'SalePrice'], axis =1), dff_n['SalePrice'], test_size=0.3, random_state=101)"
   ]
  },
  {
   "cell_type": "code",
   "execution_count": 128,
   "metadata": {},
   "outputs": [
    {
     "data": {
      "text/plain": [
       "6"
      ]
     },
     "execution_count": 128,
     "metadata": {},
     "output_type": "execute_result"
    }
   ],
   "source": [
    "from sklearn.ensemble import RandomForestRegressor\n",
    "rf = RandomForestRegressor()\n",
    "rf.fit(X_train,y_train)\n",
    "scores =sorted(list(zip(map(lambda x: round(x, 4), rf.feature_importances_),X_train.columns)),reverse=True)\n",
    "c =Counter([y.partition('_')[0] for (x,y) in scores])\n",
    "c['Heating']"
   ]
  },
  {
   "cell_type": "code",
   "execution_count": 144,
   "metadata": {},
   "outputs": [
    {
     "name": "stdout",
     "output_type": "stream",
     "text": [
      "{'Heating': 0.37269999999999998, 'HouseStyle': 0.15240000000000004, 'BsmtExposure': 0.077799999999999994, 'Neighborhood': 0.091700000000000018, 'Alley': 0.0298, 'BsmtCond': 0.029600000000000001, 'BldgType': 0.039199999999999999, 'BsmtFinType1': 0.029500000000000005, 'HeatingQC': 0.016500000000000001, 'Condition1': 0.013099999999999999, 'BedroomAbvGr': 0.0067000000000000002, 'LandSlope': 0.0076000000000000009, 'KitchenQual': 0.0086, 'SaleType': 0.0064999999999999997, '3SsnPorch': 0.0054999999999999997, 'CentralAir': 0.0054000000000000003, 'LotConfig': 0.0084000000000000012, 'SaleCondition': 0.0053999999999999994, 'Exterior1st': 0.0109, 'FireplaceQu': 0.0055000000000000005, 'PoolArea': 0.0038999999999999998, '1stFlrSF': 0.0033, 'MiscFeature': 0.0044000000000000003, 'Exterior2nd': 0.0043, 'Condition2': 0.0061000000000000004, 'LotShape': 0.0026999999999999997, 'BsmtUnfSF': 0.0025999999999999999, 'BsmtFinType2': 0.0066, 'BsmtQual': 0.0041999999999999997, 'BsmtFinSF2': 0.0023999999999999998, 'Foundation': 0.0038999999999999998, 'YearRemodAdd': 0.002, 'TotalBsmtSF': 0.0019, 'PavedDrive': 0.0035999999999999999, 'BsmtFinSF1': 0.0019, '2ndFlrSF': 0.0018, 'ExterCond': 0.0028999999999999998, 'RoofStyle': 0.0020999999999999999, 'GrLivArea': 0.0011999999999999999, 'Garage': 0.00089999999999999998, 'RoofMatl': 0.0018, 'OverallQual': 0.00069999999999999999, 'Functional': 0.00069999999999999999, 'Street': 0.00059999999999999995, 'PoolQC': 0.00059999999999999995, 'MSZoning': 0.0011999999999999999, 'GarageCond': 0.00079999999999999993, 'Fence': 0.0010999999999999998, 'MiscVal': 0.00050000000000000001, 'MasVnrType': 0.00050000000000000001, 'LandContour': 0.00069999999999999999, 'GarageType': 0.00089999999999999998, 'GarageYrBlt': 0.00040000000000000002, 'GarageFinish': 0.00080000000000000004, 'ExterQual': 0.00050000000000000001, 'EnclosedPorch': 0.00040000000000000002, 'GarageQual': 0.00050000000000000001, 'YearBuilt': 0.00020000000000000001, 'OverallCond': 0.00020000000000000001, 'Electrical': 0.00030000000000000003, 'YrSold': 0.0001, 'WoodDeckSF': 0.0001, 'Utilities': 0.0001, 'MoSold': 0.0001, 'MasVnrArea': 0.0001, 'KitchenAbvGr': 0.0001, 'TotRmsAbvGrd': 0.0, 'ScreenPorch': 0.0, 'OpenPorchSF': 0.0, 'MSSubClass': 0.0, 'LowQualFinSF': 0.0, 'LotFrontage': 0.0, 'LotArea': 0.0, 'HalfBath': 0.0, 'FullBath': 0.0, 'Fireplaces': 0.0, 'BsmtHalfBath': 0.0, 'BsmtFullBath': 0.0}\n"
     ]
    }
   ],
   "source": [
    "def getscores(scores):\n",
    "    score = dict()\n",
    "    for row in scores:\n",
    "        name = row[1]\n",
    "        name = name.partition('_')[0]\n",
    "        if name in score.keys():\n",
    "            score[name]=score[name]+row[0]\n",
    "        else:\n",
    "            score[name]=row[0]\n",
    "    return score        \n",
    "x = getscores(scores)            \n",
    "print(x)"
   ]
  },
  {
   "cell_type": "code",
   "execution_count": 145,
   "metadata": {},
   "outputs": [],
   "source": [
    "for k, v in x.items():\n",
    "    x[k]=x[k]/c[k]"
   ]
  },
  {
   "cell_type": "code",
   "execution_count": 153,
   "metadata": {},
   "outputs": [
    {
     "data": {
      "text/plain": [
       "[('Heating', 0.06211666666666666),\n",
       " ('HouseStyle', 0.019050000000000004),\n",
       " ('BsmtExposure', 0.015559999999999999),\n",
       " ('Alley', 0.0099333333333333339),\n",
       " ('BldgType', 0.0078399999999999997),\n",
       " ('BedroomAbvGr', 0.0067000000000000002),\n",
       " ('BsmtCond', 0.0059199999999999999),\n",
       " ('3SsnPorch', 0.0054999999999999997),\n",
       " ('BsmtFinType1', 0.0042142857142857147),\n",
       " ('PoolArea', 0.0038999999999999998),\n",
       " ('Neighborhood', 0.0036680000000000007),\n",
       " ('HeatingQC', 0.0033),\n",
       " ('1stFlrSF', 0.0033),\n",
       " ('CentralAir', 0.0027000000000000001),\n",
       " ('BsmtUnfSF', 0.0025999999999999999),\n",
       " ('LandSlope', 0.0025333333333333336),\n",
       " ('BsmtFinSF2', 0.0023999999999999998),\n",
       " ('KitchenQual', 0.00215),\n",
       " ('YearRemodAdd', 0.002),\n",
       " ('TotalBsmtSF', 0.0019),\n",
       " ('BsmtFinSF1', 0.0019),\n",
       " ('2ndFlrSF', 0.0018),\n",
       " ('LotConfig', 0.0016800000000000003),\n",
       " ('Condition1', 0.0014555555555555554),\n",
       " ('PavedDrive', 0.0011999999999999999),\n",
       " ('GrLivArea', 0.0011999999999999999),\n",
       " ('BsmtFinType2', 0.00094285714285714285),\n",
       " ('FireplaceQu', 0.00091666666666666676),\n",
       " ('Garage', 0.00089999999999999998),\n",
       " ('SaleCondition', 0.00089999999999999987),\n",
       " ('MiscFeature', 0.00088000000000000003),\n",
       " ('BsmtQual', 0.00083999999999999993),\n",
       " ('Condition2', 0.00076250000000000005),\n",
       " ('Exterior1st', 0.00072666666666666669),\n",
       " ('SaleType', 0.00072222222222222219),\n",
       " ('OverallQual', 0.00069999999999999999),\n",
       " ('LotShape', 0.00067499999999999993),\n",
       " ('Foundation', 0.00064999999999999997),\n",
       " ('ExterCond', 0.00058),\n",
       " ('MiscVal', 0.00050000000000000001),\n",
       " ('GarageYrBlt', 0.00040000000000000002),\n",
       " ('EnclosedPorch', 0.00040000000000000002),\n",
       " ('RoofStyle', 0.00035),\n",
       " ('Street', 0.00029999999999999997),\n",
       " ('Exterior2nd', 0.00026875),\n",
       " ('MSZoning', 0.00023999999999999998),\n",
       " ('RoofMatl', 0.00022499999999999999),\n",
       " ('Fence', 0.00021999999999999998),\n",
       " ('GarageFinish', 0.00020000000000000001),\n",
       " ('YearBuilt', 0.00020000000000000001),\n",
       " ('OverallCond', 0.00020000000000000001),\n",
       " ('LandContour', 0.000175),\n",
       " ('PoolQC', 0.00014999999999999999),\n",
       " ('GarageCond', 0.00013333333333333331),\n",
       " ('GarageType', 0.00012857142857142858),\n",
       " ('MasVnrType', 0.000125),\n",
       " ('ExterQual', 0.000125),\n",
       " ('Functional', 0.0001),\n",
       " ('YrSold', 0.0001),\n",
       " ('WoodDeckSF', 0.0001),\n",
       " ('MoSold', 0.0001),\n",
       " ('MasVnrArea', 0.0001),\n",
       " ('KitchenAbvGr', 0.0001),\n",
       " ('GarageQual', 8.3333333333333331e-05),\n",
       " ('Electrical', 6.0000000000000008e-05),\n",
       " ('Utilities', 5.0000000000000002e-05),\n",
       " ('TotRmsAbvGrd', 0.0),\n",
       " ('ScreenPorch', 0.0),\n",
       " ('OpenPorchSF', 0.0),\n",
       " ('MSSubClass', 0.0),\n",
       " ('LowQualFinSF', 0.0),\n",
       " ('LotFrontage', 0.0),\n",
       " ('LotArea', 0.0),\n",
       " ('HalfBath', 0.0),\n",
       " ('FullBath', 0.0),\n",
       " ('Fireplaces', 0.0),\n",
       " ('BsmtHalfBath', 0.0),\n",
       " ('BsmtFullBath', 0.0)]"
      ]
     },
     "execution_count": 153,
     "metadata": {},
     "output_type": "execute_result"
    }
   ],
   "source": [
    "import operator\n",
    "sorted_x = sorted(x.items(), key=operator.itemgetter(1),reverse=True)\n",
    "sorted_x"
   ]
  },
  {
   "cell_type": "code",
   "execution_count": 137,
   "metadata": {
    "collapsed": true
   },
   "outputs": [],
   "source": [
    "pred = rf.predict(X_test)"
   ]
  },
  {
   "cell_type": "code",
   "execution_count": 116,
   "metadata": {},
   "outputs": [
    {
     "data": {
      "text/plain": [
       "0.20091778294866688"
      ]
     },
     "execution_count": 116,
     "metadata": {},
     "output_type": "execute_result"
    }
   ],
   "source": [
    "from sklearn.metrics import mean_squared_log_error\n",
    "from math import sqrt\n",
    "rmse = sqrt(mean_squared_log_error(y_test, pred))\n",
    "rmse"
   ]
  },
  {
   "cell_type": "code",
   "execution_count": 119,
   "metadata": {},
   "outputs": [
    {
     "data": {
      "text/plain": [
       "RFE(estimator=RandomForestRegressor(bootstrap=True, criterion='mse', max_depth=None,\n",
       "           max_features='auto', max_leaf_nodes=None,\n",
       "           min_impurity_decrease=0.0, min_impurity_split=None,\n",
       "           min_samples_leaf=1, min_samples_split=2,\n",
       "           min_weight_fraction_leaf=0.0, n_estimators=10, n_jobs=1,\n",
       "           oob_score=False, random_state=None, verbose=0, warm_start=False),\n",
       "  n_features_to_select=15, step=1, verbose=0)"
      ]
     },
     "execution_count": 119,
     "metadata": {},
     "output_type": "execute_result"
    }
   ],
   "source": [
    "from sklearn.feature_selection import SelectKBest\n",
    "rfe = RFE(estimator=rf, n_features_to_select=15, step=1)\n",
    "rfe.fit(X_train, y_train)"
   ]
  },
  {
   "cell_type": "code",
   "execution_count": 125,
   "metadata": {},
   "outputs": [
    {
     "data": {
      "text/plain": [
       "<function sklearn.feature_selection.rfe.RFE.score>"
      ]
     },
     "execution_count": 125,
     "metadata": {},
     "output_type": "execute_result"
    }
   ],
   "source": [
    "ranking = rfe.\n",
    "ranking"
   ]
  },
  {
   "cell_type": "code",
   "execution_count": null,
   "metadata": {
    "collapsed": true
   },
   "outputs": [],
   "source": []
  },
  {
   "cell_type": "code",
   "execution_count": null,
   "metadata": {
    "collapsed": true
   },
   "outputs": [],
   "source": []
  },
  {
   "cell_type": "code",
   "execution_count": 75,
   "metadata": {
    "collapsed": true
   },
   "outputs": [],
   "source": [
    "submission = pd.DataFrame({\n",
    "        \"Id\": df[\"Id\"][:438],\n",
    "        \"Label\": pred\n",
    "    })"
   ]
  },
  {
   "cell_type": "code",
   "execution_count": 76,
   "metadata": {
    "collapsed": true
   },
   "outputs": [],
   "source": [
    "submission.to_csv('output.csv',index=False)"
   ]
  },
  {
   "cell_type": "code",
   "execution_count": null,
   "metadata": {
    "collapsed": true
   },
   "outputs": [],
   "source": []
  }
 ],
 "metadata": {
  "kernelspec": {
   "display_name": "Python 3",
   "language": "python",
   "name": "python3"
  },
  "language_info": {
   "codemirror_mode": {
    "name": "ipython",
    "version": 3
   },
   "file_extension": ".py",
   "mimetype": "text/x-python",
   "name": "python",
   "nbconvert_exporter": "python",
   "pygments_lexer": "ipython3",
   "version": "3.6.2"
  }
 },
 "nbformat": 4,
 "nbformat_minor": 2
}
