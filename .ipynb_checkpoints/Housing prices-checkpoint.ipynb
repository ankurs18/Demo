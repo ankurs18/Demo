{
 "cells": [
  {
   "cell_type": "code",
   "execution_count": 649,
   "metadata": {
    "scrolled": true
   },
   "outputs": [
    {
     "name": "stdout",
     "output_type": "stream",
     "text": [
      "<class 'pandas.core.frame.DataFrame'>\n",
      "RangeIndex: 1460 entries, 0 to 1459\n",
      "Data columns (total 81 columns):\n",
      "Id               1460 non-null int64\n",
      "MSSubClass       1460 non-null int64\n",
      "MSZoning         1460 non-null object\n",
      "LotFrontage      1201 non-null float64\n",
      "LotArea          1460 non-null int64\n",
      "Street           1460 non-null object\n",
      "Alley            91 non-null object\n",
      "LotShape         1460 non-null object\n",
      "LandContour      1460 non-null object\n",
      "Utilities        1460 non-null object\n",
      "LotConfig        1460 non-null object\n",
      "LandSlope        1460 non-null object\n",
      "Neighborhood     1460 non-null object\n",
      "Condition1       1460 non-null object\n",
      "Condition2       1460 non-null object\n",
      "BldgType         1460 non-null object\n",
      "HouseStyle       1460 non-null object\n",
      "OverallQual      1460 non-null int64\n",
      "OverallCond      1460 non-null int64\n",
      "YearBuilt        1460 non-null int64\n",
      "YearRemodAdd     1460 non-null int64\n",
      "RoofStyle        1460 non-null object\n",
      "RoofMatl         1460 non-null object\n",
      "Exterior1st      1460 non-null object\n",
      "Exterior2nd      1460 non-null object\n",
      "MasVnrType       1452 non-null object\n",
      "MasVnrArea       1452 non-null float64\n",
      "ExterQual        1460 non-null object\n",
      "ExterCond        1460 non-null object\n",
      "Foundation       1460 non-null object\n",
      "BsmtQual         1423 non-null object\n",
      "BsmtCond         1423 non-null object\n",
      "BsmtExposure     1422 non-null object\n",
      "BsmtFinType1     1423 non-null object\n",
      "BsmtFinSF1       1460 non-null int64\n",
      "BsmtFinType2     1422 non-null object\n",
      "BsmtFinSF2       1460 non-null int64\n",
      "BsmtUnfSF        1460 non-null int64\n",
      "TotalBsmtSF      1460 non-null int64\n",
      "Heating          1460 non-null object\n",
      "HeatingQC        1460 non-null object\n",
      "CentralAir       1460 non-null object\n",
      "Electrical       1459 non-null object\n",
      "1stFlrSF         1460 non-null int64\n",
      "2ndFlrSF         1460 non-null int64\n",
      "LowQualFinSF     1460 non-null int64\n",
      "GrLivArea        1460 non-null int64\n",
      "BsmtFullBath     1460 non-null int64\n",
      "BsmtHalfBath     1460 non-null int64\n",
      "FullBath         1460 non-null int64\n",
      "HalfBath         1460 non-null int64\n",
      "BedroomAbvGr     1460 non-null int64\n",
      "KitchenAbvGr     1460 non-null int64\n",
      "KitchenQual      1460 non-null object\n",
      "TotRmsAbvGrd     1460 non-null int64\n",
      "Functional       1460 non-null object\n",
      "Fireplaces       1460 non-null int64\n",
      "FireplaceQu      770 non-null object\n",
      "GarageType       1379 non-null object\n",
      "GarageYrBlt      1379 non-null float64\n",
      "GarageFinish     1379 non-null object\n",
      "GarageCars       1460 non-null int64\n",
      "GarageArea       1460 non-null int64\n",
      "GarageQual       1379 non-null object\n",
      "GarageCond       1379 non-null object\n",
      "PavedDrive       1460 non-null object\n",
      "WoodDeckSF       1460 non-null int64\n",
      "OpenPorchSF      1460 non-null int64\n",
      "EnclosedPorch    1460 non-null int64\n",
      "3SsnPorch        1460 non-null int64\n",
      "ScreenPorch      1460 non-null int64\n",
      "PoolArea         1460 non-null int64\n",
      "PoolQC           7 non-null object\n",
      "Fence            281 non-null object\n",
      "MiscFeature      54 non-null object\n",
      "MiscVal          1460 non-null int64\n",
      "MoSold           1460 non-null int64\n",
      "YrSold           1460 non-null int64\n",
      "SaleType         1460 non-null object\n",
      "SaleCondition    1460 non-null object\n",
      "SalePrice        1460 non-null int64\n",
      "dtypes: float64(3), int64(35), object(43)\n",
      "memory usage: 924.0+ KB\n"
     ]
    }
   ],
   "source": [
    "import pandas as pd\n",
    "import matplotlib.pyplot as plt\n",
    "import seaborn as sns\n",
    "import numpy as np\n",
    "%matplotlib inline\n",
    "\n",
    "df = pd.read_csv('train.csv')\n",
    "df.info()"
   ]
  },
  {
   "cell_type": "code",
   "execution_count": 650,
   "metadata": {},
   "outputs": [
    {
     "name": "stdout",
     "output_type": "stream",
     "text": [
      "864\n",
      "8\n",
      "861\n",
      "8\n"
     ]
    },
    {
     "data": {
      "text/plain": [
       "array(['Gd', 'TA', 'Ex', 'Fa'], dtype=object)"
      ]
     },
     "execution_count": 650,
     "metadata": {},
     "output_type": "execute_result"
    }
   ],
   "source": [
    "print(df[df['MasVnrType']=='None'].count()['Id'])\n",
    "print(df[df['MasVnrType'].isnull()].count()['Id'])\n",
    "print(df[df['MasVnrArea']==0].count()['Id'])\n",
    "print(df[df['MasVnrArea'].isnull()].count()['Id'])\n",
    "df['ExterQual'].unique()"
   ]
  },
  {
   "cell_type": "code",
   "execution_count": 651,
   "metadata": {
    "collapsed": true
   },
   "outputs": [],
   "source": [
    "#removing the misleading value of area 1\n",
    "df.loc[(df['MasVnrType']=='None') & (df['MasVnrArea']==1),'MasVnrArea']=0"
   ]
  },
  {
   "cell_type": "code",
   "execution_count": null,
   "metadata": {
    "collapsed": true
   },
   "outputs": [],
   "source": []
  },
  {
   "cell_type": "code",
   "execution_count": 652,
   "metadata": {},
   "outputs": [
    {
     "name": "stdout",
     "output_type": "stream",
     "text": [
      "      MasVnrArea MasVnrType\n",
      "234          NaN        NaN\n",
      "529          NaN        NaN\n",
      "650          NaN        NaN\n",
      "936          NaN        NaN\n",
      "973          NaN        NaN\n",
      "977          NaN        NaN\n",
      "1243         NaN        NaN\n",
      "1278         NaN        NaN\n"
     ]
    },
    {
     "data": {
      "text/html": [
       "<div>\n",
       "<style>\n",
       "    .dataframe thead tr:only-child th {\n",
       "        text-align: right;\n",
       "    }\n",
       "\n",
       "    .dataframe thead th {\n",
       "        text-align: left;\n",
       "    }\n",
       "\n",
       "    .dataframe tbody tr th {\n",
       "        vertical-align: top;\n",
       "    }\n",
       "</style>\n",
       "<table border=\"1\" class=\"dataframe\">\n",
       "  <thead>\n",
       "    <tr style=\"text-align: right;\">\n",
       "      <th></th>\n",
       "      <th>MasVnrArea</th>\n",
       "      <th>MasVnrType</th>\n",
       "    </tr>\n",
       "  </thead>\n",
       "  <tbody>\n",
       "  </tbody>\n",
       "</table>\n",
       "</div>"
      ],
      "text/plain": [
       "Empty DataFrame\n",
       "Columns: [MasVnrArea, MasVnrType]\n",
       "Index: []"
      ]
     },
     "execution_count": 652,
     "metadata": {},
     "output_type": "execute_result"
    }
   ],
   "source": [
    "#where area and type both are null, setting them to 0 and none respectively\n",
    "print(df.loc[(df['MasVnrType'].isnull()) & (df['MasVnrArea'].isnull()),('MasVnrArea','MasVnrType')])\n",
    "df.loc[(df['MasVnrType'].isnull()) & (df['MasVnrArea'].isnull()),('MasVnrArea','MasVnrType')]=0,'None'\n",
    "df.loc[(df['MasVnrType'].isnull()) & (df['MasVnrArea'].isnull()),('MasVnrArea','MasVnrType')]"
   ]
  },
  {
   "cell_type": "code",
   "execution_count": null,
   "metadata": {
    "collapsed": true
   },
   "outputs": [],
   "source": []
  },
  {
   "cell_type": "code",
   "execution_count": 653,
   "metadata": {
    "collapsed": true
   },
   "outputs": [],
   "source": [
    "#when area is 0 bt Type is not none, setting type to the mean of area\n",
    "df.loc[(df['MasVnrType']!='None') & (df['MasVnrArea']==0),('MasVnrArea')]=df[df['MasVnrArea']!=0]['MasVnrArea'].mean()"
   ]
  },
  {
   "cell_type": "code",
   "execution_count": 654,
   "metadata": {},
   "outputs": [
    {
     "name": "stdout",
     "output_type": "stream",
     "text": [
      "     MasVnrType  MasVnrArea\n",
      "624        None       288.0\n",
      "1300       None       344.0\n",
      "1334       None       312.0\n"
     ]
    },
    {
     "data": {
      "text/html": [
       "<div>\n",
       "<style>\n",
       "    .dataframe thead tr:only-child th {\n",
       "        text-align: right;\n",
       "    }\n",
       "\n",
       "    .dataframe thead th {\n",
       "        text-align: left;\n",
       "    }\n",
       "\n",
       "    .dataframe tbody tr th {\n",
       "        vertical-align: top;\n",
       "    }\n",
       "</style>\n",
       "<table border=\"1\" class=\"dataframe\">\n",
       "  <thead>\n",
       "    <tr style=\"text-align: right;\">\n",
       "      <th></th>\n",
       "      <th>MasVnrType</th>\n",
       "      <th>MasVnrArea</th>\n",
       "    </tr>\n",
       "  </thead>\n",
       "  <tbody>\n",
       "  </tbody>\n",
       "</table>\n",
       "</div>"
      ],
      "text/plain": [
       "Empty DataFrame\n",
       "Columns: [MasVnrType, MasVnrArea]\n",
       "Index: []"
      ]
     },
     "execution_count": 654,
     "metadata": {},
     "output_type": "execute_result"
    }
   ],
   "source": [
    "#when area is not 0 bt Type is none, setting type to the mode of types\n",
    "print(df.loc[(df['MasVnrType']=='None') & (df['MasVnrArea']!=0),('MasVnrType','MasVnrArea')])\n",
    "df.loc[(df['MasVnrType']=='None') & (df['MasVnrArea']!=0),('MasVnrType')]=df[df['MasVnrType']!='None']['MasVnrType'].mode().iloc[0]\n",
    "df.loc[(df['MasVnrType']=='None') & (df['MasVnrArea']!=0),('MasVnrType','MasVnrArea')]"
   ]
  },
  {
   "cell_type": "code",
   "execution_count": 655,
   "metadata": {},
   "outputs": [
    {
     "name": "stdout",
     "output_type": "stream",
     "text": [
      "869\n",
      "0\n",
      "869\n",
      "0\n"
     ]
    }
   ],
   "source": [
    "print(df[df['MasVnrType']=='None'].count()['Id'])\n",
    "print(df[df['MasVnrType'].isnull()].count()['Id'])\n",
    "print(df[df['MasVnrArea']==0].count()['Id'])\n",
    "print(df[df['MasVnrArea'].isnull()].count()['Id'])"
   ]
  },
  {
   "cell_type": "code",
   "execution_count": 656,
   "metadata": {
    "scrolled": true
   },
   "outputs": [
    {
     "name": "stdout",
     "output_type": "stream",
     "text": [
      "Series([], Name: MasVnrType, dtype: object)\n"
     ]
    },
    {
     "data": {
      "text/plain": [
       "Series([], Name: MasVnrType, dtype: object)"
      ]
     },
     "execution_count": 656,
     "metadata": {},
     "output_type": "execute_result"
    }
   ],
   "source": [
    "#where type is null bt area is greater than 0 setting it to mode of types\n",
    "print(df.loc[(df['MasVnrType'].isnull()) & (df['MasVnrArea']!=0),'MasVnrType'])\n",
    "df.loc[(df['MasVnrType'].isnull()) & (df['MasVnrArea']!=0),'MasVnrType']=df[df['MasVnrType']!='None']['MasVnrType'].mode()\n",
    "df.loc[(df['MasVnrType'].isnull()) & (df['MasVnrArea']!=0),'MasVnrType']"
   ]
  },
  {
   "cell_type": "code",
   "execution_count": 657,
   "metadata": {},
   "outputs": [
    {
     "name": "stdout",
     "output_type": "stream",
     "text": [
      "[nan 'Grvl' 'Pave']\n"
     ]
    },
    {
     "data": {
      "text/plain": [
       "array(['NA', 'Grvl', 'Pave'], dtype=object)"
      ]
     },
     "execution_count": 657,
     "metadata": {},
     "output_type": "execute_result"
    }
   ],
   "source": [
    "print(df['Alley'].unique())\n",
    "df['Alley']=df['Alley'].fillna('NA')\n",
    "df['Alley'].unique()"
   ]
  },
  {
   "cell_type": "code",
   "execution_count": 658,
   "metadata": {},
   "outputs": [
    {
     "name": "stdout",
     "output_type": "stream",
     "text": [
      "[  65.   80.   68.   60.   84.   85.   75.   nan   51.   50.   70.   91.\n",
      "   72.   66.  101.   57.   44.  110.   98.   47.  108.  112.   74.  115.\n",
      "   61.   48.   33.   52.  100.   24.   89.   63.   76.   81.   95.   69.\n",
      "   21.   32.   78.  121.  122.   40.  105.   73.   77.   64.   94.   34.\n",
      "   90.   55.   88.   82.   71.  120.  107.   92.  134.   62.   86.  141.\n",
      "   97.   54.   41.   79.  174.   99.   67.   83.   43.  103.   93.   30.\n",
      "  129.  140.   35.   37.  118.   87.  116.  150.  111.   49.   96.   59.\n",
      "   36.   56.  102.   58.   38.  109.  130.   53.  137.   45.  106.  104.\n",
      "   42.   39.  144.  114.  128.  149.  313.  168.  182.  138.  160.  152.\n",
      "  124.  153.   46.]\n"
     ]
    },
    {
     "data": {
      "text/plain": [
       "array([  65.,   80.,   68.,   60.,   84.,   85.,   75.,    0.,   51.,\n",
       "         50.,   70.,   91.,   72.,   66.,  101.,   57.,   44.,  110.,\n",
       "         98.,   47.,  108.,  112.,   74.,  115.,   61.,   48.,   33.,\n",
       "         52.,  100.,   24.,   89.,   63.,   76.,   81.,   95.,   69.,\n",
       "         21.,   32.,   78.,  121.,  122.,   40.,  105.,   73.,   77.,\n",
       "         64.,   94.,   34.,   90.,   55.,   88.,   82.,   71.,  120.,\n",
       "        107.,   92.,  134.,   62.,   86.,  141.,   97.,   54.,   41.,\n",
       "         79.,  174.,   99.,   67.,   83.,   43.,  103.,   93.,   30.,\n",
       "        129.,  140.,   35.,   37.,  118.,   87.,  116.,  150.,  111.,\n",
       "         49.,   96.,   59.,   36.,   56.,  102.,   58.,   38.,  109.,\n",
       "        130.,   53.,  137.,   45.,  106.,  104.,   42.,   39.,  144.,\n",
       "        114.,  128.,  149.,  313.,  168.,  182.,  138.,  160.,  152.,\n",
       "        124.,  153.,   46.])"
      ]
     },
     "execution_count": 658,
     "metadata": {},
     "output_type": "execute_result"
    }
   ],
   "source": [
    "print(df['LotFrontage'].unique())\n",
    "df['LotFrontage']=df['LotFrontage'].fillna(0)\n",
    "df['LotFrontage'].unique()"
   ]
  },
  {
   "cell_type": "code",
   "execution_count": 659,
   "metadata": {},
   "outputs": [
    {
     "name": "stdout",
     "output_type": "stream",
     "text": [
      "['NA' 'Grvl' 'Pave']\n"
     ]
    },
    {
     "data": {
      "text/plain": [
       "array(['NA', 'Grvl', 'Pave'], dtype=object)"
      ]
     },
     "execution_count": 659,
     "metadata": {},
     "output_type": "execute_result"
    }
   ],
   "source": [
    "print(df['Alley'].unique())\n",
    "df['Alley']=df['Alley'].fillna('NA')\n",
    "df['Alley'].unique()"
   ]
  },
  {
   "cell_type": "code",
   "execution_count": 660,
   "metadata": {},
   "outputs": [
    {
     "name": "stdout",
     "output_type": "stream",
     "text": [
      "['Gd' 'TA' 'Ex' nan 'Fa']\n"
     ]
    },
    {
     "data": {
      "text/plain": [
       "array(['Gd', 'TA', 'Ex', 'NA', 'Fa'], dtype=object)"
      ]
     },
     "execution_count": 660,
     "metadata": {},
     "output_type": "execute_result"
    }
   ],
   "source": [
    "print(df['BsmtQual'].unique())\n",
    "df['BsmtQual']=df['BsmtQual'].fillna('NA')\n",
    "df['BsmtQual'].unique()"
   ]
  },
  {
   "cell_type": "code",
   "execution_count": 661,
   "metadata": {},
   "outputs": [
    {
     "name": "stdout",
     "output_type": "stream",
     "text": [
      "['TA' 'Gd' nan 'Fa' 'Po']\n"
     ]
    },
    {
     "data": {
      "text/plain": [
       "array(['TA', 'Gd', 'NA', 'Fa', 'Po'], dtype=object)"
      ]
     },
     "execution_count": 661,
     "metadata": {},
     "output_type": "execute_result"
    }
   ],
   "source": [
    "print(df['BsmtCond'].unique())\n",
    "df['BsmtCond']=df['BsmtCond'].fillna('NA')\n",
    "df['BsmtCond'].unique()"
   ]
  },
  {
   "cell_type": "code",
   "execution_count": 662,
   "metadata": {},
   "outputs": [
    {
     "name": "stdout",
     "output_type": "stream",
     "text": [
      "['No' 'Gd' 'Mn' 'Av' nan]\n"
     ]
    },
    {
     "data": {
      "text/plain": [
       "array(['No', 'Gd', 'Mn', 'Av', 'NA'], dtype=object)"
      ]
     },
     "execution_count": 662,
     "metadata": {},
     "output_type": "execute_result"
    }
   ],
   "source": [
    "print(df['BsmtExposure'].unique())\n",
    "df['BsmtExposure']=df['BsmtExposure'].fillna('NA')\n",
    "df['BsmtExposure'].unique()"
   ]
  },
  {
   "cell_type": "code",
   "execution_count": 663,
   "metadata": {},
   "outputs": [
    {
     "name": "stdout",
     "output_type": "stream",
     "text": [
      "['GLQ' 'ALQ' 'Unf' 'Rec' 'BLQ' nan 'LwQ']\n"
     ]
    },
    {
     "data": {
      "text/plain": [
       "array(['GLQ', 'ALQ', 'Unf', 'Rec', 'BLQ', 'NA', 'LwQ'], dtype=object)"
      ]
     },
     "execution_count": 663,
     "metadata": {},
     "output_type": "execute_result"
    }
   ],
   "source": [
    "print(df['BsmtFinType1'].unique())\n",
    "df['BsmtFinType1']=df['BsmtFinType1'].fillna('NA')\n",
    "df['BsmtFinType1'].unique()"
   ]
  },
  {
   "cell_type": "code",
   "execution_count": 664,
   "metadata": {},
   "outputs": [
    {
     "name": "stdout",
     "output_type": "stream",
     "text": [
      "['Unf' 'BLQ' nan 'ALQ' 'Rec' 'LwQ' 'GLQ']\n"
     ]
    },
    {
     "data": {
      "text/plain": [
       "array(['Unf', 'BLQ', 'NA', 'ALQ', 'Rec', 'LwQ', 'GLQ'], dtype=object)"
      ]
     },
     "execution_count": 664,
     "metadata": {},
     "output_type": "execute_result"
    }
   ],
   "source": [
    "print(df['BsmtFinType2'].unique())\n",
    "df['BsmtFinType2']=df['BsmtFinType2'].fillna('NA')\n",
    "df['BsmtFinType2'].unique()"
   ]
  },
  {
   "cell_type": "code",
   "execution_count": 665,
   "metadata": {
    "collapsed": true
   },
   "outputs": [],
   "source": [
    "df['Electrical'].mode().iloc[0]\n",
    "df['Electrical']=df['Electrical'].fillna(df['Electrical'].mode().iloc[0])"
   ]
  },
  {
   "cell_type": "code",
   "execution_count": 666,
   "metadata": {},
   "outputs": [
    {
     "name": "stdout",
     "output_type": "stream",
     "text": [
      "[nan 'TA' 'Gd' 'Fa' 'Ex' 'Po']\n"
     ]
    },
    {
     "data": {
      "text/plain": [
       "array(['NA', 'TA', 'Gd', 'Fa', 'Ex', 'Po'], dtype=object)"
      ]
     },
     "execution_count": 666,
     "metadata": {},
     "output_type": "execute_result"
    }
   ],
   "source": [
    "print(df['FireplaceQu'].unique())\n",
    "df['FireplaceQu']=df['FireplaceQu'].fillna('NA')\n",
    "df['FireplaceQu'].unique()"
   ]
  },
  {
   "cell_type": "code",
   "execution_count": 667,
   "metadata": {},
   "outputs": [
    {
     "name": "stdout",
     "output_type": "stream",
     "text": [
      "['Attchd' 'Detchd' 'BuiltIn' 'CarPort' nan 'Basment' '2Types']\n"
     ]
    },
    {
     "data": {
      "text/plain": [
       "array(['Attchd', 'Detchd', 'BuiltIn', 'CarPort', 'NA', 'Basment', '2Types'], dtype=object)"
      ]
     },
     "execution_count": 667,
     "metadata": {},
     "output_type": "execute_result"
    }
   ],
   "source": [
    "print(df['GarageType'].unique())\n",
    "df['GarageType']=df['GarageType'].fillna('NA')\n",
    "df['GarageType'].unique()"
   ]
  },
  {
   "cell_type": "code",
   "execution_count": 668,
   "metadata": {},
   "outputs": [
    {
     "name": "stdout",
     "output_type": "stream",
     "text": [
      "[ 2003.  1976.  2001.  1998.  2000.  1993.  2004.  1973.  1931.  1939.\n",
      "  1965.  2005.  1962.  2006.  1960.  1991.  1970.  1967.  1958.  1930.\n",
      "  2002.  1968.  2007.  2008.  1957.  1920.  1966.  1959.  1995.  1954.\n",
      "  1953.    nan  1983.  1977.  1997.  1985.  1963.  1981.  1964.  1999.\n",
      "  1935.  1990.  1945.  1987.  1989.  1915.  1956.  1948.  1974.  2009.\n",
      "  1950.  1961.  1921.  1900.  1979.  1951.  1969.  1936.  1975.  1971.\n",
      "  1923.  1984.  1926.  1955.  1986.  1988.  1916.  1932.  1972.  1918.\n",
      "  1980.  1924.  1996.  1940.  1949.  1994.  1910.  1978.  1982.  1992.\n",
      "  1925.  1941.  2010.  1927.  1947.  1937.  1942.  1938.  1952.  1928.\n",
      "  1922.  1934.  1906.  1914.  1946.  1908.  1929.  1933.]\n"
     ]
    },
    {
     "data": {
      "text/plain": [
       "array([ 2003.,  1976.,  2001.,  1998.,  2000.,  1993.,  2004.,  1973.,\n",
       "        1931.,  1939.,  1965.,  2005.,  1962.,  2006.,  1960.,  1991.,\n",
       "        1970.,  1967.,  1958.,  1930.,  2002.,  1968.,  2007.,  2008.,\n",
       "        1957.,  1920.,  1966.,  1959.,  1995.,  1954.,  1953.,     0.,\n",
       "        1983.,  1977.,  1997.,  1985.,  1963.,  1981.,  1964.,  1999.,\n",
       "        1935.,  1990.,  1945.,  1987.,  1989.,  1915.,  1956.,  1948.,\n",
       "        1974.,  2009.,  1950.,  1961.,  1921.,  1900.,  1979.,  1951.,\n",
       "        1969.,  1936.,  1975.,  1971.,  1923.,  1984.,  1926.,  1955.,\n",
       "        1986.,  1988.,  1916.,  1932.,  1972.,  1918.,  1980.,  1924.,\n",
       "        1996.,  1940.,  1949.,  1994.,  1910.,  1978.,  1982.,  1992.,\n",
       "        1925.,  1941.,  2010.,  1927.,  1947.,  1937.,  1942.,  1938.,\n",
       "        1952.,  1928.,  1922.,  1934.,  1906.,  1914.,  1946.,  1908.,\n",
       "        1929.,  1933.])"
      ]
     },
     "execution_count": 668,
     "metadata": {},
     "output_type": "execute_result"
    }
   ],
   "source": [
    "#where GarageYrBlt is missing, set it as YearRemodAdd\n",
    "print(df['GarageYrBlt'].unique())\n",
    "#df['GarageYrBlt']=df['GarageYrBlt'].fillna(df['YearRemodAdd'])\n",
    "df.loc[(df['GarageYrBlt'].isnull()) & (df['GarageType']!='NA'),'GarageYrBlt']=df['YearRemodAdd']\n",
    "df.loc[(df['GarageYrBlt'].isnull()) & (df['GarageType']=='NA'),'GarageYrBlt']=0\n",
    "#df['GarageYrBlt'].unique()\n",
    "df[['YearBuilt','GarageYrBlt','YearRemodAdd']]\n",
    "df['GarageYrBlt'].unique()"
   ]
  },
  {
   "cell_type": "code",
   "execution_count": 669,
   "metadata": {},
   "outputs": [
    {
     "name": "stdout",
     "output_type": "stream",
     "text": [
      "['RFn' 'Unf' 'Fin' nan]\n"
     ]
    },
    {
     "data": {
      "text/plain": [
       "array(['RFn', 'Unf', 'Fin', 'NA'], dtype=object)"
      ]
     },
     "execution_count": 669,
     "metadata": {},
     "output_type": "execute_result"
    }
   ],
   "source": [
    "print(df['GarageFinish'].unique())\n",
    "df['GarageFinish']=df['GarageFinish'].fillna('NA')\n",
    "df['GarageFinish'].unique()"
   ]
  },
  {
   "cell_type": "code",
   "execution_count": 670,
   "metadata": {},
   "outputs": [
    {
     "name": "stdout",
     "output_type": "stream",
     "text": [
      "['TA' 'Fa' 'Gd' nan 'Ex' 'Po']\n"
     ]
    },
    {
     "data": {
      "text/plain": [
       "array(['TA', 'Fa', 'Gd', 'NA', 'Ex', 'Po'], dtype=object)"
      ]
     },
     "execution_count": 670,
     "metadata": {},
     "output_type": "execute_result"
    }
   ],
   "source": [
    "print(df['GarageQual'].unique())\n",
    "df['GarageQual']=df['GarageQual'].fillna('NA')\n",
    "df['GarageQual'].unique()"
   ]
  },
  {
   "cell_type": "code",
   "execution_count": 671,
   "metadata": {},
   "outputs": [
    {
     "name": "stdout",
     "output_type": "stream",
     "text": [
      "['TA' 'Fa' nan 'Gd' 'Po' 'Ex']\n"
     ]
    },
    {
     "data": {
      "text/plain": [
       "array(['TA', 'Fa', 'NA', 'Gd', 'Po', 'Ex'], dtype=object)"
      ]
     },
     "execution_count": 671,
     "metadata": {},
     "output_type": "execute_result"
    }
   ],
   "source": [
    "print(df['GarageCond'].unique())\n",
    "df['GarageCond']=df['GarageCond'].fillna('NA')\n",
    "df['GarageCond'].unique()"
   ]
  },
  {
   "cell_type": "code",
   "execution_count": 672,
   "metadata": {},
   "outputs": [
    {
     "name": "stdout",
     "output_type": "stream",
     "text": [
      "[nan 'Ex' 'Fa' 'Gd']\n"
     ]
    },
    {
     "data": {
      "text/plain": [
       "array(['NA', 'Ex', 'Fa', 'Gd'], dtype=object)"
      ]
     },
     "execution_count": 672,
     "metadata": {},
     "output_type": "execute_result"
    }
   ],
   "source": [
    "\n",
    "print(df['PoolQC'].unique())\n",
    "df['PoolQC']=df['PoolQC'].fillna('NA')\n",
    "df['PoolQC'].unique()"
   ]
  },
  {
   "cell_type": "code",
   "execution_count": 673,
   "metadata": {},
   "outputs": [
    {
     "name": "stdout",
     "output_type": "stream",
     "text": [
      "[nan 'MnPrv' 'GdWo' 'GdPrv' 'MnWw']\n"
     ]
    },
    {
     "data": {
      "text/plain": [
       "array(['NA', 'MnPrv', 'GdWo', 'GdPrv', 'MnWw'], dtype=object)"
      ]
     },
     "execution_count": 673,
     "metadata": {},
     "output_type": "execute_result"
    }
   ],
   "source": [
    "print(df['Fence'].unique())\n",
    "df['Fence']=df['Fence'].fillna('NA')\n",
    "df['Fence'].unique()"
   ]
  },
  {
   "cell_type": "code",
   "execution_count": 674,
   "metadata": {},
   "outputs": [
    {
     "name": "stdout",
     "output_type": "stream",
     "text": [
      "[nan 'Shed' 'Gar2' 'Othr' 'TenC']\n"
     ]
    },
    {
     "data": {
      "text/plain": [
       "array(['NA', 'Shed', 'Gar2', 'Othr', 'TenC'], dtype=object)"
      ]
     },
     "execution_count": 674,
     "metadata": {},
     "output_type": "execute_result"
    }
   ],
   "source": [
    "print(df['MiscFeature'].unique())\n",
    "df['MiscFeature']=df['MiscFeature'].fillna('NA')\n",
    "df['MiscFeature'].unique()"
   ]
  },
  {
   "cell_type": "code",
   "execution_count": 675,
   "metadata": {},
   "outputs": [],
   "source": [
    "\n",
    "df['CentralAir_0']=df.apply(lambda x: 1 if x['CentralAir']=='Yes' else 0, axis =1)\n",
    "df.drop('CentralAir', axis =1 , inplace=True)"
   ]
  },
  {
   "cell_type": "code",
   "execution_count": 676,
   "metadata": {},
   "outputs": [
    {
     "data": {
      "text/html": [
       "<div>\n",
       "<style>\n",
       "    .dataframe thead tr:only-child th {\n",
       "        text-align: right;\n",
       "    }\n",
       "\n",
       "    .dataframe thead th {\n",
       "        text-align: left;\n",
       "    }\n",
       "\n",
       "    .dataframe tbody tr th {\n",
       "        vertical-align: top;\n",
       "    }\n",
       "</style>\n",
       "<table border=\"1\" class=\"dataframe\">\n",
       "  <thead>\n",
       "    <tr style=\"text-align: right;\">\n",
       "      <th></th>\n",
       "      <th>Garage</th>\n",
       "      <th>GarageCars</th>\n",
       "      <th>GarageArea</th>\n",
       "    </tr>\n",
       "  </thead>\n",
       "  <tbody>\n",
       "    <tr>\n",
       "      <th>0</th>\n",
       "      <td>7.000334</td>\n",
       "      <td>2</td>\n",
       "      <td>548</td>\n",
       "    </tr>\n",
       "    <tr>\n",
       "      <th>1</th>\n",
       "      <td>6.825460</td>\n",
       "      <td>2</td>\n",
       "      <td>460</td>\n",
       "    </tr>\n",
       "    <tr>\n",
       "      <th>2</th>\n",
       "      <td>7.104144</td>\n",
       "      <td>2</td>\n",
       "      <td>608</td>\n",
       "    </tr>\n",
       "    <tr>\n",
       "      <th>3</th>\n",
       "      <td>7.563720</td>\n",
       "      <td>3</td>\n",
       "      <td>642</td>\n",
       "    </tr>\n",
       "    <tr>\n",
       "      <th>4</th>\n",
       "      <td>7.827640</td>\n",
       "      <td>3</td>\n",
       "      <td>836</td>\n",
       "    </tr>\n",
       "  </tbody>\n",
       "</table>\n",
       "</div>"
      ],
      "text/plain": [
       "     Garage  GarageCars  GarageArea\n",
       "0  7.000334           2         548\n",
       "1  6.825460           2         460\n",
       "2  7.104144           2         608\n",
       "3  7.563720           3         642\n",
       "4  7.827640           3         836"
      ]
     },
     "execution_count": 676,
     "metadata": {},
     "output_type": "execute_result"
    }
   ],
   "source": [
    "df['Garage'] = df.apply(lambda x: np.log(x['GarageCars']*x['GarageArea']+1), axis=1)\n",
    "df.head()[['Garage','GarageCars','GarageArea']]"
   ]
  },
  {
   "cell_type": "code",
   "execution_count": 677,
   "metadata": {},
   "outputs": [
    {
     "name": "stdout",
     "output_type": "stream",
     "text": [
      "0    GLQ\n",
      "1    ALQ\n",
      "2    GLQ\n",
      "3    ALQ\n",
      "4    GLQ\n",
      "Name: BsmtFinType1, dtype: object\n"
     ]
    }
   ],
   "source": [
    "df['isRemodAdd']=df.apply(lambda x: x['YearRemodAdd']>x['YearBuilt'], axis =1)\n",
    "#sns.lmplot(x='YearBuilt',y='SalePrice',data=df, hue = 'isRemodAdd',scatter_kws={'alpha':0.25})\n",
    "df['yrsOld'] = df.apply(lambda x: x['YrSold']-x['YearBuilt'], axis =1)\n",
    "#sns.lmplot(x='yrsOld',y='SalePrice',data=df, hue = 'isRemodAdd',scatter_kws={'alpha':0.25})\n",
    "df['RemodAddNumYrs'] = df.apply(lambda x: x['YrSold']-x['YearRemodAdd'], axis =1)\n",
    "print(df['BsmtFinType1'].head())\n",
    "df['numOfBsmt']= df.apply(lambda x: 1 if x['BsmtFinType1']!='NA' and x['BsmtFinType2']=='NA' else 2 if x['BsmtFinType1']!='NA' and x['BsmtFinType2']!='NA' else 0, axis = 1)\n",
    "df['TotalFinBsmtSF']=df.apply(lambda x: x['BsmtFinSF2']+x['BsmtFinSF1'], axis =1)\n",
    "df['TotalBathsAbvGrnd']=df.apply(lambda x: x['FullBath']+(x['HalfBath']/2), axis =1)\n",
    "df['TotalBathsBsmt']=df.apply(lambda x: x['BsmtFullBath']+(x['BsmtHalfBath']/2), axis =1)\n",
    "df['GarageYrsOld']=df.apply(lambda x: x['YrSold']-x['GarageYrBlt'], axis =1)\n",
    "df['TotalPorchArea']=df.apply(lambda x: x['WoodDeckSF']+x['OpenPorchSF']+x['EnclosedPorch']+x['3SsnPorch']+x['ScreenPorch'], axis =1)\n",
    "'Gd', 'TA', 'Ex', 'Fa'\n",
    "z = {'Ex': 5, 'Gd': 4, 'TA': 3, 'Fa':2, 'Po':1, 'NA': 0}\n",
    "z2 = {'Gd': 3, 'Av':2, 'Mn':1, 'NA': -1, 'No':0}\n",
    "z.keys()\n",
    "df['HeatingQuality']= df['HeatingQC'].map(z)\n",
    "\n",
    "df['ExterQuality'] = df['ExterQual'].map(z)\n",
    "\n",
    "df['KitchenQuality'] = df['KitchenQual'].map(z)\n",
    "#df['FireplaceQuality'] = df['FireplaceQu'].map(z)\n",
    "\n",
    "#df['GarageQuality'] = df['GarageQual'].map(z)\n",
    "\n",
    "#df['GarageCondition'] = df['GarageCond'].map(z)\n",
    "df['PoolQuality'] = df['PoolQC'].map(z)\n",
    "df['BsmtCondition'] = df['BsmtCond'].map(z)\n",
    "#df['GarageCondition'] = df['GarageCond'].map(z)\n",
    "df['BsmtExposureMapped'] = df['BsmtExposure'].map(z2)\n",
    "#df['BsmtExposure'].unique()\n",
    "#df['ExterCondition'] = df['ExterCond'].map(z)\n",
    "#df.drop('OverallQualcond', axis = 1, inplace=True)\n",
    "#df['OverallQualcond']=df.apply(lambda x: (x['OverallQual']+x['OverallCond'])/2, axis =1)\n",
    "#df['NumOfFloors']=df.apply(lambda x: 1 if x['2ndFlrSF']==0 else 2, axis =1)\n",
    "#df[(df['BsmtFinType1']=='NA') &((df['BsmtFinType2']!='NA'))]\n",
    "#df[df['numOfBsmt']!=2][['numOfBsmt','BsmtFinType1','BsmtFinType2']]\n",
    "#plt.scatter()"
   ]
  },
  {
   "cell_type": "code",
   "execution_count": 678,
   "metadata": {
    "collapsed": true
   },
   "outputs": [],
   "source": [
    "df['GarageCondition'] = df['GarageCond'].map(z)\n",
    "df.drop(['GarageCond'],axis = 1, inplace=True)"
   ]
  },
  {
   "cell_type": "code",
   "execution_count": 679,
   "metadata": {
    "collapsed": true
   },
   "outputs": [],
   "source": [
    "df.drop(['BsmtExposure'],axis = 1, inplace=True)\n",
    "#df.drop(['KitchenQual','HeatingQC','ExterQual'],axis = 1, inplace=True)\n",
    "#df.drop(['FireplaceQu','GarageQual'],axis = 1, inplace=True)\n",
    "#df.drop(['GarageCond'],axis = 1, inplace=True)\n",
    "#df.drop(['PoolQC'],axis = 1, inplace=True)\n",
    "#df.drop(['ExterCond'],axis = 1, inplace=True)\n",
    "#df.drop(['ExterCond'],axis = 1, inplace=True)\n",
    "#df.drop(['BsmtCondition'],axis = 1, inplace=True)\n",
    "df.drop(['MiscVal'],axis = 1, inplace=True)\n"
   ]
  },
  {
   "cell_type": "code",
   "execution_count": 680,
   "metadata": {},
   "outputs": [
    {
     "data": {
      "text/plain": [
       "Index(['Id', 'MSSubClass', 'MSZoning', 'LotFrontage', 'LotArea', 'Street',\n",
       "       'Alley', 'LotShape', 'LandContour', 'Utilities', 'LotConfig',\n",
       "       'LandSlope', 'Neighborhood', 'Condition1', 'Condition2', 'BldgType',\n",
       "       'HouseStyle', 'OverallQual', 'OverallCond', 'YearBuilt', 'YearRemodAdd',\n",
       "       'RoofStyle', 'RoofMatl', 'Exterior1st', 'Exterior2nd', 'MasVnrType',\n",
       "       'MasVnrArea', 'ExterQual', 'ExterCond', 'Foundation', 'BsmtQual',\n",
       "       'BsmtCond', 'BsmtFinType1', 'BsmtFinSF1', 'BsmtFinType2', 'BsmtFinSF2',\n",
       "       'BsmtUnfSF', 'TotalBsmtSF', 'Heating', 'HeatingQC', 'Electrical',\n",
       "       '1stFlrSF', '2ndFlrSF', 'LowQualFinSF', 'GrLivArea', 'BsmtFullBath',\n",
       "       'BsmtHalfBath', 'FullBath', 'HalfBath', 'BedroomAbvGr', 'KitchenAbvGr',\n",
       "       'KitchenQual', 'TotRmsAbvGrd', 'Functional', 'Fireplaces',\n",
       "       'FireplaceQu', 'GarageType', 'GarageYrBlt', 'GarageFinish',\n",
       "       'GarageCars', 'GarageArea', 'GarageQual', 'PavedDrive', 'WoodDeckSF',\n",
       "       'OpenPorchSF', 'EnclosedPorch', '3SsnPorch', 'ScreenPorch', 'PoolArea',\n",
       "       'PoolQC', 'Fence', 'MiscFeature', 'MoSold', 'YrSold', 'SaleType',\n",
       "       'SaleCondition', 'SalePrice', 'CentralAir_0', 'Garage', 'isRemodAdd',\n",
       "       'yrsOld', 'RemodAddNumYrs', 'numOfBsmt', 'TotalFinBsmtSF',\n",
       "       'TotalBathsAbvGrnd', 'TotalBathsBsmt', 'GarageYrsOld', 'TotalPorchArea',\n",
       "       'HeatingQuality', 'ExterQuality', 'KitchenQuality', 'PoolQuality',\n",
       "       'BsmtCondition', 'BsmtExposureMapped', 'GarageCondition'],\n",
       "      dtype='object')"
      ]
     },
     "execution_count": 680,
     "metadata": {},
     "output_type": "execute_result"
    }
   ],
   "source": [
    "SalePrice = df[['Id','SalePrice']]\n",
    "SalePrice[['Id','SalePrice']].iloc[0]\n",
    "df.columns"
   ]
  },
  {
   "cell_type": "code",
   "execution_count": null,
   "metadata": {
    "collapsed": true
   },
   "outputs": [],
   "source": []
  },
  {
   "cell_type": "code",
   "execution_count": 702,
   "metadata": {},
   "outputs": [
    {
     "name": "stdout",
     "output_type": "stream",
     "text": [
      "None\n"
     ]
    },
    {
     "data": {
      "text/plain": [
       "Index(['1stFlrSF', '2ndFlrSF', '3SsnPorch', 'BedroomAbvGr', 'BsmtCondition',\n",
       "       'BsmtExposureMapped', 'BsmtFinSF1', 'BsmtFinSF2', 'BsmtFullBath',\n",
       "       'BsmtHalfBath', 'BsmtUnfSF', 'CentralAir_0', 'EnclosedPorch',\n",
       "       'ExterQuality', 'Fireplaces', 'FullBath', 'Garage', 'GarageArea',\n",
       "       'GarageCars', 'GarageCondition', 'GarageYrsOld', 'GrLivArea',\n",
       "       'HalfBath', 'HeatingQuality', 'Id', 'KitchenAbvGr', 'KitchenQuality',\n",
       "       'LotArea', 'LotFrontage', 'LowQualFinSF', 'MasVnrArea', 'OpenPorchSF',\n",
       "       'OverallCond', 'OverallQual', 'PoolArea', 'PoolQuality',\n",
       "       'RemodAddNumYrs', 'SalePrice', 'ScreenPorch', 'TotRmsAbvGrd',\n",
       "       'TotalBathsAbvGrnd', 'TotalBathsBsmt', 'TotalBsmtSF', 'TotalFinBsmtSF',\n",
       "       'TotalPorchArea', 'WoodDeckSF', 'isRemodAdd', 'numOfBsmt', 'yrsOld'],\n",
       "      dtype='object')"
      ]
     },
     "execution_count": 702,
     "metadata": {},
     "output_type": "execute_result"
    }
   ],
   "source": [
    "#column_types = list()\n",
    "#for x in df.columns:\n",
    "#    column_types.append((x,type(df[x].iloc[0])))\n",
    "column_types=[(x,type(df[x].iloc[0])) for x in df.columns]\n",
    "cat_columns = [x for (x,coltype) in column_types if coltype==str]\n",
    "numerical_columns = df.columns.difference(cat_columns)\n",
    "date_columns = ['YearRemodAdd', 'YrSold' , 'YearBuilt', 'MoSold', 'GarageYrBlt']\n",
    "len(df.columns) - (len(cat_columns)+len(numerical_columns))\n",
    "numerical_columns = numerical_columns.difference(['MSSubClass'])\n",
    "cat_columns = cat_columns.append('MSSubClass')\n",
    "numerical_columns.difference(date_columns)\n",
    "print(['Id','SalePrice'].append(date_columns))\n",
    "cols_normalize = numerical_columns.difference(date_columns)\n",
    "cols_normalize"
   ]
  },
  {
   "cell_type": "code",
   "execution_count": null,
   "metadata": {
    "collapsed": true
   },
   "outputs": [],
   "source": []
  },
  {
   "cell_type": "code",
   "execution_count": 714,
   "metadata": {},
   "outputs": [
    {
     "data": {
      "text/plain": [
       "Series([], Name: SalePrice, dtype: int64)"
      ]
     },
     "execution_count": 714,
     "metadata": {},
     "output_type": "execute_result"
    }
   ],
   "source": [
    "from sklearn.preprocessing import StandardScaler\n",
    "scaler  = StandardScaler()\n",
    "scaler.fit(df[cols_normalize].drop(['Id','SalePrice'], axis =1))\n",
    "dff_n = df.copy()\n",
    "#dff_n[cols_normalize.difference(['Id','SalePrice'])] = pd.DataFrame(scaler.transform(df[cols_normalize].drop(['Id','SalePrice'], axis =1)), columns= cols_normalize.difference(['Id','SalePrice']))\n",
    "dff_n[cols_normalize.difference(['Id','SalePrice'])] = scaler.transform(df[cols_normalize].drop(['Id','SalePrice'], axis =1))\n",
    "#dff_n[cols_normalize.difference(['Id','SalePrice'])] =scaler.transform(df[cols_normalize].drop(['Id','SalePrice'], axis =1))\n",
    "#dff_n = pd.concat(dff_n.append(SalePrice)\n",
    "#dff_n[['Id','SalePrice']].merge(SalePrice)\n",
    "dff_n[['Id','SalePrice']] = SalePrice\n",
    "dff_n.head()\n",
    "\n",
    "dff.loc[(df['SalePrice']<1),'SalePrice']"
   ]
  },
  {
   "cell_type": "code",
   "execution_count": null,
   "metadata": {},
   "outputs": [],
   "source": []
  },
  {
   "cell_type": "code",
   "execution_count": null,
   "metadata": {},
   "outputs": [],
   "source": []
  },
  {
   "cell_type": "code",
   "execution_count": 719,
   "metadata": {
    "collapsed": true,
    "scrolled": true
   },
   "outputs": [],
   "source": [
    "#dff=pd.get_dummies(dff_n.drop(['BsmtCond'],axis=1))\n",
    "dff=pd.get_dummies(dff_n.drop(['numOfBsmt','BsmtUnfSF', 'HalfBath', 'FullBath', 'BsmtFullBath', 'BsmtHalfBath'],axis=1))\n",
    "#dff['MSSubClass']=pd.get_dummies(dff['MSSubClass'])\n",
    "#dff=dff.copy()"
   ]
  },
  {
   "cell_type": "code",
   "execution_count": 720,
   "metadata": {
    "collapsed": true
   },
   "outputs": [],
   "source": [
    "dff = dff.merge(pd.get_dummies(dff['MSSubClass'], prefix='MSSubClass'), on = df.index.values)\n",
    "dff.index.values\n",
    "dff.drop('MSSubClass', axis = 1, inplace=True)\n"
   ]
  },
  {
   "cell_type": "code",
   "execution_count": 721,
   "metadata": {
    "collapsed": true
   },
   "outputs": [],
   "source": [
    "from sklearn.model_selection import train_test_split\n",
    "dff_train = dff.drop(['GarageCars','GarageArea', 'Id', 'SalePrice','YearRemodAdd','YearBuilt', 'WoodDeckSF','OpenPorchSF','EnclosedPorch','3SsnPorch','ScreenPorch'], axis =1)\n",
    "X_train, X_test, y_train, y_test = train_test_split(dff_train, dff['SalePrice'], test_size=0.3, random_state=101)\n",
    "y_train = np.log1p(y_train)"
   ]
  },
  {
   "cell_type": "code",
   "execution_count": 722,
   "metadata": {},
   "outputs": [
    {
     "data": {
      "text/plain": [
       "6"
      ]
     },
     "execution_count": 722,
     "metadata": {},
     "output_type": "execute_result"
    }
   ],
   "source": [
    "from sklearn.ensemble import RandomForestRegressor\n",
    "from collections import Counter\n",
    "rf = RandomForestRegressor(random_state=101)\n",
    "rf.fit(X_train,y_train)\n",
    "scores =sorted(list(zip(map(lambda x: round(x, 4), rf.feature_importances_),X_train.columns)),reverse=True)\n",
    "c =Counter([y.partition('_')[0] for (x,y) in scores])\n",
    "c['Heating']"
   ]
  },
  {
   "cell_type": "code",
   "execution_count": 723,
   "metadata": {},
   "outputs": [
    {
     "data": {
      "text/plain": [
       "0.16724660564231492"
      ]
     },
     "execution_count": 723,
     "metadata": {},
     "output_type": "execute_result"
    }
   ],
   "source": [
    "from sklearn.metrics import mean_squared_log_error\n",
    "from math import sqrt\n",
    "pred = rf.predict(X_test)\n",
    "pred = np.expm1(pred)\n",
    "rmse = sqrt(mean_squared_log_error(y_test, pred))\n",
    "rmse"
   ]
  },
  {
   "cell_type": "code",
   "execution_count": 725,
   "metadata": {},
   "outputs": [
    {
     "data": {
      "text/plain": [
       "0.13475150697249688"
      ]
     },
     "execution_count": 725,
     "metadata": {},
     "output_type": "execute_result"
    }
   ],
   "source": [
    "from xgboost.sklearn import XGBRegressor\n",
    "\n",
    "xgb = XGBRegressor()\n",
    "bst = xgb.fit(X_train,y_train)\n",
    "preds = xgb.predict(X_test)\n",
    "preds = np.expm1(preds)\n",
    "rmse = sqrt(mean_squared_log_error(y_test, preds))\n",
    "rmse"
   ]
  },
  {
   "cell_type": "code",
   "execution_count": 729,
   "metadata": {},
   "outputs": [
    {
     "data": {
      "text/plain": [
       "0.13475150697249688"
      ]
     },
     "execution_count": 729,
     "metadata": {},
     "output_type": "execute_result"
    }
   ],
   "source": [
    "from xgboost.sklearn import XGBRegressor\n",
    "\n",
    "xgb = XGBRegressor()\n",
    "bst = xgb.fit(X_train,y_train)\n",
    "preds = xgb.predict(X_test)\n",
    "preds = np.expm1(preds)\n",
    "rmse = sqrt(mean_squared_log_error(y_test, preds))\n",
    "rmse"
   ]
  },
  {
   "cell_type": "code",
   "execution_count": null,
   "metadata": {
    "collapsed": true
   },
   "outputs": [],
   "source": [
    "submission = pd.DataFrame({\n",
    "        \"Id\": X_test[\"Id\"],\n",
    "        \"Label\": pred\n",
    "    })"
   ]
  },
  {
   "cell_type": "code",
   "execution_count": 726,
   "metadata": {},
   "outputs": [
    {
     "name": "stdout",
     "output_type": "stream",
     "text": [
      "<class 'list'>\n"
     ]
    }
   ],
   "source": [
    "import operator\n",
    "def getscores(scores):\n",
    "    score = dict()\n",
    "    for row in scores:\n",
    "        name = row[1]\n",
    "        name = name.partition('_')[0]\n",
    "        if name in score.keys():\n",
    "            score[name]=score[name]+row[0]\n",
    "        else:\n",
    "            score[name]=row[0]\n",
    "    \n",
    "    for k, v in score.items():\n",
    "        score[k]=score[k]/c[k]\n",
    "    sorted_x = sorted(score.items(), key=operator.itemgetter(1),reverse=True)\n",
    "    return sorted_x\n",
    "x = getscores(scores)            \n",
    "print(type(x))"
   ]
  },
  {
   "cell_type": "code",
   "execution_count": null,
   "metadata": {},
   "outputs": [],
   "source": []
  },
  {
   "cell_type": "code",
   "execution_count": 727,
   "metadata": {},
   "outputs": [
    {
     "data": {
      "text/plain": [
       "[('OverallQual', 0.56220000000000003),\n",
       " ('GrLivArea', 0.090999999999999998),\n",
       " ('Garage', 0.0809),\n",
       " ('TotalBsmtSF', 0.0465),\n",
       " ('TotalFinBsmtSF', 0.0264),\n",
       " ('LotArea', 0.0172),\n",
       " ('1stFlrSF', 0.016199999999999999),\n",
       " ('OverallCond', 0.010999999999999999),\n",
       " ('BsmtFinSF1', 0.0101),\n",
       " ('RemodAddNumYrs', 0.0094999999999999998),\n",
       " ('yrsOld', 0.0089999999999999993),\n",
       " ('GarageYrsOld', 0.0071999999999999998),\n",
       " ('TotalPorchArea', 0.0061000000000000004),\n",
       " ('GarageYrBlt', 0.0057999999999999996),\n",
       " ('MasVnrArea', 0.0043),\n",
       " ('key', 0.0038999999999999998),\n",
       " ('2ndFlrSF', 0.0035999999999999999),\n",
       " ('LotFrontage', 0.0035000000000000001),\n",
       " ('MoSold', 0.0032000000000000002),\n",
       " ('TotRmsAbvGrd', 0.0030999999999999999),\n",
       " ('TotalBathsAbvGrnd', 0.0030000000000000001),\n",
       " ('BedroomAbvGr', 0.0025000000000000001),\n",
       " ('TotalBathsBsmt', 0.002),\n",
       " ('BsmtExposureMapped', 0.0019),\n",
       " ('YrSold', 0.0014),\n",
       " ('GarageFinish', 0.0013500000000000001),\n",
       " ('BsmtCondition', 0.0012999999999999999),\n",
       " ('GarageType', 0.0011142857142857141),\n",
       " ('FireplaceQu', 0.0010333333333333334),\n",
       " ('MSZoning', 0.001),\n",
       " ('KitchenQuality', 0.001),\n",
       " ('ExterQuality', 0.00080000000000000004),\n",
       " ('Alley', 0.00069999999999999999),\n",
       " ('Fireplaces', 0.00059999999999999995),\n",
       " ('ExterCond', 0.00056000000000000006),\n",
       " ('KitchenQual', 0.00050000000000000001),\n",
       " ('BsmtQual', 0.00050000000000000001),\n",
       " ('MSSubClass', 0.00038000000000000002),\n",
       " ('PavedDrive', 0.00033333333333333332),\n",
       " ('LotShape', 0.00032499999999999999),\n",
       " ('HeatingQuality', 0.00029999999999999997),\n",
       " ('Functional', 0.00027142857142857144),\n",
       " ('SaleCondition', 0.00026666666666666668),\n",
       " ('HeatingQC', 0.00025999999999999998),\n",
       " ('BsmtFinType1', 0.00022857142857142862),\n",
       " ('isRemodAdd', 0.00020000000000000001),\n",
       " ('BsmtFinSF2', 0.00020000000000000001),\n",
       " ('LotConfig', 0.00017999999999999998),\n",
       " ('Exterior2nd', 0.00013749999999999998),\n",
       " ('LandContour', 0.000125),\n",
       " ('Fence', 0.00012000000000000002),\n",
       " ('BsmtCond', 0.00011999999999999999),\n",
       " ('Neighborhood', 0.00011999999999999996),\n",
       " ('SaleType', 0.00011111111111111112),\n",
       " ('HouseStyle', 0.00010000000000000002),\n",
       " ('Foundation', 0.0001),\n",
       " ('MasVnrType', 9.9999999999999991e-05),\n",
       " ('LandSlope', 9.9999999999999991e-05),\n",
       " ('GarageQual', 8.3333333333333331e-05),\n",
       " ('Condition1', 7.7777777777777782e-05),\n",
       " ('ExterQual', 7.5000000000000007e-05),\n",
       " ('Exterior1st', 7.3333333333333331e-05),\n",
       " ('RoofStyle', 6.6666666666666656e-05),\n",
       " ('Utilities', 5.0000000000000002e-05),\n",
       " ('Heating', 4.9999999999999996e-05),\n",
       " ('BldgType', 4.0000000000000003e-05),\n",
       " ('BsmtFinType2', 2.8571428571428574e-05),\n",
       " ('Condition2', 2.5000000000000001e-05),\n",
       " ('Electrical', 2.0000000000000002e-05),\n",
       " ('Street', 0.0),\n",
       " ('RoofMatl', 0.0),\n",
       " ('PoolQuality', 0.0),\n",
       " ('PoolQC', 0.0),\n",
       " ('PoolArea', 0.0),\n",
       " ('MiscFeature', 0.0),\n",
       " ('LowQualFinSF', 0.0),\n",
       " ('KitchenAbvGr', 0.0),\n",
       " ('GarageCondition', 0.0),\n",
       " ('CentralAir', 0.0)]"
      ]
     },
     "execution_count": 727,
     "metadata": {},
     "output_type": "execute_result"
    }
   ],
   "source": [
    "x"
   ]
  },
  {
   "cell_type": "code",
   "execution_count": 728,
   "metadata": {},
   "outputs": [
    {
     "name": "stderr",
     "output_type": "stream",
     "text": [
      "c:\\users\\ankur\\appdata\\local\\programs\\python\\python36\\lib\\site-packages\\sklearn\\feature_selection\\univariate_selection.py:298: RuntimeWarning: invalid value encountered in true_divide\n",
      "  corr /= X_norms\n",
      "c:\\users\\ankur\\appdata\\local\\programs\\python\\python36\\lib\\site-packages\\scipy\\stats\\_distn_infrastructure.py:879: RuntimeWarning: invalid value encountered in greater\n",
      "  return (self.a < x) & (x < self.b)\n",
      "c:\\users\\ankur\\appdata\\local\\programs\\python\\python36\\lib\\site-packages\\scipy\\stats\\_distn_infrastructure.py:879: RuntimeWarning: invalid value encountered in less\n",
      "  return (self.a < x) & (x < self.b)\n",
      "c:\\users\\ankur\\appdata\\local\\programs\\python\\python36\\lib\\site-packages\\scipy\\stats\\_distn_infrastructure.py:1818: RuntimeWarning: invalid value encountered in less_equal\n",
      "  cond2 = cond0 & (x <= self.a)\n"
     ]
    },
    {
     "data": {
      "text/plain": [
       "[('OverallQual', 2196.8591999999999),\n",
       " ('GrLivArea', 1045.1883),\n",
       " ('CentralAir', nan),\n",
       " ('ExterQuality', 973.05769999999995),\n",
       " ('KitchenQuality', 876.07399999999996),\n",
       " ('TotalBsmtSF', 748.31799999999998),\n",
       " ('TotalBathsAbvGrnd', 713.11540000000002),\n",
       " ('1stFlrSF', 629.20320000000004),\n",
       " ('yrsOld', 616.20820000000003),\n",
       " ('RemodAddNumYrs', 487.31920000000002),\n",
       " ('Garage', 411.42340000000002),\n",
       " ('TotRmsAbvGrd', 394.1343),\n",
       " ('Fireplaces', 324.58670000000001),\n",
       " ('ExterQual', 300.56522500000005),\n",
       " ('HeatingQC', nan),\n",
       " ('HeatingQuality', 292.26900000000001),\n",
       " ('MasVnrArea', 249.80950000000001),\n",
       " ('KitchenQual', 235.34170000000003),\n",
       " ('TotalPorchArea', 201.83459999999999),\n",
       " ('BsmtFinSF1', 186.1086),\n",
       " ('BsmtQual', 166.91619999999998),\n",
       " ('TotalFinBsmtSF', 165.57390000000001),\n",
       " ('BsmtExposureMapped', 155.53880000000001),\n",
       " ('GarageCondition', 129.6146),\n",
       " ('GarageYrsOld', 126.2702),\n",
       " ('GarageYrBlt', 126.1292),\n",
       " ('2ndFlrSF', 111.5547),\n",
       " ('Foundation', 110.91566666666667),\n",
       " ('LotArea', 96.501999999999995),\n",
       " ('MasVnrType', 93.478274999999996),\n",
       " ('BsmtCondition', 73.573400000000007),\n",
       " ('TotalBathsBsmt', 63.057000000000002),\n",
       " ('MSZoning', 58.666560000000004),\n",
       " ('BsmtFinType1', 53.425299999999993),\n",
       " ('LotShape', 45.023700000000005),\n",
       " ('BedroomAbvGr', 37.854999999999997),\n",
       " ('Neighborhood', 27.290816000000003),\n",
       " ('HouseStyle', 17.966287500000004),\n",
       " ('Exterior2nd', 17.004049999999999),\n",
       " ('RoofMatl', nan),\n",
       " ('Exterior1st', nan),\n",
       " ('Functional', nan),\n",
       " ('GarageFinish', 176.17254999999997),\n",
       " ('FireplaceQu', 101.43005000000001),\n",
       " ('GarageType', 85.526399999999995),\n",
       " ('PavedDrive', 58.883299999999998),\n",
       " ('GarageQual', 42.205633333333331),\n",
       " ('LotFrontage', 35.052399999999999),\n",
       " ('Electrical', 31.815460000000002),\n",
       " ('MSSubClass', 29.961680000000001),\n",
       " ('SaleCondition', 28.345116666666666),\n",
       " ('KitchenAbvGr', 23.2563),\n",
       " ('SaleType', 21.552888888888887),\n",
       " ('BsmtCond', 19.621599999999997),\n",
       " ('Fence', 16.234760000000001),\n",
       " ('Alley', 15.638166666666669),\n",
       " ('RoofStyle', 15.171683333333332),\n",
       " ('ExterCond', 11.58526),\n",
       " ('BldgType', 11.205360000000002),\n",
       " ('Heating', 9.9695499999999999),\n",
       " ('PoolQuality', 9.1155000000000008),\n",
       " ('BsmtFinType2', 8.9246142857142861),\n",
       " ('PoolArea', 6.5831999999999997),\n",
       " ('OverallCond', 6.5286999999999997),\n",
       " ('Condition1', 6.4422111111111118),\n",
       " ('LotConfig', 5.3838200000000001),\n",
       " ('LandContour', 5.0106000000000011),\n",
       " ('MoSold', 4.8103999999999996),\n",
       " ('PoolQC', 4.6622500000000002),\n",
       " ('MiscFeature', 4.1151),\n",
       " ('isRemodAdd', 4.0243000000000002),\n",
       " ('YrSold', 3.9792999999999998),\n",
       " ('Condition2', 2.4290875000000005),\n",
       " ('LowQualFinSF', 2.4161999999999999),\n",
       " ('Street', 1.4862),\n",
       " ('LandSlope', 1.2237333333333333),\n",
       " ('key', 0.26250000000000001),\n",
       " ('Utilities', 0.25059999999999999),\n",
       " ('BsmtFinSF2', 0.051299999999999998)]"
      ]
     },
     "execution_count": 728,
     "metadata": {},
     "output_type": "execute_result"
    }
   ],
   "source": [
    "from sklearn.feature_selection import SelectKBest\n",
    "from sklearn.feature_selection import f_regression\n",
    "selectkbest = SelectKBest(score_func=f_regression, k='all')\n",
    "fit = selectkbest.fit(X_train, y_train)\n",
    "scores_kbest =sorted(list(zip(map(lambda x: round(x, 4), fit.scores_),X_train.columns)),reverse=True)\n",
    "scores_kbest_n = getscores(scores_kbest)\n",
    "scores_kbest_n"
   ]
  },
  {
   "cell_type": "code",
   "execution_count": null,
   "metadata": {
    "collapsed": true
   },
   "outputs": [],
   "source": [
    "from sklearn.preprocessing import Normalizer\n",
    "normalizer  = Normalizer().fit(df[cols_normalize])\n",
    "dff_n = df.copy()\n",
    "dff_n[cols_normalize.difference(['Id','SalePrice'])] = pd.DataFrame(normalizer.transform(df[cols_normalize].drop(['Id','SalePrice'], axis =1)), columns= cols_normalize.difference(['Id','SalePrice']))\n",
    "#dff_n = pd.concat(dff_n.append(SalePrice)\n",
    "#dff_n[['Id','SalePrice']].merge(SalePrice)\n",
    "dff_n[['Id','SalePrice']] = SalePrice\n",
    "dff_n.head()"
   ]
  },
  {
   "cell_type": "code",
   "execution_count": null,
   "metadata": {
    "collapsed": true
   },
   "outputs": [],
   "source": []
  },
  {
   "cell_type": "code",
   "execution_count": null,
   "metadata": {
    "collapsed": true
   },
   "outputs": [],
   "source": []
  },
  {
   "cell_type": "code",
   "execution_count": null,
   "metadata": {
    "collapsed": true
   },
   "outputs": [],
   "source": []
  },
  {
   "cell_type": "code",
   "execution_count": null,
   "metadata": {
    "collapsed": true
   },
   "outputs": [],
   "source": []
  },
  {
   "cell_type": "code",
   "execution_count": null,
   "metadata": {
    "collapsed": true
   },
   "outputs": [],
   "source": []
  }
 ],
 "metadata": {
  "kernelspec": {
   "display_name": "Python 3",
   "language": "python",
   "name": "python3"
  },
  "language_info": {
   "codemirror_mode": {
    "name": "ipython",
    "version": 3
   },
   "file_extension": ".py",
   "mimetype": "text/x-python",
   "name": "python",
   "nbconvert_exporter": "python",
   "pygments_lexer": "ipython3",
   "version": "3.6.2"
  }
 },
 "nbformat": 4,
 "nbformat_minor": 2
}
