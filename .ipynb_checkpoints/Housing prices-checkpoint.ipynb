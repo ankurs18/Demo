{
 "cells": [
  {
   "cell_type": "code",
   "execution_count": 90,
   "metadata": {
    "scrolled": true
   },
   "outputs": [
    {
     "name": "stdout",
     "output_type": "stream",
     "text": [
      "<class 'pandas.core.frame.DataFrame'>\n",
      "RangeIndex: 1460 entries, 0 to 1459\n",
      "Data columns (total 81 columns):\n",
      "Id               1460 non-null int64\n",
      "MSSubClass       1460 non-null int64\n",
      "MSZoning         1460 non-null object\n",
      "LotFrontage      1201 non-null float64\n",
      "LotArea          1460 non-null int64\n",
      "Street           1460 non-null object\n",
      "Alley            91 non-null object\n",
      "LotShape         1460 non-null object\n",
      "LandContour      1460 non-null object\n",
      "Utilities        1460 non-null object\n",
      "LotConfig        1460 non-null object\n",
      "LandSlope        1460 non-null object\n",
      "Neighborhood     1460 non-null object\n",
      "Condition1       1460 non-null object\n",
      "Condition2       1460 non-null object\n",
      "BldgType         1460 non-null object\n",
      "HouseStyle       1460 non-null object\n",
      "OverallQual      1460 non-null int64\n",
      "OverallCond      1460 non-null int64\n",
      "YearBuilt        1460 non-null int64\n",
      "YearRemodAdd     1460 non-null int64\n",
      "RoofStyle        1460 non-null object\n",
      "RoofMatl         1460 non-null object\n",
      "Exterior1st      1460 non-null object\n",
      "Exterior2nd      1460 non-null object\n",
      "MasVnrType       1452 non-null object\n",
      "MasVnrArea       1452 non-null float64\n",
      "ExterQual        1460 non-null object\n",
      "ExterCond        1460 non-null object\n",
      "Foundation       1460 non-null object\n",
      "BsmtQual         1423 non-null object\n",
      "BsmtCond         1423 non-null object\n",
      "BsmtExposure     1422 non-null object\n",
      "BsmtFinType1     1423 non-null object\n",
      "BsmtFinSF1       1460 non-null int64\n",
      "BsmtFinType2     1422 non-null object\n",
      "BsmtFinSF2       1460 non-null int64\n",
      "BsmtUnfSF        1460 non-null int64\n",
      "TotalBsmtSF      1460 non-null int64\n",
      "Heating          1460 non-null object\n",
      "HeatingQC        1460 non-null object\n",
      "CentralAir       1460 non-null object\n",
      "Electrical       1459 non-null object\n",
      "1stFlrSF         1460 non-null int64\n",
      "2ndFlrSF         1460 non-null int64\n",
      "LowQualFinSF     1460 non-null int64\n",
      "GrLivArea        1460 non-null int64\n",
      "BsmtFullBath     1460 non-null int64\n",
      "BsmtHalfBath     1460 non-null int64\n",
      "FullBath         1460 non-null int64\n",
      "HalfBath         1460 non-null int64\n",
      "BedroomAbvGr     1460 non-null int64\n",
      "KitchenAbvGr     1460 non-null int64\n",
      "KitchenQual      1460 non-null object\n",
      "TotRmsAbvGrd     1460 non-null int64\n",
      "Functional       1460 non-null object\n",
      "Fireplaces       1460 non-null int64\n",
      "FireplaceQu      770 non-null object\n",
      "GarageType       1379 non-null object\n",
      "GarageYrBlt      1379 non-null float64\n",
      "GarageFinish     1379 non-null object\n",
      "GarageCars       1460 non-null int64\n",
      "GarageArea       1460 non-null int64\n",
      "GarageQual       1379 non-null object\n",
      "GarageCond       1379 non-null object\n",
      "PavedDrive       1460 non-null object\n",
      "WoodDeckSF       1460 non-null int64\n",
      "OpenPorchSF      1460 non-null int64\n",
      "EnclosedPorch    1460 non-null int64\n",
      "3SsnPorch        1460 non-null int64\n",
      "ScreenPorch      1460 non-null int64\n",
      "PoolArea         1460 non-null int64\n",
      "PoolQC           7 non-null object\n",
      "Fence            281 non-null object\n",
      "MiscFeature      54 non-null object\n",
      "MiscVal          1460 non-null int64\n",
      "MoSold           1460 non-null int64\n",
      "YrSold           1460 non-null int64\n",
      "SaleType         1460 non-null object\n",
      "SaleCondition    1460 non-null object\n",
      "SalePrice        1460 non-null int64\n",
      "dtypes: float64(3), int64(35), object(43)\n",
      "memory usage: 924.0+ KB\n"
     ]
    }
   ],
   "source": [
    "import pandas as pd\n",
    "import matplotlib.pyplot as plt\n",
    "import seaborn as sns\n",
    "import numpy as np\n",
    "%matplotlib inline\n",
    "\n",
    "df = pd.read_csv('train.csv')\n",
    "df.info()"
   ]
  },
  {
   "cell_type": "code",
   "execution_count": 91,
   "metadata": {},
   "outputs": [
    {
     "name": "stdout",
     "output_type": "stream",
     "text": [
      "864\n",
      "8\n",
      "861\n",
      "8\n"
     ]
    },
    {
     "data": {
      "text/plain": [
       "array(['Gd', 'TA', 'Ex', 'Fa'], dtype=object)"
      ]
     },
     "execution_count": 91,
     "metadata": {},
     "output_type": "execute_result"
    }
   ],
   "source": [
    "print(df[df['MasVnrType']=='None'].count()['Id'])\n",
    "print(df[df['MasVnrType'].isnull()].count()['Id'])\n",
    "print(df[df['MasVnrArea']==0].count()['Id'])\n",
    "print(df[df['MasVnrArea'].isnull()].count()['Id'])\n",
    "df['ExterQual'].unique()"
   ]
  },
  {
   "cell_type": "code",
   "execution_count": 92,
   "metadata": {
    "collapsed": true
   },
   "outputs": [],
   "source": [
    "#removing the misleading value of area 1\n",
    "df.loc[(df['MasVnrType']=='None') & (df['MasVnrArea']==1),'MasVnrArea']=0"
   ]
  },
  {
   "cell_type": "code",
   "execution_count": null,
   "metadata": {
    "collapsed": true
   },
   "outputs": [],
   "source": []
  },
  {
   "cell_type": "code",
   "execution_count": 93,
   "metadata": {},
   "outputs": [
    {
     "name": "stdout",
     "output_type": "stream",
     "text": [
      "      MasVnrArea MasVnrType\n",
      "234          NaN        NaN\n",
      "529          NaN        NaN\n",
      "650          NaN        NaN\n",
      "936          NaN        NaN\n",
      "973          NaN        NaN\n",
      "977          NaN        NaN\n",
      "1243         NaN        NaN\n",
      "1278         NaN        NaN\n"
     ]
    },
    {
     "data": {
      "text/html": [
       "<div>\n",
       "<style>\n",
       "    .dataframe thead tr:only-child th {\n",
       "        text-align: right;\n",
       "    }\n",
       "\n",
       "    .dataframe thead th {\n",
       "        text-align: left;\n",
       "    }\n",
       "\n",
       "    .dataframe tbody tr th {\n",
       "        vertical-align: top;\n",
       "    }\n",
       "</style>\n",
       "<table border=\"1\" class=\"dataframe\">\n",
       "  <thead>\n",
       "    <tr style=\"text-align: right;\">\n",
       "      <th></th>\n",
       "      <th>MasVnrArea</th>\n",
       "      <th>MasVnrType</th>\n",
       "    </tr>\n",
       "  </thead>\n",
       "  <tbody>\n",
       "  </tbody>\n",
       "</table>\n",
       "</div>"
      ],
      "text/plain": [
       "Empty DataFrame\n",
       "Columns: [MasVnrArea, MasVnrType]\n",
       "Index: []"
      ]
     },
     "execution_count": 93,
     "metadata": {},
     "output_type": "execute_result"
    }
   ],
   "source": [
    "#where area and type both are null, setting them to 0 and none respectively\n",
    "print(df.loc[(df['MasVnrType'].isnull()) & (df['MasVnrArea'].isnull()),('MasVnrArea','MasVnrType')])\n",
    "df.loc[(df['MasVnrType'].isnull()) & (df['MasVnrArea'].isnull()),('MasVnrArea','MasVnrType')]=0,'None'\n",
    "df.loc[(df['MasVnrType'].isnull()) & (df['MasVnrArea'].isnull()),('MasVnrArea','MasVnrType')]"
   ]
  },
  {
   "cell_type": "code",
   "execution_count": null,
   "metadata": {
    "collapsed": true
   },
   "outputs": [],
   "source": []
  },
  {
   "cell_type": "code",
   "execution_count": 94,
   "metadata": {
    "collapsed": true
   },
   "outputs": [],
   "source": [
    "#when area is 0 bt Type is not none, setting type to the mean of area\n",
    "df.loc[(df['MasVnrType']!='None') & (df['MasVnrArea']==0),('MasVnrArea')]=df[df['MasVnrArea']!=0]['MasVnrArea'].mean()"
   ]
  },
  {
   "cell_type": "code",
   "execution_count": 95,
   "metadata": {},
   "outputs": [
    {
     "name": "stdout",
     "output_type": "stream",
     "text": [
      "     MasVnrType  MasVnrArea\n",
      "624        None       288.0\n",
      "1300       None       344.0\n",
      "1334       None       312.0\n"
     ]
    },
    {
     "data": {
      "text/html": [
       "<div>\n",
       "<style>\n",
       "    .dataframe thead tr:only-child th {\n",
       "        text-align: right;\n",
       "    }\n",
       "\n",
       "    .dataframe thead th {\n",
       "        text-align: left;\n",
       "    }\n",
       "\n",
       "    .dataframe tbody tr th {\n",
       "        vertical-align: top;\n",
       "    }\n",
       "</style>\n",
       "<table border=\"1\" class=\"dataframe\">\n",
       "  <thead>\n",
       "    <tr style=\"text-align: right;\">\n",
       "      <th></th>\n",
       "      <th>MasVnrType</th>\n",
       "      <th>MasVnrArea</th>\n",
       "    </tr>\n",
       "  </thead>\n",
       "  <tbody>\n",
       "  </tbody>\n",
       "</table>\n",
       "</div>"
      ],
      "text/plain": [
       "Empty DataFrame\n",
       "Columns: [MasVnrType, MasVnrArea]\n",
       "Index: []"
      ]
     },
     "execution_count": 95,
     "metadata": {},
     "output_type": "execute_result"
    }
   ],
   "source": [
    "#when area is not 0 bt Type is none, setting type to the mode of types\n",
    "print(df.loc[(df['MasVnrType']=='None') & (df['MasVnrArea']!=0),('MasVnrType','MasVnrArea')])\n",
    "df.loc[(df['MasVnrType']=='None') & (df['MasVnrArea']!=0),('MasVnrType')]=df[df['MasVnrType']!='None']['MasVnrType'].mode().iloc[0]\n",
    "df.loc[(df['MasVnrType']=='None') & (df['MasVnrArea']!=0),('MasVnrType','MasVnrArea')]"
   ]
  },
  {
   "cell_type": "code",
   "execution_count": 96,
   "metadata": {},
   "outputs": [
    {
     "name": "stdout",
     "output_type": "stream",
     "text": [
      "869\n",
      "0\n",
      "869\n",
      "0\n"
     ]
    }
   ],
   "source": [
    "print(df[df['MasVnrType']=='None'].count()['Id'])\n",
    "print(df[df['MasVnrType'].isnull()].count()['Id'])\n",
    "print(df[df['MasVnrArea']==0].count()['Id'])\n",
    "print(df[df['MasVnrArea'].isnull()].count()['Id'])"
   ]
  },
  {
   "cell_type": "code",
   "execution_count": 97,
   "metadata": {
    "scrolled": true
   },
   "outputs": [
    {
     "name": "stdout",
     "output_type": "stream",
     "text": [
      "Series([], Name: MasVnrType, dtype: object)\n"
     ]
    },
    {
     "data": {
      "text/plain": [
       "Series([], Name: MasVnrType, dtype: object)"
      ]
     },
     "execution_count": 97,
     "metadata": {},
     "output_type": "execute_result"
    }
   ],
   "source": [
    "#where type is null bt area is greater than 0 setting it to mode of types\n",
    "print(df.loc[(df['MasVnrType'].isnull()) & (df['MasVnrArea']!=0),'MasVnrType'])\n",
    "df.loc[(df['MasVnrType'].isnull()) & (df['MasVnrArea']!=0),'MasVnrType']=df[df['MasVnrType']!='None']['MasVnrType'].mode()\n",
    "df.loc[(df['MasVnrType'].isnull()) & (df['MasVnrArea']!=0),'MasVnrType']"
   ]
  },
  {
   "cell_type": "code",
   "execution_count": 98,
   "metadata": {},
   "outputs": [
    {
     "name": "stdout",
     "output_type": "stream",
     "text": [
      "[nan 'Grvl' 'Pave']\n"
     ]
    },
    {
     "data": {
      "text/plain": [
       "array(['NA', 'Grvl', 'Pave'], dtype=object)"
      ]
     },
     "execution_count": 98,
     "metadata": {},
     "output_type": "execute_result"
    }
   ],
   "source": [
    "print(df['Alley'].unique())\n",
    "df['Alley']=df['Alley'].fillna('NA')\n",
    "df['Alley'].unique()"
   ]
  },
  {
   "cell_type": "code",
   "execution_count": 99,
   "metadata": {},
   "outputs": [
    {
     "name": "stdout",
     "output_type": "stream",
     "text": [
      "[  65.   80.   68.   60.   84.   85.   75.   nan   51.   50.   70.   91.\n",
      "   72.   66.  101.   57.   44.  110.   98.   47.  108.  112.   74.  115.\n",
      "   61.   48.   33.   52.  100.   24.   89.   63.   76.   81.   95.   69.\n",
      "   21.   32.   78.  121.  122.   40.  105.   73.   77.   64.   94.   34.\n",
      "   90.   55.   88.   82.   71.  120.  107.   92.  134.   62.   86.  141.\n",
      "   97.   54.   41.   79.  174.   99.   67.   83.   43.  103.   93.   30.\n",
      "  129.  140.   35.   37.  118.   87.  116.  150.  111.   49.   96.   59.\n",
      "   36.   56.  102.   58.   38.  109.  130.   53.  137.   45.  106.  104.\n",
      "   42.   39.  144.  114.  128.  149.  313.  168.  182.  138.  160.  152.\n",
      "  124.  153.   46.]\n"
     ]
    },
    {
     "data": {
      "text/plain": [
       "array([  65.,   80.,   68.,   60.,   84.,   85.,   75.,    0.,   51.,\n",
       "         50.,   70.,   91.,   72.,   66.,  101.,   57.,   44.,  110.,\n",
       "         98.,   47.,  108.,  112.,   74.,  115.,   61.,   48.,   33.,\n",
       "         52.,  100.,   24.,   89.,   63.,   76.,   81.,   95.,   69.,\n",
       "         21.,   32.,   78.,  121.,  122.,   40.,  105.,   73.,   77.,\n",
       "         64.,   94.,   34.,   90.,   55.,   88.,   82.,   71.,  120.,\n",
       "        107.,   92.,  134.,   62.,   86.,  141.,   97.,   54.,   41.,\n",
       "         79.,  174.,   99.,   67.,   83.,   43.,  103.,   93.,   30.,\n",
       "        129.,  140.,   35.,   37.,  118.,   87.,  116.,  150.,  111.,\n",
       "         49.,   96.,   59.,   36.,   56.,  102.,   58.,   38.,  109.,\n",
       "        130.,   53.,  137.,   45.,  106.,  104.,   42.,   39.,  144.,\n",
       "        114.,  128.,  149.,  313.,  168.,  182.,  138.,  160.,  152.,\n",
       "        124.,  153.,   46.])"
      ]
     },
     "execution_count": 99,
     "metadata": {},
     "output_type": "execute_result"
    }
   ],
   "source": [
    "print(df['LotFrontage'].unique())\n",
    "df['LotFrontage']=df['LotFrontage'].fillna(0)\n",
    "df['LotFrontage'].unique()"
   ]
  },
  {
   "cell_type": "code",
   "execution_count": 100,
   "metadata": {},
   "outputs": [
    {
     "name": "stdout",
     "output_type": "stream",
     "text": [
      "['NA' 'Grvl' 'Pave']\n"
     ]
    },
    {
     "data": {
      "text/plain": [
       "array(['NA', 'Grvl', 'Pave'], dtype=object)"
      ]
     },
     "execution_count": 100,
     "metadata": {},
     "output_type": "execute_result"
    }
   ],
   "source": [
    "print(df['Alley'].unique())\n",
    "df['Alley']=df['Alley'].fillna('NA')\n",
    "df['Alley'].unique()"
   ]
  },
  {
   "cell_type": "code",
   "execution_count": 101,
   "metadata": {},
   "outputs": [
    {
     "name": "stdout",
     "output_type": "stream",
     "text": [
      "['Gd' 'TA' 'Ex' nan 'Fa']\n"
     ]
    },
    {
     "data": {
      "text/plain": [
       "array(['Gd', 'TA', 'Ex', 'NA', 'Fa'], dtype=object)"
      ]
     },
     "execution_count": 101,
     "metadata": {},
     "output_type": "execute_result"
    }
   ],
   "source": [
    "print(df['BsmtQual'].unique())\n",
    "df['BsmtQual']=df['BsmtQual'].fillna('NA')\n",
    "df['BsmtQual'].unique()"
   ]
  },
  {
   "cell_type": "code",
   "execution_count": 102,
   "metadata": {},
   "outputs": [
    {
     "name": "stdout",
     "output_type": "stream",
     "text": [
      "['TA' 'Gd' nan 'Fa' 'Po']\n"
     ]
    },
    {
     "data": {
      "text/plain": [
       "array(['TA', 'Gd', 'NA', 'Fa', 'Po'], dtype=object)"
      ]
     },
     "execution_count": 102,
     "metadata": {},
     "output_type": "execute_result"
    }
   ],
   "source": [
    "print(df['BsmtCond'].unique())\n",
    "df['BsmtCond']=df['BsmtCond'].fillna('NA')\n",
    "df['BsmtCond'].unique()"
   ]
  },
  {
   "cell_type": "code",
   "execution_count": 103,
   "metadata": {},
   "outputs": [
    {
     "name": "stdout",
     "output_type": "stream",
     "text": [
      "['No' 'Gd' 'Mn' 'Av' nan]\n"
     ]
    },
    {
     "data": {
      "text/plain": [
       "array(['No', 'Gd', 'Mn', 'Av', 'NA'], dtype=object)"
      ]
     },
     "execution_count": 103,
     "metadata": {},
     "output_type": "execute_result"
    }
   ],
   "source": [
    "print(df['BsmtExposure'].unique())\n",
    "df['BsmtExposure']=df['BsmtExposure'].fillna('NA')\n",
    "df['BsmtExposure'].unique()"
   ]
  },
  {
   "cell_type": "code",
   "execution_count": 104,
   "metadata": {},
   "outputs": [
    {
     "name": "stdout",
     "output_type": "stream",
     "text": [
      "['GLQ' 'ALQ' 'Unf' 'Rec' 'BLQ' nan 'LwQ']\n"
     ]
    },
    {
     "data": {
      "text/plain": [
       "array(['GLQ', 'ALQ', 'Unf', 'Rec', 'BLQ', 'NA', 'LwQ'], dtype=object)"
      ]
     },
     "execution_count": 104,
     "metadata": {},
     "output_type": "execute_result"
    }
   ],
   "source": [
    "print(df['BsmtFinType1'].unique())\n",
    "df['BsmtFinType1']=df['BsmtFinType1'].fillna('NA')\n",
    "df['BsmtFinType1'].unique()"
   ]
  },
  {
   "cell_type": "code",
   "execution_count": 105,
   "metadata": {},
   "outputs": [
    {
     "name": "stdout",
     "output_type": "stream",
     "text": [
      "['Unf' 'BLQ' nan 'ALQ' 'Rec' 'LwQ' 'GLQ']\n"
     ]
    },
    {
     "data": {
      "text/plain": [
       "array(['Unf', 'BLQ', 'NA', 'ALQ', 'Rec', 'LwQ', 'GLQ'], dtype=object)"
      ]
     },
     "execution_count": 105,
     "metadata": {},
     "output_type": "execute_result"
    }
   ],
   "source": [
    "print(df['BsmtFinType2'].unique())\n",
    "df['BsmtFinType2']=df['BsmtFinType2'].fillna('NA')\n",
    "df['BsmtFinType2'].unique()"
   ]
  },
  {
   "cell_type": "code",
   "execution_count": 106,
   "metadata": {
    "collapsed": true
   },
   "outputs": [],
   "source": [
    "df['Electrical'].mode().iloc[0]\n",
    "df['Electrical']=df['Electrical'].fillna(df['Electrical'].mode().iloc[0])"
   ]
  },
  {
   "cell_type": "code",
   "execution_count": 107,
   "metadata": {},
   "outputs": [
    {
     "name": "stdout",
     "output_type": "stream",
     "text": [
      "[nan 'TA' 'Gd' 'Fa' 'Ex' 'Po']\n"
     ]
    },
    {
     "data": {
      "text/plain": [
       "array(['NA', 'TA', 'Gd', 'Fa', 'Ex', 'Po'], dtype=object)"
      ]
     },
     "execution_count": 107,
     "metadata": {},
     "output_type": "execute_result"
    }
   ],
   "source": [
    "print(df['FireplaceQu'].unique())\n",
    "df['FireplaceQu']=df['FireplaceQu'].fillna('NA')\n",
    "df['FireplaceQu'].unique()"
   ]
  },
  {
   "cell_type": "code",
   "execution_count": 108,
   "metadata": {},
   "outputs": [
    {
     "name": "stdout",
     "output_type": "stream",
     "text": [
      "['Attchd' 'Detchd' 'BuiltIn' 'CarPort' nan 'Basment' '2Types']\n"
     ]
    },
    {
     "data": {
      "text/plain": [
       "array(['Attchd', 'Detchd', 'BuiltIn', 'CarPort', 'NA', 'Basment', '2Types'], dtype=object)"
      ]
     },
     "execution_count": 108,
     "metadata": {},
     "output_type": "execute_result"
    }
   ],
   "source": [
    "print(df['GarageType'].unique())\n",
    "df['GarageType']=df['GarageType'].fillna('NA')\n",
    "df['GarageType'].unique()"
   ]
  },
  {
   "cell_type": "code",
   "execution_count": 109,
   "metadata": {},
   "outputs": [
    {
     "name": "stdout",
     "output_type": "stream",
     "text": [
      "[ 2003.  1976.  2001.  1998.  2000.  1993.  2004.  1973.  1931.  1939.\n",
      "  1965.  2005.  1962.  2006.  1960.  1991.  1970.  1967.  1958.  1930.\n",
      "  2002.  1968.  2007.  2008.  1957.  1920.  1966.  1959.  1995.  1954.\n",
      "  1953.    nan  1983.  1977.  1997.  1985.  1963.  1981.  1964.  1999.\n",
      "  1935.  1990.  1945.  1987.  1989.  1915.  1956.  1948.  1974.  2009.\n",
      "  1950.  1961.  1921.  1900.  1979.  1951.  1969.  1936.  1975.  1971.\n",
      "  1923.  1984.  1926.  1955.  1986.  1988.  1916.  1932.  1972.  1918.\n",
      "  1980.  1924.  1996.  1940.  1949.  1994.  1910.  1978.  1982.  1992.\n",
      "  1925.  1941.  2010.  1927.  1947.  1937.  1942.  1938.  1952.  1928.\n",
      "  1922.  1934.  1906.  1914.  1946.  1908.  1929.  1933.]\n"
     ]
    },
    {
     "data": {
      "text/plain": [
       "array([ 2003.,  1976.,  2001.,  1998.,  2000.,  1993.,  2004.,  1973.,\n",
       "        1931.,  1939.,  1965.,  2005.,  1962.,  2006.,  1960.,  1991.,\n",
       "        1970.,  1967.,  1958.,  1930.,  2002.,  1968.,  2007.,  2008.,\n",
       "        1957.,  1920.,  1966.,  1959.,  1995.,  1954.,  1953.,     0.,\n",
       "        1983.,  1977.,  1997.,  1985.,  1963.,  1981.,  1964.,  1999.,\n",
       "        1935.,  1990.,  1945.,  1987.,  1989.,  1915.,  1956.,  1948.,\n",
       "        1974.,  2009.,  1950.,  1961.,  1921.,  1900.,  1979.,  1951.,\n",
       "        1969.,  1936.,  1975.,  1971.,  1923.,  1984.,  1926.,  1955.,\n",
       "        1986.,  1988.,  1916.,  1932.,  1972.,  1918.,  1980.,  1924.,\n",
       "        1996.,  1940.,  1949.,  1994.,  1910.,  1978.,  1982.,  1992.,\n",
       "        1925.,  1941.,  2010.,  1927.,  1947.,  1937.,  1942.,  1938.,\n",
       "        1952.,  1928.,  1922.,  1934.,  1906.,  1914.,  1946.,  1908.,\n",
       "        1929.,  1933.])"
      ]
     },
     "execution_count": 109,
     "metadata": {},
     "output_type": "execute_result"
    }
   ],
   "source": [
    "#where GarageYrBlt is missing, set it as YearRemodAdd\n",
    "print(df['GarageYrBlt'].unique())\n",
    "#df['GarageYrBlt']=df['GarageYrBlt'].fillna(df['YearRemodAdd'])\n",
    "df.loc[(df['GarageYrBlt'].isnull()) & (df['GarageType']!='NA'),'GarageYrBlt']=df['YearRemodAdd']\n",
    "df.loc[(df['GarageYrBlt'].isnull()) & (df['GarageType']=='NA'),'GarageYrBlt']=0\n",
    "#df['GarageYrBlt'].unique()\n",
    "df[['YearBuilt','GarageYrBlt','YearRemodAdd']]\n",
    "df['GarageYrBlt'].unique()"
   ]
  },
  {
   "cell_type": "code",
   "execution_count": 110,
   "metadata": {},
   "outputs": [
    {
     "name": "stdout",
     "output_type": "stream",
     "text": [
      "['RFn' 'Unf' 'Fin' nan]\n"
     ]
    },
    {
     "data": {
      "text/plain": [
       "array(['RFn', 'Unf', 'Fin', 'NA'], dtype=object)"
      ]
     },
     "execution_count": 110,
     "metadata": {},
     "output_type": "execute_result"
    }
   ],
   "source": [
    "print(df['GarageFinish'].unique())\n",
    "df['GarageFinish']=df['GarageFinish'].fillna('NA')\n",
    "df['GarageFinish'].unique()"
   ]
  },
  {
   "cell_type": "code",
   "execution_count": 111,
   "metadata": {},
   "outputs": [
    {
     "name": "stdout",
     "output_type": "stream",
     "text": [
      "['TA' 'Fa' 'Gd' nan 'Ex' 'Po']\n"
     ]
    },
    {
     "data": {
      "text/plain": [
       "array(['TA', 'Fa', 'Gd', 'NA', 'Ex', 'Po'], dtype=object)"
      ]
     },
     "execution_count": 111,
     "metadata": {},
     "output_type": "execute_result"
    }
   ],
   "source": [
    "print(df['GarageQual'].unique())\n",
    "df['GarageQual']=df['GarageQual'].fillna('NA')\n",
    "df['GarageQual'].unique()"
   ]
  },
  {
   "cell_type": "code",
   "execution_count": 112,
   "metadata": {},
   "outputs": [
    {
     "name": "stdout",
     "output_type": "stream",
     "text": [
      "['TA' 'Fa' nan 'Gd' 'Po' 'Ex']\n"
     ]
    },
    {
     "data": {
      "text/plain": [
       "array(['TA', 'Fa', 'NA', 'Gd', 'Po', 'Ex'], dtype=object)"
      ]
     },
     "execution_count": 112,
     "metadata": {},
     "output_type": "execute_result"
    }
   ],
   "source": [
    "print(df['GarageCond'].unique())\n",
    "df['GarageCond']=df['GarageCond'].fillna('NA')\n",
    "df['GarageCond'].unique()"
   ]
  },
  {
   "cell_type": "code",
   "execution_count": 113,
   "metadata": {},
   "outputs": [
    {
     "name": "stdout",
     "output_type": "stream",
     "text": [
      "[nan 'Ex' 'Fa' 'Gd']\n"
     ]
    },
    {
     "data": {
      "text/plain": [
       "array(['NA', 'Ex', 'Fa', 'Gd'], dtype=object)"
      ]
     },
     "execution_count": 113,
     "metadata": {},
     "output_type": "execute_result"
    }
   ],
   "source": [
    "\n",
    "print(df['PoolQC'].unique())\n",
    "df['PoolQC']=df['PoolQC'].fillna('NA')\n",
    "df['PoolQC'].unique()"
   ]
  },
  {
   "cell_type": "code",
   "execution_count": 114,
   "metadata": {},
   "outputs": [
    {
     "name": "stdout",
     "output_type": "stream",
     "text": [
      "[nan 'MnPrv' 'GdWo' 'GdPrv' 'MnWw']\n"
     ]
    },
    {
     "data": {
      "text/plain": [
       "array(['NA', 'MnPrv', 'GdWo', 'GdPrv', 'MnWw'], dtype=object)"
      ]
     },
     "execution_count": 114,
     "metadata": {},
     "output_type": "execute_result"
    }
   ],
   "source": [
    "print(df['Fence'].unique())\n",
    "df['Fence']=df['Fence'].fillna('NA')\n",
    "df['Fence'].unique()"
   ]
  },
  {
   "cell_type": "code",
   "execution_count": 115,
   "metadata": {},
   "outputs": [
    {
     "name": "stdout",
     "output_type": "stream",
     "text": [
      "[nan 'Shed' 'Gar2' 'Othr' 'TenC']\n"
     ]
    },
    {
     "data": {
      "text/plain": [
       "array(['NA', 'Shed', 'Gar2', 'Othr', 'TenC'], dtype=object)"
      ]
     },
     "execution_count": 115,
     "metadata": {},
     "output_type": "execute_result"
    }
   ],
   "source": [
    "print(df['MiscFeature'].unique())\n",
    "df['MiscFeature']=df['MiscFeature'].fillna('NA')\n",
    "df['MiscFeature'].unique()"
   ]
  },
  {
   "cell_type": "code",
   "execution_count": 117,
   "metadata": {},
   "outputs": [
    {
     "data": {
      "text/html": [
       "<div>\n",
       "<style>\n",
       "    .dataframe thead tr:only-child th {\n",
       "        text-align: right;\n",
       "    }\n",
       "\n",
       "    .dataframe thead th {\n",
       "        text-align: left;\n",
       "    }\n",
       "\n",
       "    .dataframe tbody tr th {\n",
       "        vertical-align: top;\n",
       "    }\n",
       "</style>\n",
       "<table border=\"1\" class=\"dataframe\">\n",
       "  <thead>\n",
       "    <tr style=\"text-align: right;\">\n",
       "      <th></th>\n",
       "      <th>Garage</th>\n",
       "      <th>GarageCars</th>\n",
       "      <th>GarageArea</th>\n",
       "    </tr>\n",
       "  </thead>\n",
       "  <tbody>\n",
       "    <tr>\n",
       "      <th>0</th>\n",
       "      <td>7.000334</td>\n",
       "      <td>2</td>\n",
       "      <td>548</td>\n",
       "    </tr>\n",
       "    <tr>\n",
       "      <th>1</th>\n",
       "      <td>6.825460</td>\n",
       "      <td>2</td>\n",
       "      <td>460</td>\n",
       "    </tr>\n",
       "    <tr>\n",
       "      <th>2</th>\n",
       "      <td>7.104144</td>\n",
       "      <td>2</td>\n",
       "      <td>608</td>\n",
       "    </tr>\n",
       "    <tr>\n",
       "      <th>3</th>\n",
       "      <td>7.563720</td>\n",
       "      <td>3</td>\n",
       "      <td>642</td>\n",
       "    </tr>\n",
       "    <tr>\n",
       "      <th>4</th>\n",
       "      <td>7.827640</td>\n",
       "      <td>3</td>\n",
       "      <td>836</td>\n",
       "    </tr>\n",
       "  </tbody>\n",
       "</table>\n",
       "</div>"
      ],
      "text/plain": [
       "     Garage  GarageCars  GarageArea\n",
       "0  7.000334           2         548\n",
       "1  6.825460           2         460\n",
       "2  7.104144           2         608\n",
       "3  7.563720           3         642\n",
       "4  7.827640           3         836"
      ]
     },
     "execution_count": 117,
     "metadata": {},
     "output_type": "execute_result"
    }
   ],
   "source": [
    "df['Garage'] = df.apply(lambda x: np.log(x['GarageCars']*x['GarageArea']+1), axis=1)\n",
    "df.head()[['Garage','GarageCars','GarageArea']]"
   ]
  },
  {
   "cell_type": "code",
   "execution_count": 134,
   "metadata": {},
   "outputs": [
    {
     "name": "stdout",
     "output_type": "stream",
     "text": [
      "0    GLQ\n",
      "1    ALQ\n",
      "2    GLQ\n",
      "3    ALQ\n",
      "4    GLQ\n",
      "Name: BsmtFinType1, dtype: object\n"
     ]
    },
    {
     "data": {
      "text/plain": [
       "array(['No', 'Gd', 'Mn', 'Av', 'NA'], dtype=object)"
      ]
     },
     "execution_count": 134,
     "metadata": {},
     "output_type": "execute_result"
    }
   ],
   "source": [
    "df['isRemodAdd']=df.apply(lambda x: x['YearRemodAdd']>x['YearBuilt'], axis =1)\n",
    "#sns.lmplot(x='YearBuilt',y='SalePrice',data=df, hue = 'isRemodAdd',scatter_kws={'alpha':0.25})\n",
    "df['yrsOld'] = df.apply(lambda x: x['YrSold']-x['YearBuilt'], axis =1)\n",
    "#sns.lmplot(x='yrsOld',y='SalePrice',data=df, hue = 'isRemodAdd',scatter_kws={'alpha':0.25})\n",
    "df['RemodAddNumYrs'] = df.apply(lambda x: x['YrSold']-x['YearRemodAdd'], axis =1)\n",
    "print(df['BsmtFinType1'].head())\n",
    "df['numOfBsmt']= df.apply(lambda x: 1 if x['BsmtFinType1']!='NA' and x['BsmtFinType2']=='NA' else 2 if x['BsmtFinType1']!='NA' and x['BsmtFinType2']!='NA' else 0, axis = 1)\n",
    "df['TotalFinBsmtSF']=df.apply(lambda x: x['BsmtFinSF2']+x['BsmtFinSF1'], axis =1)\n",
    "df['TotalBaths']=df.apply(lambda x: x['FullBath']+((x['HalfBath']+x['BsmtHalfBath'])/2) +  x['BsmtFullBath'], axis =1)\n",
    "df['GarageYrsOld']=df.apply(lambda x: x['YrSold']-x['GarageYrBlt'], axis =1)\n",
    "df['TotalPorchArea']=df.apply(lambda x: x['WoodDeckSF']+x['OpenPorchSF']+x['EnclosedPorch']+x['3SsnPorch']+x['ScreenPorch'], axis =1)\n",
    "'Gd', 'TA', 'Ex', 'Fa'\n",
    "z = {'Ex': 5, 'Gd': 4, 'TA': 3, 'Fa':2, 'Po':1, 'NA': 0}\n",
    "z2 = {'Gd': 3, 'Av':2, 'Mn':1, 'NA': -1, 'No':0}\n",
    "z.keys()\n",
    "df['HeatingQuality']= df['HeatingQC'].map(z)\n",
    "\n",
    "df['ExterQuality'] = df['ExterQual'].map(z)\n",
    "\n",
    "df['KitchenQuality'] = df['KitchenQual'].map(z)\n",
    "#df['FireplaceQuality'] = df['FireplaceQu'].map(z)\n",
    "\n",
    "#df['GarageQuality'] = df['GarageQual'].map(z)\n",
    "\n",
    "#df['GarageCondition'] = df['GarageCond'].map(z)\n",
    "df['PoolQuality'] = df['PoolQC'].map(z)\n",
    "df['BsmtCondition'] = df['BsmtCond'].map(z)\n",
    "#df['GarageCondition'] = df['GarageCond'].map(z)\n",
    "df['BsmtExposureMapped'] = df['BsmtExposure'].map(z2)\n",
    "df['BsmtExposure'].unique()\n",
    "#df['ExterCondition'] = df['ExterCond'].map(z)\n",
    "#df.drop('OverallQualcond', axis = 1, inplace=True)\n",
    "#df['OverallQualcond']=df.apply(lambda x: (x['OverallQual']+x['OverallCond'])/2, axis =1)\n",
    "#df['NumOfFloors']=df.apply(lambda x: 1 if x['2ndFlrSF']==0 else 2, axis =1)\n",
    "#df[(df['BsmtFinType1']=='NA') &((df['BsmtFinType2']!='NA'))]\n",
    "#df[df['numOfBsmt']!=2][['numOfBsmt','BsmtFinType1','BsmtFinType2']]\n",
    "#plt.scatter()"
   ]
  },
  {
   "cell_type": "code",
   "execution_count": 146,
   "metadata": {},
   "outputs": [
    {
     "ename": "KeyError",
     "evalue": "'GarageCond'",
     "output_type": "error",
     "traceback": [
      "\u001b[1;31m---------------------------------------------------------------------------\u001b[0m",
      "\u001b[1;31mKeyError\u001b[0m                                  Traceback (most recent call last)",
      "\u001b[1;32mc:\\users\\ankur\\appdata\\local\\programs\\python\\python36\\lib\\site-packages\\pandas\\core\\indexes\\base.py\u001b[0m in \u001b[0;36mget_loc\u001b[1;34m(self, key, method, tolerance)\u001b[0m\n\u001b[0;32m   2441\u001b[0m             \u001b[1;32mtry\u001b[0m\u001b[1;33m:\u001b[0m\u001b[1;33m\u001b[0m\u001b[0m\n\u001b[1;32m-> 2442\u001b[1;33m                 \u001b[1;32mreturn\u001b[0m \u001b[0mself\u001b[0m\u001b[1;33m.\u001b[0m\u001b[0m_engine\u001b[0m\u001b[1;33m.\u001b[0m\u001b[0mget_loc\u001b[0m\u001b[1;33m(\u001b[0m\u001b[0mkey\u001b[0m\u001b[1;33m)\u001b[0m\u001b[1;33m\u001b[0m\u001b[0m\n\u001b[0m\u001b[0;32m   2443\u001b[0m             \u001b[1;32mexcept\u001b[0m \u001b[0mKeyError\u001b[0m\u001b[1;33m:\u001b[0m\u001b[1;33m\u001b[0m\u001b[0m\n",
      "\u001b[1;32mpandas\\_libs\\index.pyx\u001b[0m in \u001b[0;36mpandas._libs.index.IndexEngine.get_loc (pandas\\_libs\\index.c:5280)\u001b[1;34m()\u001b[0m\n",
      "\u001b[1;32mpandas\\_libs\\index.pyx\u001b[0m in \u001b[0;36mpandas._libs.index.IndexEngine.get_loc (pandas\\_libs\\index.c:5126)\u001b[1;34m()\u001b[0m\n",
      "\u001b[1;32mpandas\\_libs\\hashtable_class_helper.pxi\u001b[0m in \u001b[0;36mpandas._libs.hashtable.PyObjectHashTable.get_item (pandas\\_libs\\hashtable.c:20523)\u001b[1;34m()\u001b[0m\n",
      "\u001b[1;32mpandas\\_libs\\hashtable_class_helper.pxi\u001b[0m in \u001b[0;36mpandas._libs.hashtable.PyObjectHashTable.get_item (pandas\\_libs\\hashtable.c:20477)\u001b[1;34m()\u001b[0m\n",
      "\u001b[1;31mKeyError\u001b[0m: 'GarageCond'",
      "\nDuring handling of the above exception, another exception occurred:\n",
      "\u001b[1;31mKeyError\u001b[0m                                  Traceback (most recent call last)",
      "\u001b[1;32m<ipython-input-146-c9da025f1644>\u001b[0m in \u001b[0;36m<module>\u001b[1;34m()\u001b[0m\n\u001b[1;32m----> 1\u001b[1;33m \u001b[0mdf\u001b[0m\u001b[1;33m[\u001b[0m\u001b[1;34m'GarageCondition'\u001b[0m\u001b[1;33m]\u001b[0m \u001b[1;33m=\u001b[0m \u001b[0mdf\u001b[0m\u001b[1;33m[\u001b[0m\u001b[1;34m'GarageCond'\u001b[0m\u001b[1;33m]\u001b[0m\u001b[1;33m.\u001b[0m\u001b[0mmap\u001b[0m\u001b[1;33m(\u001b[0m\u001b[0mz\u001b[0m\u001b[1;33m)\u001b[0m\u001b[1;33m\u001b[0m\u001b[0m\n\u001b[0m\u001b[0;32m      2\u001b[0m \u001b[1;33m\u001b[0m\u001b[0m\n\u001b[0;32m      3\u001b[0m \u001b[0mdf\u001b[0m\u001b[1;33m.\u001b[0m\u001b[0mdrop\u001b[0m\u001b[1;33m(\u001b[0m\u001b[1;33m[\u001b[0m\u001b[1;34m'BsmtExposure'\u001b[0m\u001b[1;33m]\u001b[0m\u001b[1;33m,\u001b[0m\u001b[0maxis\u001b[0m \u001b[1;33m=\u001b[0m \u001b[1;36m1\u001b[0m\u001b[1;33m,\u001b[0m \u001b[0minplace\u001b[0m\u001b[1;33m=\u001b[0m\u001b[1;32mTrue\u001b[0m\u001b[1;33m)\u001b[0m\u001b[1;33m\u001b[0m\u001b[0m\n",
      "\u001b[1;32mc:\\users\\ankur\\appdata\\local\\programs\\python\\python36\\lib\\site-packages\\pandas\\core\\frame.py\u001b[0m in \u001b[0;36m__getitem__\u001b[1;34m(self, key)\u001b[0m\n\u001b[0;32m   1962\u001b[0m             \u001b[1;32mreturn\u001b[0m \u001b[0mself\u001b[0m\u001b[1;33m.\u001b[0m\u001b[0m_getitem_multilevel\u001b[0m\u001b[1;33m(\u001b[0m\u001b[0mkey\u001b[0m\u001b[1;33m)\u001b[0m\u001b[1;33m\u001b[0m\u001b[0m\n\u001b[0;32m   1963\u001b[0m         \u001b[1;32melse\u001b[0m\u001b[1;33m:\u001b[0m\u001b[1;33m\u001b[0m\u001b[0m\n\u001b[1;32m-> 1964\u001b[1;33m             \u001b[1;32mreturn\u001b[0m \u001b[0mself\u001b[0m\u001b[1;33m.\u001b[0m\u001b[0m_getitem_column\u001b[0m\u001b[1;33m(\u001b[0m\u001b[0mkey\u001b[0m\u001b[1;33m)\u001b[0m\u001b[1;33m\u001b[0m\u001b[0m\n\u001b[0m\u001b[0;32m   1965\u001b[0m \u001b[1;33m\u001b[0m\u001b[0m\n\u001b[0;32m   1966\u001b[0m     \u001b[1;32mdef\u001b[0m \u001b[0m_getitem_column\u001b[0m\u001b[1;33m(\u001b[0m\u001b[0mself\u001b[0m\u001b[1;33m,\u001b[0m \u001b[0mkey\u001b[0m\u001b[1;33m)\u001b[0m\u001b[1;33m:\u001b[0m\u001b[1;33m\u001b[0m\u001b[0m\n",
      "\u001b[1;32mc:\\users\\ankur\\appdata\\local\\programs\\python\\python36\\lib\\site-packages\\pandas\\core\\frame.py\u001b[0m in \u001b[0;36m_getitem_column\u001b[1;34m(self, key)\u001b[0m\n\u001b[0;32m   1969\u001b[0m         \u001b[1;31m# get column\u001b[0m\u001b[1;33m\u001b[0m\u001b[1;33m\u001b[0m\u001b[0m\n\u001b[0;32m   1970\u001b[0m         \u001b[1;32mif\u001b[0m \u001b[0mself\u001b[0m\u001b[1;33m.\u001b[0m\u001b[0mcolumns\u001b[0m\u001b[1;33m.\u001b[0m\u001b[0mis_unique\u001b[0m\u001b[1;33m:\u001b[0m\u001b[1;33m\u001b[0m\u001b[0m\n\u001b[1;32m-> 1971\u001b[1;33m             \u001b[1;32mreturn\u001b[0m \u001b[0mself\u001b[0m\u001b[1;33m.\u001b[0m\u001b[0m_get_item_cache\u001b[0m\u001b[1;33m(\u001b[0m\u001b[0mkey\u001b[0m\u001b[1;33m)\u001b[0m\u001b[1;33m\u001b[0m\u001b[0m\n\u001b[0m\u001b[0;32m   1972\u001b[0m \u001b[1;33m\u001b[0m\u001b[0m\n\u001b[0;32m   1973\u001b[0m         \u001b[1;31m# duplicate columns & possible reduce dimensionality\u001b[0m\u001b[1;33m\u001b[0m\u001b[1;33m\u001b[0m\u001b[0m\n",
      "\u001b[1;32mc:\\users\\ankur\\appdata\\local\\programs\\python\\python36\\lib\\site-packages\\pandas\\core\\generic.py\u001b[0m in \u001b[0;36m_get_item_cache\u001b[1;34m(self, item)\u001b[0m\n\u001b[0;32m   1643\u001b[0m         \u001b[0mres\u001b[0m \u001b[1;33m=\u001b[0m \u001b[0mcache\u001b[0m\u001b[1;33m.\u001b[0m\u001b[0mget\u001b[0m\u001b[1;33m(\u001b[0m\u001b[0mitem\u001b[0m\u001b[1;33m)\u001b[0m\u001b[1;33m\u001b[0m\u001b[0m\n\u001b[0;32m   1644\u001b[0m         \u001b[1;32mif\u001b[0m \u001b[0mres\u001b[0m \u001b[1;32mis\u001b[0m \u001b[1;32mNone\u001b[0m\u001b[1;33m:\u001b[0m\u001b[1;33m\u001b[0m\u001b[0m\n\u001b[1;32m-> 1645\u001b[1;33m             \u001b[0mvalues\u001b[0m \u001b[1;33m=\u001b[0m \u001b[0mself\u001b[0m\u001b[1;33m.\u001b[0m\u001b[0m_data\u001b[0m\u001b[1;33m.\u001b[0m\u001b[0mget\u001b[0m\u001b[1;33m(\u001b[0m\u001b[0mitem\u001b[0m\u001b[1;33m)\u001b[0m\u001b[1;33m\u001b[0m\u001b[0m\n\u001b[0m\u001b[0;32m   1646\u001b[0m             \u001b[0mres\u001b[0m \u001b[1;33m=\u001b[0m \u001b[0mself\u001b[0m\u001b[1;33m.\u001b[0m\u001b[0m_box_item_values\u001b[0m\u001b[1;33m(\u001b[0m\u001b[0mitem\u001b[0m\u001b[1;33m,\u001b[0m \u001b[0mvalues\u001b[0m\u001b[1;33m)\u001b[0m\u001b[1;33m\u001b[0m\u001b[0m\n\u001b[0;32m   1647\u001b[0m             \u001b[0mcache\u001b[0m\u001b[1;33m[\u001b[0m\u001b[0mitem\u001b[0m\u001b[1;33m]\u001b[0m \u001b[1;33m=\u001b[0m \u001b[0mres\u001b[0m\u001b[1;33m\u001b[0m\u001b[0m\n",
      "\u001b[1;32mc:\\users\\ankur\\appdata\\local\\programs\\python\\python36\\lib\\site-packages\\pandas\\core\\internals.py\u001b[0m in \u001b[0;36mget\u001b[1;34m(self, item, fastpath)\u001b[0m\n\u001b[0;32m   3588\u001b[0m \u001b[1;33m\u001b[0m\u001b[0m\n\u001b[0;32m   3589\u001b[0m             \u001b[1;32mif\u001b[0m \u001b[1;32mnot\u001b[0m \u001b[0misnull\u001b[0m\u001b[1;33m(\u001b[0m\u001b[0mitem\u001b[0m\u001b[1;33m)\u001b[0m\u001b[1;33m:\u001b[0m\u001b[1;33m\u001b[0m\u001b[0m\n\u001b[1;32m-> 3590\u001b[1;33m                 \u001b[0mloc\u001b[0m \u001b[1;33m=\u001b[0m \u001b[0mself\u001b[0m\u001b[1;33m.\u001b[0m\u001b[0mitems\u001b[0m\u001b[1;33m.\u001b[0m\u001b[0mget_loc\u001b[0m\u001b[1;33m(\u001b[0m\u001b[0mitem\u001b[0m\u001b[1;33m)\u001b[0m\u001b[1;33m\u001b[0m\u001b[0m\n\u001b[0m\u001b[0;32m   3591\u001b[0m             \u001b[1;32melse\u001b[0m\u001b[1;33m:\u001b[0m\u001b[1;33m\u001b[0m\u001b[0m\n\u001b[0;32m   3592\u001b[0m                 \u001b[0mindexer\u001b[0m \u001b[1;33m=\u001b[0m \u001b[0mnp\u001b[0m\u001b[1;33m.\u001b[0m\u001b[0marange\u001b[0m\u001b[1;33m(\u001b[0m\u001b[0mlen\u001b[0m\u001b[1;33m(\u001b[0m\u001b[0mself\u001b[0m\u001b[1;33m.\u001b[0m\u001b[0mitems\u001b[0m\u001b[1;33m)\u001b[0m\u001b[1;33m)\u001b[0m\u001b[1;33m[\u001b[0m\u001b[0misnull\u001b[0m\u001b[1;33m(\u001b[0m\u001b[0mself\u001b[0m\u001b[1;33m.\u001b[0m\u001b[0mitems\u001b[0m\u001b[1;33m)\u001b[0m\u001b[1;33m]\u001b[0m\u001b[1;33m\u001b[0m\u001b[0m\n",
      "\u001b[1;32mc:\\users\\ankur\\appdata\\local\\programs\\python\\python36\\lib\\site-packages\\pandas\\core\\indexes\\base.py\u001b[0m in \u001b[0;36mget_loc\u001b[1;34m(self, key, method, tolerance)\u001b[0m\n\u001b[0;32m   2442\u001b[0m                 \u001b[1;32mreturn\u001b[0m \u001b[0mself\u001b[0m\u001b[1;33m.\u001b[0m\u001b[0m_engine\u001b[0m\u001b[1;33m.\u001b[0m\u001b[0mget_loc\u001b[0m\u001b[1;33m(\u001b[0m\u001b[0mkey\u001b[0m\u001b[1;33m)\u001b[0m\u001b[1;33m\u001b[0m\u001b[0m\n\u001b[0;32m   2443\u001b[0m             \u001b[1;32mexcept\u001b[0m \u001b[0mKeyError\u001b[0m\u001b[1;33m:\u001b[0m\u001b[1;33m\u001b[0m\u001b[0m\n\u001b[1;32m-> 2444\u001b[1;33m                 \u001b[1;32mreturn\u001b[0m \u001b[0mself\u001b[0m\u001b[1;33m.\u001b[0m\u001b[0m_engine\u001b[0m\u001b[1;33m.\u001b[0m\u001b[0mget_loc\u001b[0m\u001b[1;33m(\u001b[0m\u001b[0mself\u001b[0m\u001b[1;33m.\u001b[0m\u001b[0m_maybe_cast_indexer\u001b[0m\u001b[1;33m(\u001b[0m\u001b[0mkey\u001b[0m\u001b[1;33m)\u001b[0m\u001b[1;33m)\u001b[0m\u001b[1;33m\u001b[0m\u001b[0m\n\u001b[0m\u001b[0;32m   2445\u001b[0m \u001b[1;33m\u001b[0m\u001b[0m\n\u001b[0;32m   2446\u001b[0m         \u001b[0mindexer\u001b[0m \u001b[1;33m=\u001b[0m \u001b[0mself\u001b[0m\u001b[1;33m.\u001b[0m\u001b[0mget_indexer\u001b[0m\u001b[1;33m(\u001b[0m\u001b[1;33m[\u001b[0m\u001b[0mkey\u001b[0m\u001b[1;33m]\u001b[0m\u001b[1;33m,\u001b[0m \u001b[0mmethod\u001b[0m\u001b[1;33m=\u001b[0m\u001b[0mmethod\u001b[0m\u001b[1;33m,\u001b[0m \u001b[0mtolerance\u001b[0m\u001b[1;33m=\u001b[0m\u001b[0mtolerance\u001b[0m\u001b[1;33m)\u001b[0m\u001b[1;33m\u001b[0m\u001b[0m\n",
      "\u001b[1;32mpandas\\_libs\\index.pyx\u001b[0m in \u001b[0;36mpandas._libs.index.IndexEngine.get_loc (pandas\\_libs\\index.c:5280)\u001b[1;34m()\u001b[0m\n",
      "\u001b[1;32mpandas\\_libs\\index.pyx\u001b[0m in \u001b[0;36mpandas._libs.index.IndexEngine.get_loc (pandas\\_libs\\index.c:5126)\u001b[1;34m()\u001b[0m\n",
      "\u001b[1;32mpandas\\_libs\\hashtable_class_helper.pxi\u001b[0m in \u001b[0;36mpandas._libs.hashtable.PyObjectHashTable.get_item (pandas\\_libs\\hashtable.c:20523)\u001b[1;34m()\u001b[0m\n",
      "\u001b[1;32mpandas\\_libs\\hashtable_class_helper.pxi\u001b[0m in \u001b[0;36mpandas._libs.hashtable.PyObjectHashTable.get_item (pandas\\_libs\\hashtable.c:20477)\u001b[1;34m()\u001b[0m\n",
      "\u001b[1;31mKeyError\u001b[0m: 'GarageCond'"
     ]
    }
   ],
   "source": [
    "df['GarageCondition'] = df['GarageCond'].map(z)\n",
    "\n",
    "df.drop(['GarageCond'],axis = 1, inplace=True)"
   ]
  },
  {
   "cell_type": "code",
   "execution_count": 148,
   "metadata": {},
   "outputs": [
    {
     "ename": "ValueError",
     "evalue": "labels ['MiscFeature'] not contained in axis",
     "output_type": "error",
     "traceback": [
      "\u001b[1;31m---------------------------------------------------------------------------\u001b[0m",
      "\u001b[1;31mValueError\u001b[0m                                Traceback (most recent call last)",
      "\u001b[1;32m<ipython-input-148-7e14f1643ffa>\u001b[0m in \u001b[0;36m<module>\u001b[1;34m()\u001b[0m\n\u001b[0;32m      7\u001b[0m \u001b[1;31m#df.drop(['ExterCond'],axis = 1, inplace=True)\u001b[0m\u001b[1;33m\u001b[0m\u001b[1;33m\u001b[0m\u001b[0m\n\u001b[0;32m      8\u001b[0m \u001b[1;31m#df.drop(['BsmtCondition'],axis = 1, inplace=True)\u001b[0m\u001b[1;33m\u001b[0m\u001b[1;33m\u001b[0m\u001b[0m\n\u001b[1;32m----> 9\u001b[1;33m \u001b[0mdf\u001b[0m\u001b[1;33m.\u001b[0m\u001b[0mdrop\u001b[0m\u001b[1;33m(\u001b[0m\u001b[1;33m[\u001b[0m\u001b[1;34m'MiscFeature'\u001b[0m\u001b[1;33m]\u001b[0m\u001b[1;33m,\u001b[0m\u001b[0maxis\u001b[0m \u001b[1;33m=\u001b[0m \u001b[1;36m1\u001b[0m\u001b[1;33m,\u001b[0m \u001b[0minplace\u001b[0m\u001b[1;33m=\u001b[0m\u001b[1;32mTrue\u001b[0m\u001b[1;33m)\u001b[0m\u001b[1;33m\u001b[0m\u001b[0m\n\u001b[0m",
      "\u001b[1;32mc:\\users\\ankur\\appdata\\local\\programs\\python\\python36\\lib\\site-packages\\pandas\\core\\generic.py\u001b[0m in \u001b[0;36mdrop\u001b[1;34m(self, labels, axis, level, inplace, errors)\u001b[0m\n\u001b[0;32m   2159\u001b[0m                 \u001b[0mnew_axis\u001b[0m \u001b[1;33m=\u001b[0m \u001b[0maxis\u001b[0m\u001b[1;33m.\u001b[0m\u001b[0mdrop\u001b[0m\u001b[1;33m(\u001b[0m\u001b[0mlabels\u001b[0m\u001b[1;33m,\u001b[0m \u001b[0mlevel\u001b[0m\u001b[1;33m=\u001b[0m\u001b[0mlevel\u001b[0m\u001b[1;33m,\u001b[0m \u001b[0merrors\u001b[0m\u001b[1;33m=\u001b[0m\u001b[0merrors\u001b[0m\u001b[1;33m)\u001b[0m\u001b[1;33m\u001b[0m\u001b[0m\n\u001b[0;32m   2160\u001b[0m             \u001b[1;32melse\u001b[0m\u001b[1;33m:\u001b[0m\u001b[1;33m\u001b[0m\u001b[0m\n\u001b[1;32m-> 2161\u001b[1;33m                 \u001b[0mnew_axis\u001b[0m \u001b[1;33m=\u001b[0m \u001b[0maxis\u001b[0m\u001b[1;33m.\u001b[0m\u001b[0mdrop\u001b[0m\u001b[1;33m(\u001b[0m\u001b[0mlabels\u001b[0m\u001b[1;33m,\u001b[0m \u001b[0merrors\u001b[0m\u001b[1;33m=\u001b[0m\u001b[0merrors\u001b[0m\u001b[1;33m)\u001b[0m\u001b[1;33m\u001b[0m\u001b[0m\n\u001b[0m\u001b[0;32m   2162\u001b[0m             \u001b[0mdropped\u001b[0m \u001b[1;33m=\u001b[0m \u001b[0mself\u001b[0m\u001b[1;33m.\u001b[0m\u001b[0mreindex\u001b[0m\u001b[1;33m(\u001b[0m\u001b[1;33m**\u001b[0m\u001b[1;33m{\u001b[0m\u001b[0maxis_name\u001b[0m\u001b[1;33m:\u001b[0m \u001b[0mnew_axis\u001b[0m\u001b[1;33m}\u001b[0m\u001b[1;33m)\u001b[0m\u001b[1;33m\u001b[0m\u001b[0m\n\u001b[0;32m   2163\u001b[0m             \u001b[1;32mtry\u001b[0m\u001b[1;33m:\u001b[0m\u001b[1;33m\u001b[0m\u001b[0m\n",
      "\u001b[1;32mc:\\users\\ankur\\appdata\\local\\programs\\python\\python36\\lib\\site-packages\\pandas\\core\\indexes\\base.py\u001b[0m in \u001b[0;36mdrop\u001b[1;34m(self, labels, errors)\u001b[0m\n\u001b[0;32m   3622\u001b[0m             \u001b[1;32mif\u001b[0m \u001b[0merrors\u001b[0m \u001b[1;33m!=\u001b[0m \u001b[1;34m'ignore'\u001b[0m\u001b[1;33m:\u001b[0m\u001b[1;33m\u001b[0m\u001b[0m\n\u001b[0;32m   3623\u001b[0m                 raise ValueError('labels %s not contained in axis' %\n\u001b[1;32m-> 3624\u001b[1;33m                                  labels[mask])\n\u001b[0m\u001b[0;32m   3625\u001b[0m             \u001b[0mindexer\u001b[0m \u001b[1;33m=\u001b[0m \u001b[0mindexer\u001b[0m\u001b[1;33m[\u001b[0m\u001b[1;33m~\u001b[0m\u001b[0mmask\u001b[0m\u001b[1;33m]\u001b[0m\u001b[1;33m\u001b[0m\u001b[0m\n\u001b[0;32m   3626\u001b[0m         \u001b[1;32mreturn\u001b[0m \u001b[0mself\u001b[0m\u001b[1;33m.\u001b[0m\u001b[0mdelete\u001b[0m\u001b[1;33m(\u001b[0m\u001b[0mindexer\u001b[0m\u001b[1;33m)\u001b[0m\u001b[1;33m\u001b[0m\u001b[0m\n",
      "\u001b[1;31mValueError\u001b[0m: labels ['MiscFeature'] not contained in axis"
     ]
    }
   ],
   "source": [
    "df.drop(['BsmtExposure'],axis = 1, inplace=True)\n",
    "#df.drop(['KitchenQual','HeatingQC','ExterQual'],axis = 1, inplace=True)\n",
    "#df.drop(['FireplaceQu','GarageQual'],axis = 1, inplace=True)\n",
    "#df.drop(['GarageCond'],axis = 1, inplace=True)\n",
    "#df.drop(['PoolQC'],axis = 1, inplace=True)\n",
    "#df.drop(['ExterCond'],axis = 1, inplace=True)\n",
    "#df.drop(['ExterCond'],axis = 1, inplace=True)\n",
    "#df.drop(['BsmtCondition'],axis = 1, inplace=True)\n",
    "df.drop(['MiscFeature'],axis = 1, inplace=True)\n"
   ]
  },
  {
   "cell_type": "code",
   "execution_count": 149,
   "metadata": {},
   "outputs": [
    {
     "data": {
      "text/plain": [
       "Index(['Id', 'MSSubClass', 'MSZoning', 'LotFrontage', 'LotArea', 'Street',\n",
       "       'Alley', 'LotShape', 'LandContour', 'Utilities', 'LotConfig',\n",
       "       'LandSlope', 'Neighborhood', 'Condition1', 'Condition2', 'BldgType',\n",
       "       'HouseStyle', 'OverallQual', 'OverallCond', 'YearBuilt', 'YearRemodAdd',\n",
       "       'RoofStyle', 'RoofMatl', 'Exterior1st', 'Exterior2nd', 'MasVnrType',\n",
       "       'MasVnrArea', 'ExterQual', 'ExterCond', 'Foundation', 'BsmtQual',\n",
       "       'BsmtCond', 'BsmtFinType1', 'BsmtFinSF1', 'BsmtFinType2', 'BsmtFinSF2',\n",
       "       'BsmtUnfSF', 'TotalBsmtSF', 'Heating', 'HeatingQC', 'CentralAir',\n",
       "       'Electrical', '1stFlrSF', '2ndFlrSF', 'LowQualFinSF', 'GrLivArea',\n",
       "       'BsmtFullBath', 'BsmtHalfBath', 'FullBath', 'HalfBath', 'BedroomAbvGr',\n",
       "       'KitchenAbvGr', 'KitchenQual', 'TotRmsAbvGrd', 'Functional',\n",
       "       'Fireplaces', 'FireplaceQu', 'GarageType', 'GarageYrBlt',\n",
       "       'GarageFinish', 'GarageCars', 'GarageArea', 'GarageQual', 'PavedDrive',\n",
       "       'WoodDeckSF', 'OpenPorchSF', 'EnclosedPorch', '3SsnPorch',\n",
       "       'ScreenPorch', 'PoolArea', 'PoolQC', 'Fence', 'MiscVal', 'MoSold',\n",
       "       'YrSold', 'SaleType', 'SaleCondition', 'SalePrice', 'Garage',\n",
       "       'isRemodAdd', 'yrsOld', 'RemodAddNumYrs', 'numOfBsmt', 'TotalFinBsmtSF',\n",
       "       'TotalBaths', 'GarageYrsOld', 'TotalPorchArea', 'HeatingQuality',\n",
       "       'ExterQuality', 'KitchenQuality', 'PoolQuality', 'BsmtCondition',\n",
       "       'GarageCondition', 'BsmtExposureMapped'],\n",
       "      dtype='object')"
      ]
     },
     "execution_count": 149,
     "metadata": {},
     "output_type": "execute_result"
    }
   ],
   "source": [
    "SalePrice = df[['Id','SalePrice']]\n",
    "SalePrice[['Id','SalePrice']].iloc[0]\n",
    "df.columns"
   ]
  },
  {
   "cell_type": "code",
   "execution_count": 150,
   "metadata": {},
   "outputs": [
    {
     "data": {
      "image/png": "[encoded data removed]",
      "text/plain": [
       "<matplotlib.figure.Figure at 0x1ce44d85fd0>"
      ]
     },
     "metadata": {},
     "output_type": "display_data"
    }
   ],
   "source": [
    "sns.lmplot(x='YrSold', y = 'SalePrice', data = df)\n",
    "plt.tight_layout()"
   ]
  },
  {
   "cell_type": "code",
   "execution_count": 151,
   "metadata": {},
   "outputs": [
    {
     "name": "stdout",
     "output_type": "stream",
     "text": [
      "None\n"
     ]
    },
    {
     "data": {
      "text/plain": [
       "Index(['1stFlrSF', '2ndFlrSF', '3SsnPorch', 'BedroomAbvGr', 'BsmtCondition',\n",
       "       'BsmtExposureMapped', 'BsmtFinSF1', 'BsmtFinSF2', 'BsmtFullBath',\n",
       "       'BsmtHalfBath', 'BsmtUnfSF', 'EnclosedPorch', 'ExterQuality',\n",
       "       'Fireplaces', 'FullBath', 'Garage', 'GarageArea', 'GarageCars',\n",
       "       'GarageCondition', 'GarageYrsOld', 'GrLivArea', 'HalfBath',\n",
       "       'HeatingQuality', 'Id', 'KitchenAbvGr', 'KitchenQuality', 'LotArea',\n",
       "       'LotFrontage', 'LowQualFinSF', 'MasVnrArea', 'MiscVal', 'OpenPorchSF',\n",
       "       'OverallCond', 'OverallQual', 'PoolArea', 'PoolQuality',\n",
       "       'RemodAddNumYrs', 'SalePrice', 'ScreenPorch', 'TotRmsAbvGrd',\n",
       "       'TotalBaths', 'TotalBsmtSF', 'TotalFinBsmtSF', 'TotalPorchArea',\n",
       "       'WoodDeckSF', 'isRemodAdd', 'numOfBsmt', 'yrsOld'],\n",
       "      dtype='object')"
      ]
     },
     "execution_count": 151,
     "metadata": {},
     "output_type": "execute_result"
    }
   ],
   "source": [
    "#column_types = list()\n",
    "#for x in df.columns:\n",
    "#    column_types.append((x,type(df[x].iloc[0])))\n",
    "column_types=[(x,type(df[x].iloc[0])) for x in df.columns]\n",
    "cat_columns = [x for (x,coltype) in column_types if coltype==str]\n",
    "numerical_columns = df.columns.difference(cat_columns)\n",
    "date_columns = ['YearRemodAdd', 'YrSold' , 'YearBuilt', 'MoSold', 'GarageYrBlt']\n",
    "len(df.columns) - (len(cat_columns)+len(numerical_columns))\n",
    "numerical_columns = numerical_columns.difference(['MSSubClass'])\n",
    "cat_columns = cat_columns.append('MSSubClass')\n",
    "numerical_columns.difference(date_columns)\n",
    "print(['Id','SalePrice'].append(date_columns))\n",
    "cols_normalize = numerical_columns.difference(date_columns)\n",
    "cols_normalize"
   ]
  },
  {
   "cell_type": "code",
   "execution_count": null,
   "metadata": {
    "collapsed": true
   },
   "outputs": [],
   "source": []
  },
  {
   "cell_type": "code",
   "execution_count": 152,
   "metadata": {},
   "outputs": [
    {
     "data": {
      "text/html": [
       "<div>\n",
       "<style>\n",
       "    .dataframe thead tr:only-child th {\n",
       "        text-align: right;\n",
       "    }\n",
       "\n",
       "    .dataframe thead th {\n",
       "        text-align: left;\n",
       "    }\n",
       "\n",
       "    .dataframe tbody tr th {\n",
       "        vertical-align: top;\n",
       "    }\n",
       "</style>\n",
       "<table border=\"1\" class=\"dataframe\">\n",
       "  <thead>\n",
       "    <tr style=\"text-align: right;\">\n",
       "      <th></th>\n",
       "      <th>Id</th>\n",
       "      <th>MSSubClass</th>\n",
       "      <th>MSZoning</th>\n",
       "      <th>LotFrontage</th>\n",
       "      <th>LotArea</th>\n",
       "      <th>Street</th>\n",
       "      <th>Alley</th>\n",
       "      <th>LotShape</th>\n",
       "      <th>LandContour</th>\n",
       "      <th>Utilities</th>\n",
       "      <th>...</th>\n",
       "      <th>TotalBaths</th>\n",
       "      <th>GarageYrsOld</th>\n",
       "      <th>TotalPorchArea</th>\n",
       "      <th>HeatingQuality</th>\n",
       "      <th>ExterQuality</th>\n",
       "      <th>KitchenQuality</th>\n",
       "      <th>PoolQuality</th>\n",
       "      <th>BsmtCondition</th>\n",
       "      <th>GarageCondition</th>\n",
       "      <th>BsmtExposureMapped</th>\n",
       "    </tr>\n",
       "  </thead>\n",
       "  <tbody>\n",
       "    <tr>\n",
       "      <th>0</th>\n",
       "      <td>1</td>\n",
       "      <td>60</td>\n",
       "      <td>RL</td>\n",
       "      <td>0.007365</td>\n",
       "      <td>0.957440</td>\n",
       "      <td>Pave</td>\n",
       "      <td>NA</td>\n",
       "      <td>Reg</td>\n",
       "      <td>Lvl</td>\n",
       "      <td>AllPub</td>\n",
       "      <td>...</td>\n",
       "      <td>0.000397</td>\n",
       "      <td>0.000567</td>\n",
       "      <td>0.006912</td>\n",
       "      <td>0.000567</td>\n",
       "      <td>0.000453</td>\n",
       "      <td>0.000453</td>\n",
       "      <td>0.0</td>\n",
       "      <td>0.000340</td>\n",
       "      <td>0.000340</td>\n",
       "      <td>0.000000</td>\n",
       "    </tr>\n",
       "    <tr>\n",
       "      <th>1</th>\n",
       "      <td>2</td>\n",
       "      <td>20</td>\n",
       "      <td>RL</td>\n",
       "      <td>0.008027</td>\n",
       "      <td>0.963231</td>\n",
       "      <td>Pave</td>\n",
       "      <td>NA</td>\n",
       "      <td>Reg</td>\n",
       "      <td>Lvl</td>\n",
       "      <td>AllPub</td>\n",
       "      <td>...</td>\n",
       "      <td>0.000251</td>\n",
       "      <td>0.003110</td>\n",
       "      <td>0.029900</td>\n",
       "      <td>0.000502</td>\n",
       "      <td>0.000301</td>\n",
       "      <td>0.000301</td>\n",
       "      <td>0.0</td>\n",
       "      <td>0.000301</td>\n",
       "      <td>0.000301</td>\n",
       "      <td>0.000301</td>\n",
       "    </tr>\n",
       "    <tr>\n",
       "      <th>2</th>\n",
       "      <td>3</td>\n",
       "      <td>60</td>\n",
       "      <td>RL</td>\n",
       "      <td>0.005891</td>\n",
       "      <td>0.974546</td>\n",
       "      <td>Pave</td>\n",
       "      <td>NA</td>\n",
       "      <td>IR1</td>\n",
       "      <td>Lvl</td>\n",
       "      <td>AllPub</td>\n",
       "      <td>...</td>\n",
       "      <td>0.000303</td>\n",
       "      <td>0.000606</td>\n",
       "      <td>0.003638</td>\n",
       "      <td>0.000433</td>\n",
       "      <td>0.000347</td>\n",
       "      <td>0.000347</td>\n",
       "      <td>0.0</td>\n",
       "      <td>0.000260</td>\n",
       "      <td>0.000260</td>\n",
       "      <td>0.000087</td>\n",
       "    </tr>\n",
       "    <tr>\n",
       "      <th>3</th>\n",
       "      <td>4</td>\n",
       "      <td>70</td>\n",
       "      <td>RL</td>\n",
       "      <td>0.006086</td>\n",
       "      <td>0.968671</td>\n",
       "      <td>Pave</td>\n",
       "      <td>NA</td>\n",
       "      <td>IR1</td>\n",
       "      <td>Lvl</td>\n",
       "      <td>AllPub</td>\n",
       "      <td>...</td>\n",
       "      <td>0.000203</td>\n",
       "      <td>0.000811</td>\n",
       "      <td>0.031139</td>\n",
       "      <td>0.000406</td>\n",
       "      <td>0.000304</td>\n",
       "      <td>0.000406</td>\n",
       "      <td>0.0</td>\n",
       "      <td>0.000406</td>\n",
       "      <td>0.000304</td>\n",
       "      <td>0.000000</td>\n",
       "    </tr>\n",
       "    <tr>\n",
       "      <th>4</th>\n",
       "      <td>5</td>\n",
       "      <td>60</td>\n",
       "      <td>RL</td>\n",
       "      <td>0.005743</td>\n",
       "      <td>0.974892</td>\n",
       "      <td>Pave</td>\n",
       "      <td>NA</td>\n",
       "      <td>IR1</td>\n",
       "      <td>Lvl</td>\n",
       "      <td>AllPub</td>\n",
       "      <td>...</td>\n",
       "      <td>0.000239</td>\n",
       "      <td>0.000547</td>\n",
       "      <td>0.018869</td>\n",
       "      <td>0.000342</td>\n",
       "      <td>0.000273</td>\n",
       "      <td>0.000273</td>\n",
       "      <td>0.0</td>\n",
       "      <td>0.000205</td>\n",
       "      <td>0.000205</td>\n",
       "      <td>0.000137</td>\n",
       "    </tr>\n",
       "  </tbody>\n",
       "</table>\n",
       "<p>5 rows × 94 columns</p>\n",
       "</div>"
      ],
      "text/plain": [
       "   Id  MSSubClass MSZoning  LotFrontage   LotArea Street Alley LotShape  \\\n",
       "0   1          60       RL     0.007365  0.957440   Pave    NA      Reg   \n",
       "1   2          20       RL     0.008027  0.963231   Pave    NA      Reg   \n",
       "2   3          60       RL     0.005891  0.974546   Pave    NA      IR1   \n",
       "3   4          70       RL     0.006086  0.968671   Pave    NA      IR1   \n",
       "4   5          60       RL     0.005743  0.974892   Pave    NA      IR1   \n",
       "\n",
       "  LandContour Utilities         ...         TotalBaths GarageYrsOld  \\\n",
       "0         Lvl    AllPub         ...           0.000397     0.000567   \n",
       "1         Lvl    AllPub         ...           0.000251     0.003110   \n",
       "2         Lvl    AllPub         ...           0.000303     0.000606   \n",
       "3         Lvl    AllPub         ...           0.000203     0.000811   \n",
       "4         Lvl    AllPub         ...           0.000239     0.000547   \n",
       "\n",
       "  TotalPorchArea HeatingQuality ExterQuality KitchenQuality PoolQuality  \\\n",
       "0       0.006912       0.000567     0.000453       0.000453         0.0   \n",
       "1       0.029900       0.000502     0.000301       0.000301         0.0   \n",
       "2       0.003638       0.000433     0.000347       0.000347         0.0   \n",
       "3       0.031139       0.000406     0.000304       0.000406         0.0   \n",
       "4       0.018869       0.000342     0.000273       0.000273         0.0   \n",
       "\n",
       "   BsmtCondition  GarageCondition  BsmtExposureMapped  \n",
       "0       0.000340         0.000340            0.000000  \n",
       "1       0.000301         0.000301            0.000301  \n",
       "2       0.000260         0.000260            0.000087  \n",
       "3       0.000406         0.000304            0.000000  \n",
       "4       0.000205         0.000205            0.000137  \n",
       "\n",
       "[5 rows x 94 columns]"
      ]
     },
     "execution_count": 152,
     "metadata": {},
     "output_type": "execute_result"
    }
   ],
   "source": [
    "from sklearn.preprocessing import Normalizer\n",
    "normalizer  = Normalizer().fit(df[numerical_columns])\n",
    "dff_n = df.copy()\n",
    "dff_n[cols_normalize.difference(['Id','SalePrice'])] = pd.DataFrame(normalizer.transform(df[cols_normalize].drop(['Id','SalePrice'], axis =1)), columns= cols_normalize.difference(['Id','SalePrice']))\n",
    "#dff_n = pd.concat(dff_n.append(SalePrice)\n",
    "#dff_n[['Id','SalePrice']].merge(SalePrice)\n",
    "dff_n[['Id','SalePrice']] = SalePrice\n",
    "dff_n.head()"
   ]
  },
  {
   "cell_type": "code",
   "execution_count": 153,
   "metadata": {
    "collapsed": true,
    "scrolled": true
   },
   "outputs": [],
   "source": [
    "#dff=pd.get_dummies(dff_n.drop(['BsmtCond'],axis=1))\n",
    "dff=pd.get_dummies(dff_n.drop(['numOfBsmt','BsmtUnfSF', 'HalfBath', 'FullBath', 'BsmtHalfBath', 'BsmtHalfBath'],axis=1))\n",
    "#dff['MSSubClass']=pd.get_dummies(dff['MSSubClass'])\n",
    "#dff=dff.copy()"
   ]
  },
  {
   "cell_type": "code",
   "execution_count": 154,
   "metadata": {
    "collapsed": true
   },
   "outputs": [],
   "source": [
    "dff = dff.merge(pd.get_dummies(dff['MSSubClass'], prefix='MSSubClass'), on = df.index.values)\n",
    "dff.index.values\n",
    "dff.drop('MSSubClass', axis = 1, inplace=True)\n"
   ]
  },
  {
   "cell_type": "code",
   "execution_count": 155,
   "metadata": {
    "collapsed": true
   },
   "outputs": [],
   "source": [
    "from sklearn.model_selection import train_test_split\n",
    "dff_train = dff.drop(['GarageCars','GarageArea', 'Id', 'SalePrice','YearRemodAdd','YearBuilt', 'WoodDeckSF','OpenPorchSF','EnclosedPorch','3SsnPorch','ScreenPorch'], axis =1)\n",
    "X_train, X_test, y_train, y_test = train_test_split(dff_train, dff['SalePrice'], test_size=0.3, random_state=101)"
   ]
  },
  {
   "cell_type": "code",
   "execution_count": null,
   "metadata": {
    "collapsed": true
   },
   "outputs": [],
   "source": []
  },
  {
   "cell_type": "code",
   "execution_count": 156,
   "metadata": {},
   "outputs": [
    {
     "data": {
      "text/plain": [
       "6"
      ]
     },
     "execution_count": 156,
     "metadata": {},
     "output_type": "execute_result"
    }
   ],
   "source": [
    "from sklearn.ensemble import RandomForestRegressor\n",
    "from collections import Counter\n",
    "rf = RandomForestRegressor(random_state=101)\n",
    "rf.fit(X_train,y_train)\n",
    "scores =sorted(list(zip(map(lambda x: round(x, 4), rf.feature_importances_),X_train.columns)),reverse=True)\n",
    "c =Counter([y.partition('_')[0] for (x,y) in scores])\n",
    "c['Heating']"
   ]
  },
  {
   "cell_type": "code",
   "execution_count": 167,
   "metadata": {},
   "outputs": [
    {
     "data": {
      "text/plain": [
       "0.190160393178179"
      ]
     },
     "execution_count": 167,
     "metadata": {},
     "output_type": "execute_result"
    }
   ],
   "source": [
    "from sklearn.metrics import mean_squared_log_error\n",
    "from math import sqrt\n",
    "pred = rf.predict(X_test)\n",
    "rmse = sqrt(mean_squared_log_error(y_test, pred))\n",
    "rmse"
   ]
  },
  {
   "cell_type": "code",
   "execution_count": 159,
   "metadata": {},
   "outputs": [
    {
     "data": {
      "text/plain": [
       "LogisticRegression(C=1.0, class_weight=None, dual=False, fit_intercept=True,\n",
       "          intercept_scaling=1, max_iter=100, multi_class='ovr', n_jobs=1,\n",
       "          penalty='l2', random_state=101, solver='liblinear', tol=0.0001,\n",
       "          verbose=0, warm_start=False)"
      ]
     },
     "execution_count": 159,
     "metadata": {},
     "output_type": "execute_result"
    }
   ],
   "source": [
    "from sklearn.linear_model import LogisticRegression\n",
    "\n",
    "lf = LogisticRegression(random_state=101)\n",
    "lf.fit(X_train,y_train)"
   ]
  },
  {
   "cell_type": "code",
   "execution_count": 160,
   "metadata": {},
   "outputs": [
    {
     "data": {
      "text/plain": [
       "0.2718384968592035"
      ]
     },
     "execution_count": 160,
     "metadata": {},
     "output_type": "execute_result"
    }
   ],
   "source": [
    "from sklearn.metrics import mean_squared_log_error\n",
    "from math import sqrt\n",
    "pred = lf.predict(X_test)\n",
    "rmse = sqrt(mean_squared_log_error(y_test, pred))\n",
    "rmse"
   ]
  },
  {
   "cell_type": "code",
   "execution_count": 1135,
   "metadata": {},
   "outputs": [
    {
     "name": "stdout",
     "output_type": "stream",
     "text": [
      "<class 'list'>\n"
     ]
    }
   ],
   "source": [
    "import operator\n",
    "def getscores(scores):\n",
    "    score = dict()\n",
    "    for row in scores:\n",
    "        name = row[1]\n",
    "        name = name.partition('_')[0]\n",
    "        if name in score.keys():\n",
    "            score[name]=score[name]+row[0]\n",
    "        else:\n",
    "            score[name]=row[0]\n",
    "    \n",
    "    for k, v in score.items():\n",
    "        score[k]=score[k]/c[k]\n",
    "    sorted_x = sorted(score.items(), key=operator.itemgetter(1),reverse=True)\n",
    "    return sorted_x\n",
    "x = getscores(scores)            \n",
    "print(type(x))"
   ]
  },
  {
   "cell_type": "code",
   "execution_count": 1157,
   "metadata": {},
   "outputs": [
    {
     "data": {
      "text/plain": [
       "0.2653877574103045"
      ]
     },
     "execution_count": 1157,
     "metadata": {},
     "output_type": "execute_result"
    }
   ],
   "source": [
    "from sklearn.decomposition import PCA\n",
    "pca = PCA(n_components=10)\n",
    "pca.fit(dff_train)\n",
    "dff_pca = pca.transform(dff_train)\n",
    "X_train, X_test, y_train, y_test = train_test_split(dff_pca, dff['SalePrice'], test_size=0.3, random_state=101)\n",
    "rf.fit(X_train, y_train)\n",
    "pred = rf.predict(X_test)\n",
    "rmse = sqrt(mean_squared_log_error(y_test, pred))\n",
    "rmse"
   ]
  },
  {
   "cell_type": "code",
   "execution_count": 583,
   "metadata": {},
   "outputs": [
    {
     "data": {
      "text/plain": [
       "[('yrsOld', 0.35120000000000001),\n",
       " ('GarageYrsOld', 0.046600000000000003),\n",
       " ('OverallCond', 0.039699999999999999),\n",
       " ('KitchenAbvGr', 0.038699999999999998),\n",
       " ('Fireplaces', 0.034200000000000001),\n",
       " ('BsmtQual', 0.031880000000000006),\n",
       " ('RemodAddNumYrs', 0.0235),\n",
       " ('LotArea', 0.022200000000000001),\n",
       " ('GrLivArea', 0.0172),\n",
       " ('MasVnrArea', 0.0126),\n",
       " ('BsmtFinSF1', 0.0103),\n",
       " ('Garage', 0.0077999999999999996),\n",
       " ('TotalFinBsmtSF', 0.0077000000000000002),\n",
       " ('HeatingQuality', 0.0077000000000000002),\n",
       " ('key', 0.0071000000000000004),\n",
       " ('isRemodAdd', 0.0070000000000000001),\n",
       " ('PoolArea', 0.0066),\n",
       " ('LotFrontage', 0.0064000000000000003),\n",
       " ('2ndFlrSF', 0.0060000000000000001),\n",
       " ('ExterQuality', 0.0057999999999999996),\n",
       " ('TotalBaths', 0.0054999999999999997),\n",
       " ('1stFlrSF', 0.0054000000000000003),\n",
       " ('OverallQual', 0.0047999999999999996),\n",
       " ('FireplaceQu', 0.0044666666666666665),\n",
       " ('TotalPorchArea', 0.0043),\n",
       " ('TotalBsmtSF', 0.0043),\n",
       " ('BedroomAbvGr', 0.0043),\n",
       " ('KitchenQuality', 0.0038999999999999998),\n",
       " ('MoSold', 0.0038),\n",
       " ('BsmtFullBath', 0.0033),\n",
       " ('TotRmsAbvGrd', 0.0028),\n",
       " ('GarageYrBlt', 0.0020999999999999999),\n",
       " ('Neighborhood', 0.0019480000000000005),\n",
       " ('YrSold', 0.0015),\n",
       " ('PoolQC', 0.0013500000000000001),\n",
       " ('GarageFinish', 0.0011250000000000001),\n",
       " ('GarageType', 0.00089999999999999998),\n",
       " ('LotShape', 0.00059999999999999995),\n",
       " ('MasVnrType', 0.00054999999999999992),\n",
       " ('BsmtExposure', 0.00051999999999999985),\n",
       " ('MSZoning', 0.00040000000000000002),\n",
       " ('ExterCond', 0.00040000000000000002),\n",
       " ('Exterior1st', 0.00037333333333333332),\n",
       " ('BsmtFinType1', 0.00031428571428571427),\n",
       " ('LandContour', 0.00030000000000000003),\n",
       " ('LotConfig', 0.00030000000000000003),\n",
       " ('BsmtFinType2', 0.00029999999999999997),\n",
       " ('SaleCondition', 0.0002833333333333333),\n",
       " ('Exterior2nd', 0.00027500000000000002),\n",
       " ('Alley', 0.00023333333333333333),\n",
       " ('Fence', 0.00022000000000000001),\n",
       " ('RoofStyle', 0.00020000000000000001),\n",
       " ('HouseStyle', 0.00020000000000000001),\n",
       " ('BsmtFinSF2', 0.00020000000000000001),\n",
       " ('MSSubClass', 0.00017999999999999998),\n",
       " ('Foundation', 0.00016666666666666666),\n",
       " ('Functional', 0.00015714285714285716),\n",
       " ('CentralAir', 0.00015000000000000001),\n",
       " ('Condition1', 0.00014444444444444446),\n",
       " ('GarageQual', 8.3333333333333331e-05),\n",
       " ('SaleType', 6.666666666666667e-05),\n",
       " ('Electrical', 6.0000000000000008e-05),\n",
       " ('BsmtCond', 4.0000000000000003e-05),\n",
       " ('GarageCond', 3.3333333333333335e-05),\n",
       " ('PavedDrive', 3.3333333333333335e-05),\n",
       " ('BldgType', 2.0000000000000002e-05),\n",
       " ('LowQualFinSF', 0.0),\n",
       " ('RoofMatl', 0.0),\n",
       " ('Utilities', 0.0),\n",
       " ('LandSlope', 0.0),\n",
       " ('MiscFeature', 0.0),\n",
       " ('Street', 0.0),\n",
       " ('MiscVal', 0.0),\n",
       " ('Heating', 0.0),\n",
       " ('Condition2', 0.0)]"
      ]
     },
     "execution_count": 583,
     "metadata": {},
     "output_type": "execute_result"
    }
   ],
   "source": [
    "x"
   ]
  },
  {
   "cell_type": "code",
   "execution_count": 250,
   "metadata": {},
   "outputs": [
    {
     "name": "stderr",
     "output_type": "stream",
     "text": [
      "c:\\users\\ankur.sethi\\appdata\\local\\programs\\python\\python35\\lib\\site-packages\\sklearn\\feature_selection\\univariate_selection.py:298: RuntimeWarning: invalid value encountered in true_divide\n",
      "  corr /= X_norms\n",
      "c:\\users\\ankur.sethi\\appdata\\local\\programs\\python\\python35\\lib\\site-packages\\scipy\\stats\\_distn_infrastructure.py:879: RuntimeWarning: invalid value encountered in greater\n",
      "  return (self.a < x) & (x < self.b)\n",
      "c:\\users\\ankur.sethi\\appdata\\local\\programs\\python\\python35\\lib\\site-packages\\scipy\\stats\\_distn_infrastructure.py:879: RuntimeWarning: invalid value encountered in less\n",
      "  return (self.a < x) & (x < self.b)\n",
      "c:\\users\\ankur.sethi\\appdata\\local\\programs\\python\\python35\\lib\\site-packages\\scipy\\stats\\_distn_infrastructure.py:1818: RuntimeWarning: invalid value encountered in less_equal\n",
      "  cond2 = cond0 & (x <= self.a)\n"
     ]
    },
    {
     "data": {
      "text/plain": [
       "[('RoofMatl', nan),\n",
       " ('Functional', nan),\n",
       " ('ExterQual', 287.896725),\n",
       " ('KitchenQual', 228.441125),\n",
       " ('BsmtQual', 173.85156000000001),\n",
       " ('KitchenAbvGr', 170.94820000000001),\n",
       " ('GarageFinish', 146.59255000000002),\n",
       " ('BedroomAbvGr', 87.055800000000005),\n",
       " ('Fireplaces', 63.805799999999998),\n",
       " ('LotShape', 38.923875000000002),\n",
       " ('MSZoning', 38.187259999999995),\n",
       " ('MSSubClass', 37.098100000000002),\n",
       " ('isRemodAdd', 31.0427),\n",
       " ('TotRmsAbvGrd', 27.806699999999999),\n",
       " ('Neighborhood', 27.052187999999997),\n",
       " ('BsmtFinSF1', 26.0548),\n",
       " ('SaleType', 25.857144444444444),\n",
       " ('GarageCond', 24.742733333333334),\n",
       " ('GarageQual', 23.27003333333333),\n",
       " ('RoofStyle', 22.243483333333334),\n",
       " ('Electrical', 20.6553),\n",
       " ('TotalFinBsmtSF', 15.9232),\n",
       " ('Garage', 15.593999999999999),\n",
       " ('Exterior2nd', 15.319325000000003),\n",
       " ('TotalPorchArea', 14.940799999999999),\n",
       " ('HouseStyle', 14.8353625),\n",
       " ('Fence', 14.05674),\n",
       " ('PoolArea', 7.3795000000000002),\n",
       " ('LotConfig', 4.8474000000000004),\n",
       " ('LandContour', 4.7443499999999998),\n",
       " ('MoSold', 3.9664000000000001),\n",
       " ('LowQualFinSF', 3.9325999999999999),\n",
       " ('LotArea', 3.2995999999999999),\n",
       " ('BsmtFullBath', 2.9049999999999998),\n",
       " ('GrLivArea', 1.6006),\n",
       " ('LandSlope', 1.1800333333333333),\n",
       " ('Utilities', 0.30809999999999998),\n",
       " ('HeatingQC', nan),\n",
       " ('yrsOld', 515.10320000000002),\n",
       " ('OverallCond', 155.49260000000001),\n",
       " ('Foundation', 95.922900000000013),\n",
       " ('Exterior1st', nan),\n",
       " ('RemodAddNumYrs', 376.37900000000002),\n",
       " ('FireplaceQu', 86.514416666666648),\n",
       " ('MasVnrType', 85.58527500000001),\n",
       " ('GarageYrBlt', 68.913899999999998),\n",
       " ('GarageYrsOld', 65.186000000000007),\n",
       " ('GarageType', 59.362985714285706),\n",
       " ('CentralAir', 52.737499999999997),\n",
       " ('BsmtFinType1', 49.326857142857136),\n",
       " ('BsmtExposure', 44.546059999999997),\n",
       " ('MasVnrArea', 42.092100000000002),\n",
       " ('PavedDrive', 35.380366666666667),\n",
       " ('SaleCondition', 31.486466666666661),\n",
       " ('LotFrontage', 13.722200000000001),\n",
       " ('Alley', 12.250500000000001),\n",
       " ('PoolQC', 11.520475000000001),\n",
       " ('BsmtCond', 11.066279999999999),\n",
       " ('TotalBsmtSF', 10.623100000000001),\n",
       " ('BldgType', 10.066799999999999),\n",
       " ('BsmtFinType2', 7.3139142857142856),\n",
       " ('ExterCond', 6.4075599999999993),\n",
       " ('Condition1', 5.0899444444444439),\n",
       " ('BsmtFinSF2', 5.0359999999999996),\n",
       " ('OverallQual', 4.7542),\n",
       " ('Heating', 4.7390999999999996),\n",
       " ('MiscFeature', 3.1480199999999998),\n",
       " ('2ndFlrSF', 3.1347999999999998),\n",
       " ('YrSold', 2.5318999999999998),\n",
       " ('MiscVal', 2.3199999999999998),\n",
       " ('Condition2', 1.6073999999999999),\n",
       " ('Street', 1.0643),\n",
       " ('TotalBaths', 0.26960000000000001),\n",
       " ('1stFlrSF', 0.0574)]"
      ]
     },
     "execution_count": 250,
     "metadata": {},
     "output_type": "execute_result"
    }
   ],
   "source": [
    "from sklearn.feature_selection import SelectKBest\n",
    "from sklearn.feature_selection import f_regression\n",
    "selectkbest = SelectKBest(score_func=f_regression, k='all')\n",
    "fit = selectkbest.fit(X_train, y_train)\n",
    "scores_kbest =sorted(list(zip(map(lambda x: round(x, 4), fit.scores_),X_train.columns)),reverse=True)\n",
    "scores_kbest_n = getscores(scores_kbest)\n",
    "scores_kbest_n"
   ]
  },
  {
   "cell_type": "code",
   "execution_count": null,
   "metadata": {
    "collapsed": true
   },
   "outputs": [],
   "source": []
  },
  {
   "cell_type": "code",
   "execution_count": null,
   "metadata": {
    "collapsed": true
   },
   "outputs": [],
   "source": []
  },
  {
   "cell_type": "code",
   "execution_count": null,
   "metadata": {
    "collapsed": true
   },
   "outputs": [],
   "source": []
  },
  {
   "cell_type": "code",
   "execution_count": null,
   "metadata": {
    "collapsed": true
   },
   "outputs": [],
   "source": []
  },
  {
   "cell_type": "code",
   "execution_count": null,
   "metadata": {
    "collapsed": true
   },
   "outputs": [],
   "source": []
  },
  {
   "cell_type": "code",
   "execution_count": null,
   "metadata": {
    "collapsed": true
   },
   "outputs": [],
   "source": []
  }
 ],
 "metadata": {
  "kernelspec": {
   "display_name": "Python 3",
   "language": "python",
   "name": "python3"
  },
  "language_info": {
   "codemirror_mode": {
    "name": "ipython",
    "version": 3
   },
   "file_extension": ".py",
   "mimetype": "text/x-python",
   "name": "python",
   "nbconvert_exporter": "python",
   "pygments_lexer": "ipython3",
   "version": "3.6.2"
  }
 },
 "nbformat": 4,
 "nbformat_minor": 2
}
